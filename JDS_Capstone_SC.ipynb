{
 "cells": [
  {
   "cell_type": "markdown",
   "metadata": {},
   "source": [
    "<img src=\"../images/cads-logo.png\" style=\"height: 100px;\" align=left> \n",
    "<img src=\"../images/jds.png\" style=\"height: 100px;\" align=right> "
   ]
  },
  {
   "cell_type": "markdown",
   "metadata": {},
   "source": [
    "# JDS Capstone: Target Market Analysis\n",
    "\n",
    "You have been provided with information about the customers' historical purchase as the amount of money spent, Number of inactive months and so on. Two columns `Potential_Customer` and `Cust_Last_Purchase` represent the customers' respond to the latest advertisement. The column `Potential_Customer` represents if the customer purchased any product, and the column `Cust_Last_Purchase` represents the amount of this purchase and it is `Nan` if there has been no purchase."
   ]
  },
  {
   "cell_type": "markdown",
   "metadata": {},
   "source": [
    "## Data description\n",
    "- Below is the description of each feature available in the dataset.\n",
    "<img src=\"../images/MicrosoftTeams-image.png\" style=\"height: 700px\">"
   ]
  },
  {
   "cell_type": "markdown",
   "metadata": {},
   "source": [
    "## Objective\n",
    "**1. Design a predictive model to determine the potential customers who will purchase if you send the advertisement .** The target variable is `Potential_Customer`. \n",
    "\n",
    "    **Attention:** Because the column `Cust_Last_Purchase` relates to the target variable `Potential_Customer`, you need to exclude it from your model.\n",
    "\n",
    "**2. Calculate the value and the revenue of your model.** Fit your model on train set. Assume amonge the customers on your test set we only send advertisement to those your model predicted as Class1 and we ignore the rest. From the data you can calculate the average `Cust_Last_Purchase` for those who are in the train set and had the last purchase (`Cust_Last_Purchase`>0) . Assume sending advertisement to each customer costs 5$ and the average purchase you calculated on the train set remains the same for the test set. Calculate the value of your models to choose the best model.\n",
    "\n",
    "    - cost = advertisement_cost * number of the predicted positive\n",
    "    - lost = average_purchase * number of the predicted negative but they have been positive\n",
    "    - gain = average_purchase * number of the predicted positive and they have been positive\n",
    "    - value = gain - lost - cost\n",
    "    - revenue = gain - cost\n",
    "\n",
    "**3. Compare your best model's revenue with the revenue of the default solution which is sending advertisement to all the customers in X_test.** Which solution would you choose?\n",
    "\n",
    "    - cost = advertisement_cost * size of the test set\n",
    "    - gain = sum(Cust_Last_Purchase) on test set\n",
    "    - revenue = gain - cost\n",
    "    \n",
    "**4. Assume the next time you want to target a group of 30,000 customers simillar to this group. And assume the purchase rate is $10%$ which means 10 out of 100 people who receive the advertisement will purchase the product. Also assume your model will have the same Precision and Recall for Class1 .** Will you send the advertisement to everyone, or you use one of the models you have already created?\n",
    "\n",
    "    - calculate your model's revenue on this set of 30,000 customers based on the above assumptions\n",
    "    - calculate the revenue of the default model: send advertisement to everyone\n",
    "         - cost = advertisement_cost * size of the test set\n",
    "         - gain = average_purchase * purchase_rate\n",
    "         - revenue = gain - cost\n",
    "    \n",
    "**Hint:**\n",
    "    To calculate the revenue of a model for this new set of customers with different purchase rate we need to calculate the new confusion matrix given Precision and Recall for Class1 are fixed."
   ]
  },
  {
   "cell_type": "markdown",
   "metadata": {},
   "source": [
    "## Submission Guideline\n",
    "\n",
    "Perform the following:\n",
    "\n",
    "1. Create a team (2-3 people)\n",
    "2. Perform the following:\n",
    "    1. **Data Wrangling - Cleaning & Merging**: Check and handle the existance of missing values, the type of variables, or integrity of data\n",
    "    2. **Exploratory Data Analysis**: Analyze data to summarize their main characteristics\n",
    "    3. **Feature Engineering**: Make new features or change the current features\n",
    "    4. **Feature Selection**: Choose the best features\n",
    "    5. **Data Pre-Processing**: Make data usable for applying ML algorithms. \n",
    "    6. **Model Design**: Create several predictive models and tune the hyperparameters\n",
    "    7. **Model Evaluation**: Compare the performance of the models\n",
    "    8. **Bonus**: Any creative idea for improving machine learning models\n",
    "\n",
    "The output expected at the end of this capstone is:\n",
    "1. One **Jupyter notebook** containing all analysis performed using Python.\n",
    "2. One **PowerPoint** presentation containing the analysis results. Each group will be allocated 15-20 minutes (inclusive of Q&A) to present their analysis results to the class. \n",
    "\n",
    "**One zip file per group** is to be uploaded on **GDrive** by the **time** that will be given to you by the trainer, including the **jupyter notebook(s)** and the **powerpoint presentation** indicating the **names of all group members**."
   ]
  },
  {
   "cell_type": "markdown",
   "metadata": {},
   "source": [
    "## Presentation Guideline\n",
    "\n",
    "**Note(s):**\n",
    "1. Only **one submission** is required per group.\n",
    "2. Include full details in your notebook and **report only important results** in your presentation.\n",
    "3. Please only use Jupyter notebook (pandas) to clean the data (Do not clean manually using Excel)"
   ]
  },
  {
   "cell_type": "markdown",
   "metadata": {},
   "source": [
    "# Table of Content\n",
    "\n",
    "- [JDS Capstone: Target Market Analysis](#JDS-Capstone:-Target-Market-Analysis)\n",
    "- [Data description](#Data-description)\n",
    "- [Objective](#Objective)\n",
    "- [Submission Guideline](#Submission-Guideline)\n",
    "- [Presentation Guideline](#Presentation-Guideline)\n",
    "- [Table of Content](#Table-of-Content)\n",
    "- [0. Import necessary Packages](#0.-Import-necessary-Packages)\n",
    "- [1. Load the Data into Pandas Dataframe](#1.-Load-the-Data-into-Pandas-Dataframe)\n",
    "- [2. Data Cleaning](#2.-Data-Cleaning)\n",
    "    - [2.1 How big is the dataset? (number of rows, features and total datapoints)](#2.1-How-big-is-the-dataset?-(number-of-rows,-features-and-total-datapoints))\n",
    "    - [2.2 What is the type of each column?](#2.2-What-is-the-type-of-each-column?)\n",
    "        - [2.2.1 Why columns such as `Cust_Last_Purchase` are `object` while they should be `float64`? Fix the type of the columns as it should be.](#2.2.1-Why-columns-such-as-`Cust_Last_Purchase`-are-`object`-while-they-should-be-`float64`?-Fix-the-type-of-the-columns-as-it-should-be.)\n",
    "    - [2.3 Check data for duplicate rows and remove the duplicates](#2.3-Check-data-for-duplicate-rows-and-remove-the-duplicates)\n",
    "    - [2.4 Do we need `C_ID` in our analysis? Drop the columns you will not use in your analysis, if there is any.](#2.4-Do-we-need-`C_ID`-in-our-analysis?-Drop-the-columns-you-will-not-use-in-your-analysis,-if-there-is-any.)\n",
    "- [3. Exploratory Data Analysis (EDA)](#3.-Exploratory-Data-Analysis-(EDA))\n",
    "    - [3.1 Explore Categorical Variables](#3.2-Explore-Categorical-Variables)\n",
    "        - [3.1.1 Insight](#3.1.1-Insight)\n",
    "        - [3.1.2 Solution](#3.1.2-Solution)\n",
    "    - [3.2 Explore Relationship Between Categorical & Target Variable. Interpret the observation](#3.2-Explore-Relationship-Between-Categorical-&-Target-Variable.-Interpret-the-observation)\n",
    "        - [3.2.1. Insight](#3.2.1.-Insight)\n",
    "    - [3.3 Explore Numerical Variables](#3.3-Explore-Numerical-Variables)\n",
    "        - [3.3.1 Insight](#3.3.1-Insight)\n",
    "    - [3.4 Explore the Relationship between Numerical Variables & Target Variable. Interpret your observation](#3.4-Explore-the-Relationship-between-Numerical-Variables-&-Target-Variable.-Interpret-your-observation)\n",
    "    - [3.5 Explore the Relationship between the columns and try to answer the following questions:](#3.5-Explore-the-Relationship-between-the-columns-and-try-to-answer-the-following-questions:)\n",
    "- [4. Feature Enginearing](#4.-Feature-Enginearing)\n",
    "    - [4.1 Add Some High Level Features and explore their relationship with the target variable](#4.1-Add-Some-High-Level-Features-and-explore-their-relationship-with-the-target-variable)\n",
    "    - [4.2 Check Correlation between Numerical Variables](#4.2-Check-Correlation-between-Numerical-Variables)\n",
    "- [5. Feature Selection](#5.-Feature-Selection)\n",
    "- [6. Data PreProcessing](#6.-Data-PreProcessing)\n",
    "    - [6.1 Check the Data for Missing Values](#6.1-Check-the-Data-for-Missing-Values)\n",
    "    - [6.2 Separate X (features) and y (target)](#6.2-Separate-X-(features)-and-y-(target))\n",
    "    - [6.3 Split data to train/test](#6.3-Split-data-to-train/test)\n",
    "    - [6.4 Dummy Variables](#6.4-Dummy-Variables)\n",
    "    - [6.5 Feature Scaling](#6.5-Feature-Scaling)\n",
    "    - [6.6 PCA on Numerical Columns only](#6.6-PCA-on-Numerical-Columns-only)\n",
    "- [7. Objective 1: Machine Learning](#7.-Objective-1:-Machine-Learning)\n",
    "- [8. Objective 2](#8.-Objective-2)\n",
    "- [9. Objective 3](#9.-Objective-3)\n",
    "- [10. Objective 4](#10.-Objective-4)"
   ]
  },
  {
   "cell_type": "markdown",
   "metadata": {},
   "source": [
    "#   0. Import necessary Packages"
   ]
  },
  {
   "cell_type": "code",
   "execution_count": null,
   "metadata": {},
   "outputs": [],
   "source": []
  },
  {
   "cell_type": "code",
   "execution_count": 1,
   "metadata": {},
   "outputs": [],
   "source": [
    "# Importing relevant packages\n",
    "import pandas as pd\n",
    "import numpy as np\n",
    "import matplotlib.pyplot as plt\n",
    "import seaborn as sns\n",
    "\n",
    "from sklearn.linear_model import LogisticRegression\n",
    "from sklearn.ensemble import RandomForestClassifier, GradientBoostingClassifier\n",
    "from sklearn.neighbors import KNeighborsClassifier\n",
    "from sklearn.tree import DecisionTreeClassifier\n",
    "from sklearn.svm import SVC\n",
    "from sklearn.model_selection import train_test_split\n",
    "from sklearn.metrics import confusion_matrix\n",
    "from sklearn.preprocessing import StandardScaler\n",
    "from sklearn.model_selection import GridSearchCV\n",
    "from sklearn.metrics import recall_score, precision_score, f1_score\n",
    "from sklearn.model_selection import cross_val_score\n",
    "from sklearn.model_selection import cross_val_predict\n",
    "from sklearn.metrics import classification_report\n",
    "from sklearn.neural_network import MLPClassifier\n",
    "from sklearn.model_selection import cross_val_score, GridSearchCV\n",
    "from sklearn.metrics import SCORERS, roc_auc_score, f1_score\n",
    "from sklearn.metrics import accuracy_score\n",
    "import warnings\n",
    "warnings.filterwarnings(\"ignore\")"
   ]
  },
  {
   "cell_type": "markdown",
   "metadata": {},
   "source": [
    "#  1. Load the Data into Pandas Dataframe"
   ]
  },
  {
   "cell_type": "code",
   "execution_count": 387,
   "metadata": {},
   "outputs": [],
   "source": [
    "# Load the data into data dataframe\n",
    "data = pd.read_csv('./data.csv')"
   ]
  },
  {
   "cell_type": "code",
   "execution_count": 255,
   "metadata": {},
   "outputs": [
    {
     "data": {
      "text/html": [
       "<div>\n",
       "<style scoped>\n",
       "    .dataframe tbody tr th:only-of-type {\n",
       "        vertical-align: middle;\n",
       "    }\n",
       "\n",
       "    .dataframe tbody tr th {\n",
       "        vertical-align: top;\n",
       "    }\n",
       "\n",
       "    .dataframe thead th {\n",
       "        text-align: right;\n",
       "    }\n",
       "</style>\n",
       "<table border=\"1\" class=\"dataframe\">\n",
       "  <thead>\n",
       "    <tr style=\"text-align: right;\">\n",
       "      <th></th>\n",
       "      <th>0</th>\n",
       "      <th>1</th>\n",
       "      <th>2</th>\n",
       "      <th>3</th>\n",
       "      <th>4</th>\n",
       "    </tr>\n",
       "  </thead>\n",
       "  <tbody>\n",
       "    <tr>\n",
       "      <th>Potential_Customer</th>\n",
       "      <td>1</td>\n",
       "      <td>1</td>\n",
       "      <td>0</td>\n",
       "      <td>1</td>\n",
       "      <td>1</td>\n",
       "    </tr>\n",
       "    <tr>\n",
       "      <th>C_ID</th>\n",
       "      <td>9946</td>\n",
       "      <td>87939</td>\n",
       "      <td>88003</td>\n",
       "      <td>188721</td>\n",
       "      <td>88056</td>\n",
       "    </tr>\n",
       "    <tr>\n",
       "      <th>Cust_Last_Purchase</th>\n",
       "      <td>$5.00</td>\n",
       "      <td>$30.00</td>\n",
       "      <td>NaN</td>\n",
       "      <td>$20.00</td>\n",
       "      <td>$5.00</td>\n",
       "    </tr>\n",
       "    <tr>\n",
       "      <th>Pur_3_years</th>\n",
       "      <td>2</td>\n",
       "      <td>1</td>\n",
       "      <td>5</td>\n",
       "      <td>1</td>\n",
       "      <td>3</td>\n",
       "    </tr>\n",
       "    <tr>\n",
       "      <th>Pur_5_years</th>\n",
       "      <td>17</td>\n",
       "      <td>7</td>\n",
       "      <td>12</td>\n",
       "      <td>11</td>\n",
       "      <td>15</td>\n",
       "    </tr>\n",
       "    <tr>\n",
       "      <th>Pur_3_years_Indirect</th>\n",
       "      <td>2</td>\n",
       "      <td>0</td>\n",
       "      <td>3</td>\n",
       "      <td>0</td>\n",
       "      <td>2</td>\n",
       "    </tr>\n",
       "    <tr>\n",
       "      <th>Pur_5_years_Indirect</th>\n",
       "      <td>4</td>\n",
       "      <td>3</td>\n",
       "      <td>5</td>\n",
       "      <td>3</td>\n",
       "      <td>7</td>\n",
       "    </tr>\n",
       "    <tr>\n",
       "      <th>Pur_latest</th>\n",
       "      <td>$0.00</td>\n",
       "      <td>$25.00</td>\n",
       "      <td>$15.00</td>\n",
       "      <td>$20.00</td>\n",
       "      <td>$3.00</td>\n",
       "    </tr>\n",
       "    <tr>\n",
       "      <th>Pur_3_years_Avg</th>\n",
       "      <td>$7.50</td>\n",
       "      <td>$25.00</td>\n",
       "      <td>$15.00</td>\n",
       "      <td>$20.00</td>\n",
       "      <td>$4.33</td>\n",
       "    </tr>\n",
       "    <tr>\n",
       "      <th>Pur_5_years_Avg</th>\n",
       "      <td>$7.76</td>\n",
       "      <td>$13.00</td>\n",
       "      <td>$11.25</td>\n",
       "      <td>$12.45</td>\n",
       "      <td>$3.80</td>\n",
       "    </tr>\n",
       "    <tr>\n",
       "      <th>Pur_3_years_Avg_Indirect</th>\n",
       "      <td>$7.50</td>\n",
       "      <td>NaN</td>\n",
       "      <td>$14.67</td>\n",
       "      <td>NaN</td>\n",
       "      <td>$4.00</td>\n",
       "    </tr>\n",
       "    <tr>\n",
       "      <th>InAct_Last</th>\n",
       "      <td>14</td>\n",
       "      <td>18</td>\n",
       "      <td>19</td>\n",
       "      <td>5</td>\n",
       "      <td>17</td>\n",
       "    </tr>\n",
       "    <tr>\n",
       "      <th>InAct_First</th>\n",
       "      <td>110</td>\n",
       "      <td>75</td>\n",
       "      <td>57</td>\n",
       "      <td>113</td>\n",
       "      <td>118</td>\n",
       "    </tr>\n",
       "    <tr>\n",
       "      <th>Ad_Res_1_year</th>\n",
       "      <td>32</td>\n",
       "      <td>13</td>\n",
       "      <td>14</td>\n",
       "      <td>17</td>\n",
       "      <td>13</td>\n",
       "    </tr>\n",
       "    <tr>\n",
       "      <th>Ad_Res_3_Year</th>\n",
       "      <td>48</td>\n",
       "      <td>35</td>\n",
       "      <td>35</td>\n",
       "      <td>38</td>\n",
       "      <td>28</td>\n",
       "    </tr>\n",
       "    <tr>\n",
       "      <th>Ad_Res_5_Year</th>\n",
       "      <td>73</td>\n",
       "      <td>55</td>\n",
       "      <td>53</td>\n",
       "      <td>71</td>\n",
       "      <td>63</td>\n",
       "    </tr>\n",
       "    <tr>\n",
       "      <th>Ad_Res_Ind_1_Year</th>\n",
       "      <td>3</td>\n",
       "      <td>6</td>\n",
       "      <td>6</td>\n",
       "      <td>8</td>\n",
       "      <td>6</td>\n",
       "    </tr>\n",
       "    <tr>\n",
       "      <th>Ad_Res_Ind_3_Year</th>\n",
       "      <td>12</td>\n",
       "      <td>6</td>\n",
       "      <td>17</td>\n",
       "      <td>8</td>\n",
       "      <td>12</td>\n",
       "    </tr>\n",
       "    <tr>\n",
       "      <th>Ad_Res_Ind_5_Year</th>\n",
       "      <td>16</td>\n",
       "      <td>22</td>\n",
       "      <td>22</td>\n",
       "      <td>33</td>\n",
       "      <td>24</td>\n",
       "    </tr>\n",
       "    <tr>\n",
       "      <th>Status_Cust</th>\n",
       "      <td>A</td>\n",
       "      <td>A</td>\n",
       "      <td>S</td>\n",
       "      <td>A</td>\n",
       "      <td>S</td>\n",
       "    </tr>\n",
       "    <tr>\n",
       "      <th>Status_Latest_Ad</th>\n",
       "      <td>0</td>\n",
       "      <td>1</td>\n",
       "      <td>1</td>\n",
       "      <td>0</td>\n",
       "      <td>1</td>\n",
       "    </tr>\n",
       "    <tr>\n",
       "      <th>Age</th>\n",
       "      <td>71.0</td>\n",
       "      <td>7.0</td>\n",
       "      <td>79.0</td>\n",
       "      <td>73.0</td>\n",
       "      <td>68.0</td>\n",
       "    </tr>\n",
       "    <tr>\n",
       "      <th>Gender</th>\n",
       "      <td>F</td>\n",
       "      <td>M</td>\n",
       "      <td>F</td>\n",
       "      <td>F</td>\n",
       "      <td>F</td>\n",
       "    </tr>\n",
       "    <tr>\n",
       "      <th>Cust_Prop</th>\n",
       "      <td>H</td>\n",
       "      <td>U</td>\n",
       "      <td>U</td>\n",
       "      <td>U</td>\n",
       "      <td>H</td>\n",
       "    </tr>\n",
       "    <tr>\n",
       "      <th>Cust_Ann_Income</th>\n",
       "      <td>$65,957.00</td>\n",
       "      <td>$0.00</td>\n",
       "      <td>$0.00</td>\n",
       "      <td>$76,293.00</td>\n",
       "      <td>$113,663.00</td>\n",
       "    </tr>\n",
       "  </tbody>\n",
       "</table>\n",
       "</div>"
      ],
      "text/plain": [
       "                                    0        1        2            3  \\\n",
       "Potential_Customer                  1        1        0            1   \n",
       "C_ID                             9946    87939    88003       188721   \n",
       "Cust_Last_Purchase             $5.00   $30.00       NaN      $20.00    \n",
       "Pur_3_years                         2        1        5            1   \n",
       "Pur_5_years                        17        7       12           11   \n",
       "Pur_3_years_Indirect                2        0        3            0   \n",
       "Pur_5_years_Indirect                4        3        5            3   \n",
       "Pur_latest                     $0.00   $25.00   $15.00       $20.00    \n",
       "Pur_3_years_Avg                $7.50   $25.00   $15.00       $20.00    \n",
       "Pur_5_years_Avg                $7.76   $13.00   $11.25       $12.45    \n",
       "Pur_3_years_Avg_Indirect       $7.50       NaN  $14.67           NaN   \n",
       "InAct_Last                         14       18       19            5   \n",
       "InAct_First                       110       75       57          113   \n",
       "Ad_Res_1_year                      32       13       14           17   \n",
       "Ad_Res_3_Year                      48       35       35           38   \n",
       "Ad_Res_5_Year                      73       55       53           71   \n",
       "Ad_Res_Ind_1_Year                   3        6        6            8   \n",
       "Ad_Res_Ind_3_Year                  12        6       17            8   \n",
       "Ad_Res_Ind_5_Year                  16       22       22           33   \n",
       "Status_Cust                         A        A        S            A   \n",
       "Status_Latest_Ad                    0        1        1            0   \n",
       "Age                              71.0      7.0     79.0         73.0   \n",
       "Gender                              F        M        F            F   \n",
       "Cust_Prop                           H        U        U            U   \n",
       "Cust_Ann_Income           $65,957.00    $0.00    $0.00   $76,293.00    \n",
       "\n",
       "                                     4  \n",
       "Potential_Customer                   1  \n",
       "C_ID                             88056  \n",
       "Cust_Last_Purchase              $5.00   \n",
       "Pur_3_years                          3  \n",
       "Pur_5_years                         15  \n",
       "Pur_3_years_Indirect                 2  \n",
       "Pur_5_years_Indirect                 7  \n",
       "Pur_latest                      $3.00   \n",
       "Pur_3_years_Avg                 $4.33   \n",
       "Pur_5_years_Avg                 $3.80   \n",
       "Pur_3_years_Avg_Indirect        $4.00   \n",
       "InAct_Last                          17  \n",
       "InAct_First                        118  \n",
       "Ad_Res_1_year                       13  \n",
       "Ad_Res_3_Year                       28  \n",
       "Ad_Res_5_Year                       63  \n",
       "Ad_Res_Ind_1_Year                    6  \n",
       "Ad_Res_Ind_3_Year                   12  \n",
       "Ad_Res_Ind_5_Year                   24  \n",
       "Status_Cust                          S  \n",
       "Status_Latest_Ad                     1  \n",
       "Age                               68.0  \n",
       "Gender                               F  \n",
       "Cust_Prop                            H  \n",
       "Cust_Ann_Income           $113,663.00   "
      ]
     },
     "execution_count": 255,
     "metadata": {},
     "output_type": "execute_result"
    }
   ],
   "source": [
    "# View first 5 rows of dataframe\n",
    "data.head().T"
   ]
  },
  {
   "cell_type": "code",
   "execution_count": 256,
   "metadata": {},
   "outputs": [
    {
     "data": {
      "text/html": [
       "<div>\n",
       "<style scoped>\n",
       "    .dataframe tbody tr th:only-of-type {\n",
       "        vertical-align: middle;\n",
       "    }\n",
       "\n",
       "    .dataframe tbody tr th {\n",
       "        vertical-align: top;\n",
       "    }\n",
       "\n",
       "    .dataframe thead th {\n",
       "        text-align: right;\n",
       "    }\n",
       "</style>\n",
       "<table border=\"1\" class=\"dataframe\">\n",
       "  <thead>\n",
       "    <tr style=\"text-align: right;\">\n",
       "      <th></th>\n",
       "      <th>count</th>\n",
       "      <th>mean</th>\n",
       "      <th>std</th>\n",
       "      <th>min</th>\n",
       "      <th>25%</th>\n",
       "      <th>50%</th>\n",
       "      <th>75%</th>\n",
       "      <th>max</th>\n",
       "    </tr>\n",
       "  </thead>\n",
       "  <tbody>\n",
       "    <tr>\n",
       "      <th>Potential_Customer</th>\n",
       "      <td>4469.0</td>\n",
       "      <td>0.480868</td>\n",
       "      <td>0.499690</td>\n",
       "      <td>0.0</td>\n",
       "      <td>0.0</td>\n",
       "      <td>0.0</td>\n",
       "      <td>1.0</td>\n",
       "      <td>1.0</td>\n",
       "    </tr>\n",
       "    <tr>\n",
       "      <th>C_ID</th>\n",
       "      <td>4469.0</td>\n",
       "      <td>73837.719848</td>\n",
       "      <td>36156.968605</td>\n",
       "      <td>12.0</td>\n",
       "      <td>52713.0</td>\n",
       "      <td>75790.0</td>\n",
       "      <td>93705.0</td>\n",
       "      <td>191672.0</td>\n",
       "    </tr>\n",
       "    <tr>\n",
       "      <th>Pur_3_years</th>\n",
       "      <td>4469.0</td>\n",
       "      <td>3.297158</td>\n",
       "      <td>2.207326</td>\n",
       "      <td>0.0</td>\n",
       "      <td>2.0</td>\n",
       "      <td>3.0</td>\n",
       "      <td>4.0</td>\n",
       "      <td>15.0</td>\n",
       "    </tr>\n",
       "    <tr>\n",
       "      <th>Pur_5_years</th>\n",
       "      <td>4469.0</td>\n",
       "      <td>11.006042</td>\n",
       "      <td>9.459082</td>\n",
       "      <td>1.0</td>\n",
       "      <td>4.0</td>\n",
       "      <td>9.0</td>\n",
       "      <td>15.0</td>\n",
       "      <td>91.0</td>\n",
       "    </tr>\n",
       "    <tr>\n",
       "      <th>Pur_3_years_Indirect</th>\n",
       "      <td>4469.0</td>\n",
       "      <td>1.897516</td>\n",
       "      <td>1.629178</td>\n",
       "      <td>0.0</td>\n",
       "      <td>1.0</td>\n",
       "      <td>2.0</td>\n",
       "      <td>3.0</td>\n",
       "      <td>9.0</td>\n",
       "    </tr>\n",
       "    <tr>\n",
       "      <th>Pur_5_years_Indirect</th>\n",
       "      <td>4469.0</td>\n",
       "      <td>5.867756</td>\n",
       "      <td>4.939174</td>\n",
       "      <td>0.0</td>\n",
       "      <td>2.0</td>\n",
       "      <td>4.0</td>\n",
       "      <td>9.0</td>\n",
       "      <td>41.0</td>\n",
       "    </tr>\n",
       "    <tr>\n",
       "      <th>InAct_Last</th>\n",
       "      <td>4469.0</td>\n",
       "      <td>17.923697</td>\n",
       "      <td>4.130671</td>\n",
       "      <td>4.0</td>\n",
       "      <td>16.0</td>\n",
       "      <td>18.0</td>\n",
       "      <td>20.0</td>\n",
       "      <td>27.0</td>\n",
       "    </tr>\n",
       "    <tr>\n",
       "      <th>InAct_First</th>\n",
       "      <td>4469.0</td>\n",
       "      <td>73.605952</td>\n",
       "      <td>38.094688</td>\n",
       "      <td>15.0</td>\n",
       "      <td>40.0</td>\n",
       "      <td>74.0</td>\n",
       "      <td>111.0</td>\n",
       "      <td>260.0</td>\n",
       "    </tr>\n",
       "    <tr>\n",
       "      <th>Ad_Res_1_year</th>\n",
       "      <td>4469.0</td>\n",
       "      <td>13.070038</td>\n",
       "      <td>4.991064</td>\n",
       "      <td>3.0</td>\n",
       "      <td>11.0</td>\n",
       "      <td>12.0</td>\n",
       "      <td>13.0</td>\n",
       "      <td>49.0</td>\n",
       "    </tr>\n",
       "    <tr>\n",
       "      <th>Ad_Res_3_Year</th>\n",
       "      <td>4469.0</td>\n",
       "      <td>29.631237</td>\n",
       "      <td>7.787209</td>\n",
       "      <td>5.0</td>\n",
       "      <td>26.0</td>\n",
       "      <td>31.0</td>\n",
       "      <td>34.0</td>\n",
       "      <td>71.0</td>\n",
       "    </tr>\n",
       "    <tr>\n",
       "      <th>Ad_Res_5_Year</th>\n",
       "      <td>4469.0</td>\n",
       "      <td>49.683822</td>\n",
       "      <td>23.056042</td>\n",
       "      <td>7.0</td>\n",
       "      <td>31.0</td>\n",
       "      <td>51.0</td>\n",
       "      <td>66.0</td>\n",
       "      <td>157.0</td>\n",
       "    </tr>\n",
       "    <tr>\n",
       "      <th>Ad_Res_Ind_1_Year</th>\n",
       "      <td>4469.0</td>\n",
       "      <td>5.406355</td>\n",
       "      <td>1.361155</td>\n",
       "      <td>1.0</td>\n",
       "      <td>5.0</td>\n",
       "      <td>6.0</td>\n",
       "      <td>6.0</td>\n",
       "      <td>17.0</td>\n",
       "    </tr>\n",
       "    <tr>\n",
       "      <th>Ad_Res_Ind_3_Year</th>\n",
       "      <td>4469.0</td>\n",
       "      <td>12.045872</td>\n",
       "      <td>4.586081</td>\n",
       "      <td>2.0</td>\n",
       "      <td>7.0</td>\n",
       "      <td>13.0</td>\n",
       "      <td>16.0</td>\n",
       "      <td>28.0</td>\n",
       "    </tr>\n",
       "    <tr>\n",
       "      <th>Ad_Res_Ind_5_Year</th>\n",
       "      <td>4469.0</td>\n",
       "      <td>19.496979</td>\n",
       "      <td>8.580510</td>\n",
       "      <td>3.0</td>\n",
       "      <td>13.0</td>\n",
       "      <td>20.0</td>\n",
       "      <td>27.0</td>\n",
       "      <td>56.0</td>\n",
       "    </tr>\n",
       "    <tr>\n",
       "      <th>Status_Latest_Ad</th>\n",
       "      <td>4469.0</td>\n",
       "      <td>0.562094</td>\n",
       "      <td>0.496185</td>\n",
       "      <td>0.0</td>\n",
       "      <td>0.0</td>\n",
       "      <td>1.0</td>\n",
       "      <td>1.0</td>\n",
       "      <td>1.0</td>\n",
       "    </tr>\n",
       "    <tr>\n",
       "      <th>Age</th>\n",
       "      <td>3510.0</td>\n",
       "      <td>59.020228</td>\n",
       "      <td>16.902682</td>\n",
       "      <td>0.0</td>\n",
       "      <td>47.0</td>\n",
       "      <td>60.0</td>\n",
       "      <td>73.0</td>\n",
       "      <td>87.0</td>\n",
       "    </tr>\n",
       "  </tbody>\n",
       "</table>\n",
       "</div>"
      ],
      "text/plain": [
       "                       count          mean           std   min      25%  \\\n",
       "Potential_Customer    4469.0      0.480868      0.499690   0.0      0.0   \n",
       "C_ID                  4469.0  73837.719848  36156.968605  12.0  52713.0   \n",
       "Pur_3_years           4469.0      3.297158      2.207326   0.0      2.0   \n",
       "Pur_5_years           4469.0     11.006042      9.459082   1.0      4.0   \n",
       "Pur_3_years_Indirect  4469.0      1.897516      1.629178   0.0      1.0   \n",
       "Pur_5_years_Indirect  4469.0      5.867756      4.939174   0.0      2.0   \n",
       "InAct_Last            4469.0     17.923697      4.130671   4.0     16.0   \n",
       "InAct_First           4469.0     73.605952     38.094688  15.0     40.0   \n",
       "Ad_Res_1_year         4469.0     13.070038      4.991064   3.0     11.0   \n",
       "Ad_Res_3_Year         4469.0     29.631237      7.787209   5.0     26.0   \n",
       "Ad_Res_5_Year         4469.0     49.683822     23.056042   7.0     31.0   \n",
       "Ad_Res_Ind_1_Year     4469.0      5.406355      1.361155   1.0      5.0   \n",
       "Ad_Res_Ind_3_Year     4469.0     12.045872      4.586081   2.0      7.0   \n",
       "Ad_Res_Ind_5_Year     4469.0     19.496979      8.580510   3.0     13.0   \n",
       "Status_Latest_Ad      4469.0      0.562094      0.496185   0.0      0.0   \n",
       "Age                   3510.0     59.020228     16.902682   0.0     47.0   \n",
       "\n",
       "                          50%      75%       max  \n",
       "Potential_Customer        0.0      1.0       1.0  \n",
       "C_ID                  75790.0  93705.0  191672.0  \n",
       "Pur_3_years               3.0      4.0      15.0  \n",
       "Pur_5_years               9.0     15.0      91.0  \n",
       "Pur_3_years_Indirect      2.0      3.0       9.0  \n",
       "Pur_5_years_Indirect      4.0      9.0      41.0  \n",
       "InAct_Last               18.0     20.0      27.0  \n",
       "InAct_First              74.0    111.0     260.0  \n",
       "Ad_Res_1_year            12.0     13.0      49.0  \n",
       "Ad_Res_3_Year            31.0     34.0      71.0  \n",
       "Ad_Res_5_Year            51.0     66.0     157.0  \n",
       "Ad_Res_Ind_1_Year         6.0      6.0      17.0  \n",
       "Ad_Res_Ind_3_Year        13.0     16.0      28.0  \n",
       "Ad_Res_Ind_5_Year        20.0     27.0      56.0  \n",
       "Status_Latest_Ad          1.0      1.0       1.0  \n",
       "Age                      60.0     73.0      87.0  "
      ]
     },
     "execution_count": 256,
     "metadata": {},
     "output_type": "execute_result"
    }
   ],
   "source": [
    "# View your data\n",
    "data.describe().T"
   ]
  },
  {
   "cell_type": "markdown",
   "metadata": {},
   "source": [
    "# 2. Data Cleaning\n",
    "Checking the existance of missing values, the type of variables, or integrity of data. "
   ]
  },
  {
   "cell_type": "markdown",
   "metadata": {},
   "source": [
    "## 2.1 How big is the dataset? (number of rows, features and total datapoints)"
   ]
  },
  {
   "cell_type": "code",
   "execution_count": 257,
   "metadata": {},
   "outputs": [
    {
     "data": {
      "text/plain": [
       "(4469, 25)"
      ]
     },
     "execution_count": 257,
     "metadata": {},
     "output_type": "execute_result"
    }
   ],
   "source": [
    "data.shape"
   ]
  },
  {
   "cell_type": "code",
   "execution_count": 258,
   "metadata": {},
   "outputs": [
    {
     "data": {
      "text/plain": [
       "111725"
      ]
     },
     "execution_count": 258,
     "metadata": {},
     "output_type": "execute_result"
    }
   ],
   "source": [
    "data.size"
   ]
  },
  {
   "cell_type": "markdown",
   "metadata": {},
   "source": [
    "## 2.2 What is the type of each column?"
   ]
  },
  {
   "cell_type": "code",
   "execution_count": 259,
   "metadata": {},
   "outputs": [
    {
     "name": "stdout",
     "output_type": "stream",
     "text": [
      "<class 'pandas.core.frame.DataFrame'>\n",
      "RangeIndex: 4469 entries, 0 to 4468\n",
      "Data columns (total 25 columns):\n",
      " #   Column                    Non-Null Count  Dtype  \n",
      "---  ------                    --------------  -----  \n",
      " 0   Potential_Customer        4469 non-null   int64  \n",
      " 1   C_ID                      4469 non-null   int64  \n",
      " 2   Cust_Last_Purchase        2149 non-null   object \n",
      " 3   Pur_3_years               4469 non-null   int64  \n",
      " 4   Pur_5_years               4469 non-null   int64  \n",
      " 5   Pur_3_years_Indirect      4469 non-null   int64  \n",
      " 6   Pur_5_years_Indirect      4469 non-null   int64  \n",
      " 7   Pur_latest                4469 non-null   object \n",
      " 8   Pur_3_years_Avg           4469 non-null   object \n",
      " 9   Pur_5_years_Avg           4469 non-null   object \n",
      " 10  Pur_3_years_Avg_Indirect  3642 non-null   object \n",
      " 11  InAct_Last                4469 non-null   int64  \n",
      " 12  InAct_First               4469 non-null   int64  \n",
      " 13  Ad_Res_1_year             4469 non-null   int64  \n",
      " 14  Ad_Res_3_Year             4469 non-null   int64  \n",
      " 15  Ad_Res_5_Year             4469 non-null   int64  \n",
      " 16  Ad_Res_Ind_1_Year         4469 non-null   int64  \n",
      " 17  Ad_Res_Ind_3_Year         4469 non-null   int64  \n",
      " 18  Ad_Res_Ind_5_Year         4469 non-null   int64  \n",
      " 19  Status_Cust               4469 non-null   object \n",
      " 20  Status_Latest_Ad          4469 non-null   int64  \n",
      " 21  Age                       3510 non-null   float64\n",
      " 22  Gender                    4469 non-null   object \n",
      " 23  Cust_Prop                 4469 non-null   object \n",
      " 24  Cust_Ann_Income           4469 non-null   object \n",
      "dtypes: float64(1), int64(15), object(9)\n",
      "memory usage: 873.0+ KB\n"
     ]
    }
   ],
   "source": [
    "data.info()"
   ]
  },
  {
   "cell_type": "code",
   "execution_count": 260,
   "metadata": {},
   "outputs": [
    {
     "data": {
      "text/plain": [
       "Potential_Customer            int64\n",
       "C_ID                          int64\n",
       "Cust_Last_Purchase           object\n",
       "Pur_3_years                   int64\n",
       "Pur_5_years                   int64\n",
       "Pur_3_years_Indirect          int64\n",
       "Pur_5_years_Indirect          int64\n",
       "Pur_latest                   object\n",
       "Pur_3_years_Avg              object\n",
       "Pur_5_years_Avg              object\n",
       "Pur_3_years_Avg_Indirect     object\n",
       "InAct_Last                    int64\n",
       "InAct_First                   int64\n",
       "Ad_Res_1_year                 int64\n",
       "Ad_Res_3_Year                 int64\n",
       "Ad_Res_5_Year                 int64\n",
       "Ad_Res_Ind_1_Year             int64\n",
       "Ad_Res_Ind_3_Year             int64\n",
       "Ad_Res_Ind_5_Year             int64\n",
       "Status_Cust                  object\n",
       "Status_Latest_Ad              int64\n",
       "Age                         float64\n",
       "Gender                       object\n",
       "Cust_Prop                    object\n",
       "Cust_Ann_Income              object\n",
       "dtype: object"
      ]
     },
     "execution_count": 260,
     "metadata": {},
     "output_type": "execute_result"
    }
   ],
   "source": [
    "data.dtypes"
   ]
  },
  {
   "cell_type": "markdown",
   "metadata": {},
   "source": [
    "### 2.2.1 Why columns such as `Cust_Last_Purchase` are `object` while they should be `float64`? Fix the type of the columns as it should be.\n",
    "\n",
    "**Attention:** Some numerical columns have missing values, Dollar sign, or Comma. You need to fix the issue to be able to convert the column to numerical. \n",
    "\n",
    "**Hint:** \n",
    "1. The following code can help you to remove an 'OldSign' and replace it with a 'NewSign' or nothing: `df.col=df.col.str.replace('OldSign', 'NewSign')`\n",
    "\n",
    "2. After removing the signs and replace it with correct sign, or nothing you need to:\n",
    "\n",
    "    a- Create a list of the name of the categorical columns and the numerical columns:\n",
    "        `CatCols=[Name of the Categorical columns]`\n",
    "        `NumCols=list(set(data.columns)-set(CatCols))`\n",
    "    \n",
    "    b- Fix the type of the columns\n",
    "        `data[CatCols] = data[CatCols].apply(lambda x: x.astype('category'))`\n",
    "        `data[NumCols] = data[NumCols].apply(lambda x: x.astype('float64'))`"
   ]
  },
  {
   "cell_type": "code",
   "execution_count": 390,
   "metadata": {},
   "outputs": [
    {
     "data": {
      "text/html": [
       "<div>\n",
       "<style scoped>\n",
       "    .dataframe tbody tr th:only-of-type {\n",
       "        vertical-align: middle;\n",
       "    }\n",
       "\n",
       "    .dataframe tbody tr th {\n",
       "        vertical-align: top;\n",
       "    }\n",
       "\n",
       "    .dataframe thead th {\n",
       "        text-align: right;\n",
       "    }\n",
       "</style>\n",
       "<table border=\"1\" class=\"dataframe\">\n",
       "  <thead>\n",
       "    <tr style=\"text-align: right;\">\n",
       "      <th></th>\n",
       "      <th>Potential_Customer</th>\n",
       "      <th>C_ID</th>\n",
       "      <th>Cust_Last_Purchase</th>\n",
       "      <th>Pur_3_years</th>\n",
       "      <th>Pur_5_years</th>\n",
       "      <th>Pur_3_years_Indirect</th>\n",
       "      <th>Pur_5_years_Indirect</th>\n",
       "      <th>Pur_latest</th>\n",
       "      <th>Pur_3_years_Avg</th>\n",
       "      <th>Pur_5_years_Avg</th>\n",
       "      <th>...</th>\n",
       "      <th>Ad_Res_5_Year</th>\n",
       "      <th>Ad_Res_Ind_1_Year</th>\n",
       "      <th>Ad_Res_Ind_3_Year</th>\n",
       "      <th>Ad_Res_Ind_5_Year</th>\n",
       "      <th>Status_Cust</th>\n",
       "      <th>Status_Latest_Ad</th>\n",
       "      <th>Age</th>\n",
       "      <th>Gender</th>\n",
       "      <th>Cust_Prop</th>\n",
       "      <th>Cust_Ann_Income</th>\n",
       "    </tr>\n",
       "  </thead>\n",
       "  <tbody>\n",
       "    <tr>\n",
       "      <th>0</th>\n",
       "      <td>1</td>\n",
       "      <td>9946</td>\n",
       "      <td>5.00</td>\n",
       "      <td>2</td>\n",
       "      <td>17</td>\n",
       "      <td>2</td>\n",
       "      <td>4</td>\n",
       "      <td>0.00</td>\n",
       "      <td>7.50</td>\n",
       "      <td>7.76</td>\n",
       "      <td>...</td>\n",
       "      <td>73</td>\n",
       "      <td>3</td>\n",
       "      <td>12</td>\n",
       "      <td>16</td>\n",
       "      <td>A</td>\n",
       "      <td>0</td>\n",
       "      <td>71.0</td>\n",
       "      <td>F</td>\n",
       "      <td>H</td>\n",
       "      <td>65957.00</td>\n",
       "    </tr>\n",
       "    <tr>\n",
       "      <th>1</th>\n",
       "      <td>1</td>\n",
       "      <td>87939</td>\n",
       "      <td>30.00</td>\n",
       "      <td>1</td>\n",
       "      <td>7</td>\n",
       "      <td>0</td>\n",
       "      <td>3</td>\n",
       "      <td>25.00</td>\n",
       "      <td>25.00</td>\n",
       "      <td>13.00</td>\n",
       "      <td>...</td>\n",
       "      <td>55</td>\n",
       "      <td>6</td>\n",
       "      <td>6</td>\n",
       "      <td>22</td>\n",
       "      <td>A</td>\n",
       "      <td>1</td>\n",
       "      <td>7.0</td>\n",
       "      <td>M</td>\n",
       "      <td>U</td>\n",
       "      <td>0.00</td>\n",
       "    </tr>\n",
       "    <tr>\n",
       "      <th>2</th>\n",
       "      <td>0</td>\n",
       "      <td>88003</td>\n",
       "      <td>NaN</td>\n",
       "      <td>5</td>\n",
       "      <td>12</td>\n",
       "      <td>3</td>\n",
       "      <td>5</td>\n",
       "      <td>15.00</td>\n",
       "      <td>15.00</td>\n",
       "      <td>11.25</td>\n",
       "      <td>...</td>\n",
       "      <td>53</td>\n",
       "      <td>6</td>\n",
       "      <td>17</td>\n",
       "      <td>22</td>\n",
       "      <td>S</td>\n",
       "      <td>1</td>\n",
       "      <td>79.0</td>\n",
       "      <td>F</td>\n",
       "      <td>U</td>\n",
       "      <td>0.00</td>\n",
       "    </tr>\n",
       "    <tr>\n",
       "      <th>3</th>\n",
       "      <td>1</td>\n",
       "      <td>188721</td>\n",
       "      <td>20.00</td>\n",
       "      <td>1</td>\n",
       "      <td>11</td>\n",
       "      <td>0</td>\n",
       "      <td>3</td>\n",
       "      <td>20.00</td>\n",
       "      <td>20.00</td>\n",
       "      <td>12.45</td>\n",
       "      <td>...</td>\n",
       "      <td>71</td>\n",
       "      <td>8</td>\n",
       "      <td>8</td>\n",
       "      <td>33</td>\n",
       "      <td>A</td>\n",
       "      <td>0</td>\n",
       "      <td>73.0</td>\n",
       "      <td>F</td>\n",
       "      <td>U</td>\n",
       "      <td>76293.00</td>\n",
       "    </tr>\n",
       "    <tr>\n",
       "      <th>4</th>\n",
       "      <td>1</td>\n",
       "      <td>88056</td>\n",
       "      <td>5.00</td>\n",
       "      <td>3</td>\n",
       "      <td>15</td>\n",
       "      <td>2</td>\n",
       "      <td>7</td>\n",
       "      <td>3.00</td>\n",
       "      <td>4.33</td>\n",
       "      <td>3.80</td>\n",
       "      <td>...</td>\n",
       "      <td>63</td>\n",
       "      <td>6</td>\n",
       "      <td>12</td>\n",
       "      <td>24</td>\n",
       "      <td>S</td>\n",
       "      <td>1</td>\n",
       "      <td>68.0</td>\n",
       "      <td>F</td>\n",
       "      <td>H</td>\n",
       "      <td>113663.00</td>\n",
       "    </tr>\n",
       "  </tbody>\n",
       "</table>\n",
       "<p>5 rows × 25 columns</p>\n",
       "</div>"
      ],
      "text/plain": [
       "   Potential_Customer    C_ID Cust_Last_Purchase  Pur_3_years  Pur_5_years  \\\n",
       "0                   1    9946              5.00             2           17   \n",
       "1                   1   87939             30.00             1            7   \n",
       "2                   0   88003                NaN            5           12   \n",
       "3                   1  188721             20.00             1           11   \n",
       "4                   1   88056              5.00             3           15   \n",
       "\n",
       "   Pur_3_years_Indirect  Pur_5_years_Indirect Pur_latest Pur_3_years_Avg  \\\n",
       "0                     2                     4      0.00            7.50    \n",
       "1                     0                     3     25.00           25.00    \n",
       "2                     3                     5     15.00           15.00    \n",
       "3                     0                     3     20.00           20.00    \n",
       "4                     2                     7      3.00            4.33    \n",
       "\n",
       "  Pur_5_years_Avg  ... Ad_Res_5_Year  Ad_Res_Ind_1_Year  Ad_Res_Ind_3_Year  \\\n",
       "0           7.76   ...            73                  3                 12   \n",
       "1          13.00   ...            55                  6                  6   \n",
       "2          11.25   ...            53                  6                 17   \n",
       "3          12.45   ...            71                  8                  8   \n",
       "4           3.80   ...            63                  6                 12   \n",
       "\n",
       "   Ad_Res_Ind_5_Year  Status_Cust  Status_Latest_Ad   Age  Gender  Cust_Prop  \\\n",
       "0                 16            A                 0  71.0       F          H   \n",
       "1                 22            A                 1   7.0       M          U   \n",
       "2                 22            S                 1  79.0       F          U   \n",
       "3                 33            A                 0  73.0       F          U   \n",
       "4                 24            S                 1  68.0       F          H   \n",
       "\n",
       "  Cust_Ann_Income  \n",
       "0       65957.00   \n",
       "1           0.00   \n",
       "2           0.00   \n",
       "3       76293.00   \n",
       "4      113663.00   \n",
       "\n",
       "[5 rows x 25 columns]"
      ]
     },
     "execution_count": 390,
     "metadata": {},
     "output_type": "execute_result"
    }
   ],
   "source": [
    "data.Cust_Last_Purchase = data.Cust_Last_Purchase.str.replace('$', '')\n",
    "data.Pur_latest = data.Pur_latest.str.replace('$', '')\n",
    "data.Pur_3_years_Avg = data.Pur_3_years_Avg.str.replace('$', '')\n",
    "data.Pur_5_years_Avg = data.Pur_5_years_Avg.str.replace('$', '')\n",
    "data.Pur_3_years_Avg_Indirect = data.Pur_3_years_Avg_Indirect.str.replace('$', '')\n",
    "data.Cust_Ann_Income = data.Cust_Ann_Income.str.replace('$', '')\n",
    "data.Cust_Ann_Income = data.Cust_Ann_Income.str.replace(',', '')\n",
    "data.head(5)"
   ]
  },
  {
   "cell_type": "code",
   "execution_count": 262,
   "metadata": {},
   "outputs": [
    {
     "data": {
      "text/plain": [
       "Index(['Potential_Customer', 'C_ID', 'Cust_Last_Purchase', 'Pur_3_years',\n",
       "       'Pur_5_years', 'Pur_3_years_Indirect', 'Pur_5_years_Indirect',\n",
       "       'Pur_latest', 'Pur_3_years_Avg', 'Pur_5_years_Avg',\n",
       "       'Pur_3_years_Avg_Indirect', 'InAct_Last', 'InAct_First',\n",
       "       'Ad_Res_1_year', 'Ad_Res_3_Year', 'Ad_Res_5_Year', 'Ad_Res_Ind_1_Year',\n",
       "       'Ad_Res_Ind_3_Year', 'Ad_Res_Ind_5_Year', 'Status_Cust',\n",
       "       'Status_Latest_Ad', 'Age', 'Gender', 'Cust_Prop', 'Cust_Ann_Income'],\n",
       "      dtype='object')"
      ]
     },
     "execution_count": 262,
     "metadata": {},
     "output_type": "execute_result"
    }
   ],
   "source": [
    "data.columns"
   ]
  },
  {
   "cell_type": "code",
   "execution_count": 263,
   "metadata": {},
   "outputs": [],
   "source": [
    "CatCols=[\"Potential_Customer\", \"Status_Cust\", \"Status_Latest_Ad\", \"Gender\", \"Cust_Prop\"]\n",
    "NumCols=list(set(data.columns)-set(CatCols))"
   ]
  },
  {
   "cell_type": "code",
   "execution_count": 264,
   "metadata": {},
   "outputs": [],
   "source": [
    "data[CatCols] = data[CatCols].apply(lambda x: x.astype('category'))\n",
    "data[NumCols] = data[NumCols].apply(lambda x: x.astype('float64'))"
   ]
  },
  {
   "cell_type": "code",
   "execution_count": 265,
   "metadata": {},
   "outputs": [
    {
     "data": {
      "text/plain": [
       "Potential_Customer          category\n",
       "C_ID                         float64\n",
       "Cust_Last_Purchase           float64\n",
       "Pur_3_years                  float64\n",
       "Pur_5_years                  float64\n",
       "Pur_3_years_Indirect         float64\n",
       "Pur_5_years_Indirect         float64\n",
       "Pur_latest                   float64\n",
       "Pur_3_years_Avg              float64\n",
       "Pur_5_years_Avg              float64\n",
       "Pur_3_years_Avg_Indirect     float64\n",
       "InAct_Last                   float64\n",
       "InAct_First                  float64\n",
       "Ad_Res_1_year                float64\n",
       "Ad_Res_3_Year                float64\n",
       "Ad_Res_5_Year                float64\n",
       "Ad_Res_Ind_1_Year            float64\n",
       "Ad_Res_Ind_3_Year            float64\n",
       "Ad_Res_Ind_5_Year            float64\n",
       "Status_Cust                 category\n",
       "Status_Latest_Ad            category\n",
       "Age                          float64\n",
       "Gender                      category\n",
       "Cust_Prop                   category\n",
       "Cust_Ann_Income              float64\n",
       "dtype: object"
      ]
     },
     "execution_count": 265,
     "metadata": {},
     "output_type": "execute_result"
    }
   ],
   "source": [
    "data.dtypes"
   ]
  },
  {
   "cell_type": "markdown",
   "metadata": {},
   "source": [
    "## 2.3 Check data for duplicate rows and remove the duplicates\n",
    "\n",
    "**Hint:**\n",
    "\n",
    "1. `data.duplicated()` will give you `True` if the row in `data` is duplicate and `False` otherwise.\n",
    "\n",
    "2. `duplicates.sum()` will tell you how many duplicates you have in `data`.\n",
    "\n",
    "3. `data=data.drop_duplicates()` will remove the duplicates"
   ]
  },
  {
   "cell_type": "code",
   "execution_count": 268,
   "metadata": {},
   "outputs": [],
   "source": [
    "duplicates = data.duplicated()   \n",
    "data = data.drop_duplicates()"
   ]
  },
  {
   "cell_type": "code",
   "execution_count": 269,
   "metadata": {},
   "outputs": [
    {
     "data": {
      "text/plain": [
       "0"
      ]
     },
     "execution_count": 269,
     "metadata": {},
     "output_type": "execute_result"
    }
   ],
   "source": [
    "duplicates.sum()"
   ]
  },
  {
   "cell_type": "code",
   "execution_count": 270,
   "metadata": {},
   "outputs": [
    {
     "data": {
      "text/html": [
       "<div>\n",
       "<style scoped>\n",
       "    .dataframe tbody tr th:only-of-type {\n",
       "        vertical-align: middle;\n",
       "    }\n",
       "\n",
       "    .dataframe tbody tr th {\n",
       "        vertical-align: top;\n",
       "    }\n",
       "\n",
       "    .dataframe thead th {\n",
       "        text-align: right;\n",
       "    }\n",
       "</style>\n",
       "<table border=\"1\" class=\"dataframe\">\n",
       "  <thead>\n",
       "    <tr style=\"text-align: right;\">\n",
       "      <th></th>\n",
       "      <th>Potential_Customer</th>\n",
       "      <th>C_ID</th>\n",
       "      <th>Cust_Last_Purchase</th>\n",
       "      <th>Pur_3_years</th>\n",
       "      <th>Pur_5_years</th>\n",
       "      <th>Pur_3_years_Indirect</th>\n",
       "      <th>Pur_5_years_Indirect</th>\n",
       "      <th>Pur_latest</th>\n",
       "      <th>Pur_3_years_Avg</th>\n",
       "      <th>Pur_5_years_Avg</th>\n",
       "      <th>...</th>\n",
       "      <th>Ad_Res_5_Year</th>\n",
       "      <th>Ad_Res_Ind_1_Year</th>\n",
       "      <th>Ad_Res_Ind_3_Year</th>\n",
       "      <th>Ad_Res_Ind_5_Year</th>\n",
       "      <th>Status_Cust</th>\n",
       "      <th>Status_Latest_Ad</th>\n",
       "      <th>Age</th>\n",
       "      <th>Gender</th>\n",
       "      <th>Cust_Prop</th>\n",
       "      <th>Cust_Ann_Income</th>\n",
       "    </tr>\n",
       "  </thead>\n",
       "  <tbody>\n",
       "    <tr>\n",
       "      <th>0</th>\n",
       "      <td>1</td>\n",
       "      <td>9946.0</td>\n",
       "      <td>5.0</td>\n",
       "      <td>2.0</td>\n",
       "      <td>17.0</td>\n",
       "      <td>2.0</td>\n",
       "      <td>4.0</td>\n",
       "      <td>0.0</td>\n",
       "      <td>7.50</td>\n",
       "      <td>7.76</td>\n",
       "      <td>...</td>\n",
       "      <td>73.0</td>\n",
       "      <td>3.0</td>\n",
       "      <td>12.0</td>\n",
       "      <td>16.0</td>\n",
       "      <td>A</td>\n",
       "      <td>0</td>\n",
       "      <td>71.0</td>\n",
       "      <td>F</td>\n",
       "      <td>H</td>\n",
       "      <td>65957.0</td>\n",
       "    </tr>\n",
       "    <tr>\n",
       "      <th>1</th>\n",
       "      <td>1</td>\n",
       "      <td>87939.0</td>\n",
       "      <td>30.0</td>\n",
       "      <td>1.0</td>\n",
       "      <td>7.0</td>\n",
       "      <td>0.0</td>\n",
       "      <td>3.0</td>\n",
       "      <td>25.0</td>\n",
       "      <td>25.00</td>\n",
       "      <td>13.00</td>\n",
       "      <td>...</td>\n",
       "      <td>55.0</td>\n",
       "      <td>6.0</td>\n",
       "      <td>6.0</td>\n",
       "      <td>22.0</td>\n",
       "      <td>A</td>\n",
       "      <td>1</td>\n",
       "      <td>7.0</td>\n",
       "      <td>M</td>\n",
       "      <td>U</td>\n",
       "      <td>0.0</td>\n",
       "    </tr>\n",
       "    <tr>\n",
       "      <th>2</th>\n",
       "      <td>0</td>\n",
       "      <td>88003.0</td>\n",
       "      <td>NaN</td>\n",
       "      <td>5.0</td>\n",
       "      <td>12.0</td>\n",
       "      <td>3.0</td>\n",
       "      <td>5.0</td>\n",
       "      <td>15.0</td>\n",
       "      <td>15.00</td>\n",
       "      <td>11.25</td>\n",
       "      <td>...</td>\n",
       "      <td>53.0</td>\n",
       "      <td>6.0</td>\n",
       "      <td>17.0</td>\n",
       "      <td>22.0</td>\n",
       "      <td>S</td>\n",
       "      <td>1</td>\n",
       "      <td>79.0</td>\n",
       "      <td>F</td>\n",
       "      <td>U</td>\n",
       "      <td>0.0</td>\n",
       "    </tr>\n",
       "    <tr>\n",
       "      <th>3</th>\n",
       "      <td>1</td>\n",
       "      <td>188721.0</td>\n",
       "      <td>20.0</td>\n",
       "      <td>1.0</td>\n",
       "      <td>11.0</td>\n",
       "      <td>0.0</td>\n",
       "      <td>3.0</td>\n",
       "      <td>20.0</td>\n",
       "      <td>20.00</td>\n",
       "      <td>12.45</td>\n",
       "      <td>...</td>\n",
       "      <td>71.0</td>\n",
       "      <td>8.0</td>\n",
       "      <td>8.0</td>\n",
       "      <td>33.0</td>\n",
       "      <td>A</td>\n",
       "      <td>0</td>\n",
       "      <td>73.0</td>\n",
       "      <td>F</td>\n",
       "      <td>U</td>\n",
       "      <td>76293.0</td>\n",
       "    </tr>\n",
       "    <tr>\n",
       "      <th>4</th>\n",
       "      <td>1</td>\n",
       "      <td>88056.0</td>\n",
       "      <td>5.0</td>\n",
       "      <td>3.0</td>\n",
       "      <td>15.0</td>\n",
       "      <td>2.0</td>\n",
       "      <td>7.0</td>\n",
       "      <td>3.0</td>\n",
       "      <td>4.33</td>\n",
       "      <td>3.80</td>\n",
       "      <td>...</td>\n",
       "      <td>63.0</td>\n",
       "      <td>6.0</td>\n",
       "      <td>12.0</td>\n",
       "      <td>24.0</td>\n",
       "      <td>S</td>\n",
       "      <td>1</td>\n",
       "      <td>68.0</td>\n",
       "      <td>F</td>\n",
       "      <td>H</td>\n",
       "      <td>113663.0</td>\n",
       "    </tr>\n",
       "    <tr>\n",
       "      <th>...</th>\n",
       "      <td>...</td>\n",
       "      <td>...</td>\n",
       "      <td>...</td>\n",
       "      <td>...</td>\n",
       "      <td>...</td>\n",
       "      <td>...</td>\n",
       "      <td>...</td>\n",
       "      <td>...</td>\n",
       "      <td>...</td>\n",
       "      <td>...</td>\n",
       "      <td>...</td>\n",
       "      <td>...</td>\n",
       "      <td>...</td>\n",
       "      <td>...</td>\n",
       "      <td>...</td>\n",
       "      <td>...</td>\n",
       "      <td>...</td>\n",
       "      <td>...</td>\n",
       "      <td>...</td>\n",
       "      <td>...</td>\n",
       "      <td>...</td>\n",
       "    </tr>\n",
       "    <tr>\n",
       "      <th>3613</th>\n",
       "      <td>1</td>\n",
       "      <td>87771.0</td>\n",
       "      <td>20.0</td>\n",
       "      <td>2.0</td>\n",
       "      <td>6.0</td>\n",
       "      <td>0.0</td>\n",
       "      <td>1.0</td>\n",
       "      <td>20.0</td>\n",
       "      <td>16.50</td>\n",
       "      <td>13.33</td>\n",
       "      <td>...</td>\n",
       "      <td>47.0</td>\n",
       "      <td>6.0</td>\n",
       "      <td>6.0</td>\n",
       "      <td>17.0</td>\n",
       "      <td>A</td>\n",
       "      <td>0</td>\n",
       "      <td>33.0</td>\n",
       "      <td>F</td>\n",
       "      <td>H</td>\n",
       "      <td>83754.0</td>\n",
       "    </tr>\n",
       "    <tr>\n",
       "      <th>3614</th>\n",
       "      <td>0</td>\n",
       "      <td>90077.0</td>\n",
       "      <td>NaN</td>\n",
       "      <td>7.0</td>\n",
       "      <td>31.0</td>\n",
       "      <td>4.0</td>\n",
       "      <td>21.0</td>\n",
       "      <td>13.0</td>\n",
       "      <td>12.71</td>\n",
       "      <td>10.94</td>\n",
       "      <td>...</td>\n",
       "      <td>88.0</td>\n",
       "      <td>6.0</td>\n",
       "      <td>17.0</td>\n",
       "      <td>35.0</td>\n",
       "      <td>S</td>\n",
       "      <td>1</td>\n",
       "      <td>81.0</td>\n",
       "      <td>F</td>\n",
       "      <td>H</td>\n",
       "      <td>83754.0</td>\n",
       "    </tr>\n",
       "    <tr>\n",
       "      <th>3615</th>\n",
       "      <td>0</td>\n",
       "      <td>94040.0</td>\n",
       "      <td>NaN</td>\n",
       "      <td>7.0</td>\n",
       "      <td>13.0</td>\n",
       "      <td>6.0</td>\n",
       "      <td>8.0</td>\n",
       "      <td>3.0</td>\n",
       "      <td>12.43</td>\n",
       "      <td>10.62</td>\n",
       "      <td>...</td>\n",
       "      <td>57.0</td>\n",
       "      <td>7.0</td>\n",
       "      <td>18.0</td>\n",
       "      <td>24.0</td>\n",
       "      <td>A</td>\n",
       "      <td>1</td>\n",
       "      <td>39.0</td>\n",
       "      <td>M</td>\n",
       "      <td>U</td>\n",
       "      <td>0.0</td>\n",
       "    </tr>\n",
       "    <tr>\n",
       "      <th>3616</th>\n",
       "      <td>0</td>\n",
       "      <td>87871.0</td>\n",
       "      <td>NaN</td>\n",
       "      <td>1.0</td>\n",
       "      <td>11.0</td>\n",
       "      <td>1.0</td>\n",
       "      <td>7.0</td>\n",
       "      <td>20.0</td>\n",
       "      <td>20.00</td>\n",
       "      <td>16.55</td>\n",
       "      <td>...</td>\n",
       "      <td>61.0</td>\n",
       "      <td>6.0</td>\n",
       "      <td>15.0</td>\n",
       "      <td>25.0</td>\n",
       "      <td>A</td>\n",
       "      <td>1</td>\n",
       "      <td>76.0</td>\n",
       "      <td>M</td>\n",
       "      <td>H</td>\n",
       "      <td>71618.0</td>\n",
       "    </tr>\n",
       "    <tr>\n",
       "      <th>3617</th>\n",
       "      <td>1</td>\n",
       "      <td>87904.0</td>\n",
       "      <td>21.0</td>\n",
       "      <td>3.0</td>\n",
       "      <td>13.0</td>\n",
       "      <td>1.0</td>\n",
       "      <td>6.0</td>\n",
       "      <td>15.0</td>\n",
       "      <td>13.00</td>\n",
       "      <td>8.62</td>\n",
       "      <td>...</td>\n",
       "      <td>70.0</td>\n",
       "      <td>6.0</td>\n",
       "      <td>16.0</td>\n",
       "      <td>29.0</td>\n",
       "      <td>A</td>\n",
       "      <td>0</td>\n",
       "      <td>65.0</td>\n",
       "      <td>M</td>\n",
       "      <td>U</td>\n",
       "      <td>0.0</td>\n",
       "    </tr>\n",
       "  </tbody>\n",
       "</table>\n",
       "<p>3618 rows × 25 columns</p>\n",
       "</div>"
      ],
      "text/plain": [
       "     Potential_Customer      C_ID  Cust_Last_Purchase  Pur_3_years  \\\n",
       "0                     1    9946.0                 5.0          2.0   \n",
       "1                     1   87939.0                30.0          1.0   \n",
       "2                     0   88003.0                 NaN          5.0   \n",
       "3                     1  188721.0                20.0          1.0   \n",
       "4                     1   88056.0                 5.0          3.0   \n",
       "...                 ...       ...                 ...          ...   \n",
       "3613                  1   87771.0                20.0          2.0   \n",
       "3614                  0   90077.0                 NaN          7.0   \n",
       "3615                  0   94040.0                 NaN          7.0   \n",
       "3616                  0   87871.0                 NaN          1.0   \n",
       "3617                  1   87904.0                21.0          3.0   \n",
       "\n",
       "      Pur_5_years  Pur_3_years_Indirect  Pur_5_years_Indirect  Pur_latest  \\\n",
       "0            17.0                   2.0                   4.0         0.0   \n",
       "1             7.0                   0.0                   3.0        25.0   \n",
       "2            12.0                   3.0                   5.0        15.0   \n",
       "3            11.0                   0.0                   3.0        20.0   \n",
       "4            15.0                   2.0                   7.0         3.0   \n",
       "...           ...                   ...                   ...         ...   \n",
       "3613          6.0                   0.0                   1.0        20.0   \n",
       "3614         31.0                   4.0                  21.0        13.0   \n",
       "3615         13.0                   6.0                   8.0         3.0   \n",
       "3616         11.0                   1.0                   7.0        20.0   \n",
       "3617         13.0                   1.0                   6.0        15.0   \n",
       "\n",
       "      Pur_3_years_Avg  Pur_5_years_Avg  ...  Ad_Res_5_Year  Ad_Res_Ind_1_Year  \\\n",
       "0                7.50             7.76  ...           73.0                3.0   \n",
       "1               25.00            13.00  ...           55.0                6.0   \n",
       "2               15.00            11.25  ...           53.0                6.0   \n",
       "3               20.00            12.45  ...           71.0                8.0   \n",
       "4                4.33             3.80  ...           63.0                6.0   \n",
       "...               ...              ...  ...            ...                ...   \n",
       "3613            16.50            13.33  ...           47.0                6.0   \n",
       "3614            12.71            10.94  ...           88.0                6.0   \n",
       "3615            12.43            10.62  ...           57.0                7.0   \n",
       "3616            20.00            16.55  ...           61.0                6.0   \n",
       "3617            13.00             8.62  ...           70.0                6.0   \n",
       "\n",
       "      Ad_Res_Ind_3_Year  Ad_Res_Ind_5_Year  Status_Cust  Status_Latest_Ad  \\\n",
       "0                  12.0               16.0            A                 0   \n",
       "1                   6.0               22.0            A                 1   \n",
       "2                  17.0               22.0            S                 1   \n",
       "3                   8.0               33.0            A                 0   \n",
       "4                  12.0               24.0            S                 1   \n",
       "...                 ...                ...          ...               ...   \n",
       "3613                6.0               17.0            A                 0   \n",
       "3614               17.0               35.0            S                 1   \n",
       "3615               18.0               24.0            A                 1   \n",
       "3616               15.0               25.0            A                 1   \n",
       "3617               16.0               29.0            A                 0   \n",
       "\n",
       "       Age  Gender  Cust_Prop Cust_Ann_Income  \n",
       "0     71.0       F          H         65957.0  \n",
       "1      7.0       M          U             0.0  \n",
       "2     79.0       F          U             0.0  \n",
       "3     73.0       F          U         76293.0  \n",
       "4     68.0       F          H        113663.0  \n",
       "...    ...     ...        ...             ...  \n",
       "3613  33.0       F          H         83754.0  \n",
       "3614  81.0       F          H         83754.0  \n",
       "3615  39.0       M          U             0.0  \n",
       "3616  76.0       M          H         71618.0  \n",
       "3617  65.0       M          U             0.0  \n",
       "\n",
       "[3618 rows x 25 columns]"
      ]
     },
     "execution_count": 270,
     "metadata": {},
     "output_type": "execute_result"
    }
   ],
   "source": [
    "data"
   ]
  },
  {
   "cell_type": "markdown",
   "metadata": {},
   "source": [
    "## 2.4 Do we need `C_ID` in our analysis? Drop the columns you will not use in your analysis, if there is any.\n",
    "\n",
    "**Hint:** \n",
    "1. Drop the useless column(s)\n",
    "2. Remove the name of the column(s) from `CatCols` or `NumCols`\n",
    "    Example: CatCols.remove('C_ID')"
   ]
  },
  {
   "cell_type": "code",
   "execution_count": 271,
   "metadata": {
    "scrolled": true
   },
   "outputs": [],
   "source": [
    "NumCols.remove('C_ID')"
   ]
  },
  {
   "cell_type": "code",
   "execution_count": 272,
   "metadata": {},
   "outputs": [],
   "source": [
    "NumCols.remove('Cust_Last_Purchase')"
   ]
  },
  {
   "cell_type": "code",
   "execution_count": 273,
   "metadata": {},
   "outputs": [
    {
     "data": {
      "text/plain": [
       "(['Potential_Customer',\n",
       "  'Status_Cust',\n",
       "  'Status_Latest_Ad',\n",
       "  'Gender',\n",
       "  'Cust_Prop'],\n",
       " ['Pur_latest',\n",
       "  'Pur_5_years_Avg',\n",
       "  'Pur_3_years_Avg_Indirect',\n",
       "  'Age',\n",
       "  'Cust_Ann_Income',\n",
       "  'Pur_3_years_Indirect',\n",
       "  'Pur_3_years_Avg',\n",
       "  'Ad_Res_Ind_3_Year',\n",
       "  'Pur_5_years',\n",
       "  'Pur_3_years',\n",
       "  'InAct_Last',\n",
       "  'Ad_Res_5_Year',\n",
       "  'Pur_5_years_Indirect',\n",
       "  'Ad_Res_Ind_1_Year',\n",
       "  'Ad_Res_Ind_5_Year',\n",
       "  'InAct_First',\n",
       "  'Ad_Res_3_Year',\n",
       "  'Ad_Res_1_year'])"
      ]
     },
     "execution_count": 273,
     "metadata": {},
     "output_type": "execute_result"
    }
   ],
   "source": [
    "CatCols, NumCols"
   ]
  },
  {
   "cell_type": "markdown",
   "metadata": {},
   "source": [
    "# 3. Exploratory Data Analysis (EDA)\n",
    "    \n",
    "Checking the relationship betweem variables, summary of data, outliers, filling missing values etc.\n",
    "**If the ultimate goal is designing predictive models on the data, and we use EDA as part of the proprocessing, we are NOT allowed to do EDA on the test set.** However, if you only do EDA to get business insight from the data, you **CAN** use the whole data, if you don't use that insight for data preprocessing such as data cleaning.\n",
    "    \n",
    "**Example:** To impute the missing values by mean/median, we calculate the mean or the median on the Train set only and then we impute the missing values by that mean/median on both Train and Test data."
   ]
  },
  {
   "cell_type": "markdown",
   "metadata": {},
   "source": [
    "## 3.2 Explore Categorical Variables\n",
    "1. How many categories in each categorical variables?\n",
    "2. What proportion/percentage from each category?\n",
    "\n",
    "**Hint:**\n",
    "For visualization you can use `sns.countplot()` for each categorical variable\n"
   ]
  },
  {
   "cell_type": "code",
   "execution_count": 274,
   "metadata": {},
   "outputs": [
    {
     "data": {
      "text/plain": [
       "(['Potential_Customer',\n",
       "  'Status_Cust',\n",
       "  'Status_Latest_Ad',\n",
       "  'Gender',\n",
       "  'Cust_Prop'],\n",
       " ['Pur_latest',\n",
       "  'Pur_5_years_Avg',\n",
       "  'Pur_3_years_Avg_Indirect',\n",
       "  'Age',\n",
       "  'Cust_Ann_Income',\n",
       "  'Pur_3_years_Indirect',\n",
       "  'Pur_3_years_Avg',\n",
       "  'Ad_Res_Ind_3_Year',\n",
       "  'Pur_5_years',\n",
       "  'Pur_3_years',\n",
       "  'InAct_Last',\n",
       "  'Ad_Res_5_Year',\n",
       "  'Pur_5_years_Indirect',\n",
       "  'Ad_Res_Ind_1_Year',\n",
       "  'Ad_Res_Ind_5_Year',\n",
       "  'InAct_First',\n",
       "  'Ad_Res_3_Year',\n",
       "  'Ad_Res_1_year'])"
      ]
     },
     "execution_count": 274,
     "metadata": {},
     "output_type": "execute_result"
    }
   ],
   "source": [
    "CatCols, NumCols"
   ]
  },
  {
   "cell_type": "code",
   "execution_count": 275,
   "metadata": {},
   "outputs": [
    {
     "data": {
      "image/png": "[encoded data removed]",
      "text/plain": [
       "<Figure size 432x288 with 1 Axes>"
      ]
     },
     "metadata": {
      "needs_background": "light"
     },
     "output_type": "display_data"
    }
   ],
   "source": [
    "plot_1 = sns.countplot(data[CatCols[0]])\n",
    "\n",
    "def without_hue(plot, feature):\n",
    "    total = len(feature)\n",
    "    for p in plot.patches:\n",
    "        percentage = '{:.1f}%'.format(100 * p.get_height()/total)\n",
    "        x = p.get_x() + p.get_width() / 2 - 0.05\n",
    "        y = p.get_y() + p.get_height()\n",
    "        plot_1.annotate(percentage, (x, y), size = 12)\n",
    "    plt.show()\n",
    "    \n",
    "without_hue(plot_1,data.Potential_Customer)"
   ]
  },
  {
   "cell_type": "code",
   "execution_count": 276,
   "metadata": {
    "scrolled": true
   },
   "outputs": [
    {
     "data": {
      "image/png": "[encoded data removed]",
      "text/plain": [
       "<Figure size 432x288 with 1 Axes>"
      ]
     },
     "metadata": {
      "needs_background": "light"
     },
     "output_type": "display_data"
    }
   ],
   "source": [
    "# A - Active buyer, F - First time buyer, S - Star buyer, L - lapse buyer, N - New buyer\n",
    "plot_2 = sns.countplot(data[CatCols[1]])\n",
    "def without_hue(plot, feature):\n",
    "    total = len(feature)\n",
    "    for p in plot.patches:\n",
    "        percentage = '{:.1f}%'.format(100 * p.get_height()/total)\n",
    "        x = p.get_x() + p.get_width() / 2 - 0.05\n",
    "        y = p.get_y() + p.get_height()\n",
    "        plot_2.annotate(percentage, (x, y), size = 12)\n",
    "    plt.show()\n",
    "without_hue(plot_2,data.Status_Cust)"
   ]
  },
  {
   "cell_type": "code",
   "execution_count": 277,
   "metadata": {},
   "outputs": [
    {
     "data": {
      "image/png": "[encoded data removed]",
      "text/plain": [
       "<Figure size 432x288 with 1 Axes>"
      ]
     },
     "metadata": {
      "needs_background": "light"
     },
     "output_type": "display_data"
    }
   ],
   "source": [
    "plot_3 = sns.countplot(data[CatCols[2]])\n",
    "def without_hue(plot, feature):\n",
    "    total = len(feature)\n",
    "    for p in plot.patches:\n",
    "        percentage = '{:.1f}%'.format(100 * p.get_height()/total)\n",
    "        x = p.get_x() + p.get_width() / 2 - 0.05\n",
    "        y = p.get_y() + p.get_height()\n",
    "        plot_3.annotate(percentage, (x, y), size = 12)\n",
    "    plt.show()\n",
    "    \n",
    "without_hue(plot_3, data.Status_Latest_Ad)"
   ]
  },
  {
   "cell_type": "code",
   "execution_count": 278,
   "metadata": {},
   "outputs": [
    {
     "data": {
      "image/png": "[encoded data removed]",
      "text/plain": [
       "<Figure size 432x288 with 1 Axes>"
      ]
     },
     "metadata": {
      "needs_background": "light"
     },
     "output_type": "display_data"
    }
   ],
   "source": [
    "plot_4 = sns.countplot(data[CatCols[3]])\n",
    "def without_hue(plot, feature):\n",
    "    total = len(feature)\n",
    "    for p in plot.patches:\n",
    "        percentage = '{:.1f}%'.format(100 * p.get_height()/total)\n",
    "        x = p.get_x() + p.get_width() / 2 - 0.05\n",
    "        y = p.get_y() + p.get_height()\n",
    "        plot_4.annotate(percentage, (x, y), size = 12)\n",
    "    plt.show()\n",
    "\n",
    "without_hue(plot_4, data.Gender)"
   ]
  },
  {
   "cell_type": "code",
   "execution_count": 279,
   "metadata": {},
   "outputs": [
    {
     "data": {
      "image/png": "[encoded data removed]",
      "text/plain": [
       "<Figure size 432x288 with 1 Axes>"
      ]
     },
     "metadata": {
      "needs_background": "light"
     },
     "output_type": "display_data"
    }
   ],
   "source": [
    "plot_5 = sns.countplot(data[CatCols[4]])\n",
    "def without_hue(plot, feature):\n",
    "    total = len(feature)\n",
    "    for p in plot.patches:\n",
    "        percentage = '{:.1f}%'.format(100 * p.get_height()/total)\n",
    "        x = p.get_x() + p.get_width() / 2 - 0.05\n",
    "        y = p.get_y() + p.get_height()\n",
    "        plot_5.annotate(percentage, (x, y), size = 12)\n",
    "    plt.show()\n",
    "without_hue(plot_5, data.Cust_Prop)"
   ]
  },
  {
   "cell_type": "markdown",
   "metadata": {},
   "source": [
    "### 3.1.1 Insight"
   ]
  },
  {
   "cell_type": "code",
   "execution_count": 280,
   "metadata": {},
   "outputs": [
    {
     "ename": "SyntaxError",
     "evalue": "invalid syntax (<ipython-input-280-150faaf6be56>, line 1)",
     "output_type": "error",
     "traceback": [
      "\u001b[0;36m  File \u001b[0;32m\"<ipython-input-280-150faaf6be56>\"\u001b[0;36m, line \u001b[0;32m1\u001b[0m\n\u001b[0;31m    1. More than 50% active buyers\u001b[0m\n\u001b[0m       ^\u001b[0m\n\u001b[0;31mSyntaxError\u001b[0m\u001b[0;31m:\u001b[0m invalid syntax\n"
     ]
    }
   ],
   "source": [
    "1. More than 50% active buyers \n",
    "2. Female buyers dominate \n",
    "3. House owners buying more "
   ]
  },
  {
   "cell_type": "markdown",
   "metadata": {},
   "source": [
    "### 3.1.2 Solution"
   ]
  },
  {
   "cell_type": "code",
   "execution_count": null,
   "metadata": {},
   "outputs": [],
   "source": []
  },
  {
   "cell_type": "markdown",
   "metadata": {},
   "source": [
    "## 3.2 Explore Relationship Between Categorical & Target Variable. Interpret the observation\n",
    "\n",
    "**Hint**: \n",
    "1. Create list of the categorical features:\n",
    "    `CatFes=list(set(CatCols)-set(['Potential_Customer']))`\n",
    "\n",
    "2. use `sns.countplot()` to create subplots for each categorical feature and hue=`data.Potential_Customer` to assign color to the plot based on the target variable `Potential_Customer`"
   ]
  },
  {
   "cell_type": "code",
   "execution_count": 281,
   "metadata": {
    "scrolled": false
   },
   "outputs": [
    {
     "data": {
      "text/plain": [
       "(['Gender', 'Cust_Prop', 'Status_Cust', 'Status_Latest_Ad'],\n",
       " ['Potential_Customer'])"
      ]
     },
     "execution_count": 281,
     "metadata": {},
     "output_type": "execute_result"
    }
   ],
   "source": [
    "CatFes = list(set(CatCols)-set(['Potential_Customer']))\n",
    "CatTar = list(set(['Potential_Customer']))\n",
    "CatFes, CatTar"
   ]
  },
  {
   "cell_type": "markdown",
   "metadata": {},
   "source": [
    "### 3.2.1. Insight"
   ]
  },
  {
   "cell_type": "code",
   "execution_count": 282,
   "metadata": {},
   "outputs": [
    {
     "data": {
      "image/png": "[encoded data removed]",
      "text/plain": [
       "<Figure size 432x288 with 4 Axes>"
      ]
     },
     "metadata": {
      "needs_background": "light"
     },
     "output_type": "display_data"
    }
   ],
   "source": [
    "fig, ax = plt.subplots(2,2, sharex= False, sharey='row')\n",
    "sns.countplot(data[CatFes[0]], ax=ax[0,0], hue = data.Potential_Customer)\n",
    "sns.countplot(data[CatFes[1]], ax=ax[0,1], hue = data.Potential_Customer)\n",
    "sns.countplot(data[CatFes[2]], ax=ax[1,0], hue = data.Potential_Customer)\n",
    "sns.countplot(data[CatFes[3]], ax=ax[1,1], hue = data.Potential_Customer)\n",
    "fig.show()\n"
   ]
  },
  {
   "cell_type": "markdown",
   "metadata": {},
   "source": [
    "## 3.3 Explore Numerical Variables\n",
    "\n",
    "**Hint**: use `sns.distplot()` and `sns.boxplot()`"
   ]
  },
  {
   "cell_type": "code",
   "execution_count": 30,
   "metadata": {},
   "outputs": [
    {
     "data": {
      "text/plain": [
       "18"
      ]
     },
     "execution_count": 30,
     "metadata": {},
     "output_type": "execute_result"
    }
   ],
   "source": [
    "CatFes_num = list(set(NumCols))\n",
    "len(CatFes_num)"
   ]
  },
  {
   "cell_type": "code",
   "execution_count": 31,
   "metadata": {},
   "outputs": [
    {
     "data": {
      "text/plain": [
       "['Ad_Res_Ind_3_Year',\n",
       " 'Pur_5_years',\n",
       " 'Pur_3_years',\n",
       " 'InAct_Last',\n",
       " 'Ad_Res_Ind_1_Year',\n",
       " 'Ad_Res_5_Year',\n",
       " 'Pur_5_years_Indirect',\n",
       " 'Ad_Res_Ind_5_Year',\n",
       " 'Pur_5_years_Avg',\n",
       " 'Pur_3_years_Avg_Indirect',\n",
       " 'Age',\n",
       " 'Cust_Ann_Income',\n",
       " 'InAct_First',\n",
       " 'Pur_latest',\n",
       " 'Pur_3_years_Avg',\n",
       " 'Ad_Res_1_year',\n",
       " 'Pur_3_years_Indirect',\n",
       " 'Ad_Res_3_Year']"
      ]
     },
     "execution_count": 31,
     "metadata": {},
     "output_type": "execute_result"
    }
   ],
   "source": [
    "CatFes_num"
   ]
  },
  {
   "cell_type": "code",
   "execution_count": 32,
   "metadata": {},
   "outputs": [
    {
     "data": {
      "image/png": "[encoded data removed]",
      "text/plain": [
       "<Figure size 432x288 with 18 Axes>"
      ]
     },
     "metadata": {
      "needs_background": "light"
     },
     "output_type": "display_data"
    }
   ],
   "source": [
    "fig, ax = plt.subplots(6,3, sharex= False, sharey=False)\n",
    "sns.distplot(data[CatFes_num[0]], ax=ax[0,0])\n",
    "sns.distplot(data[CatFes_num[1]], ax=ax[0,1])\n",
    "sns.distplot(data[CatFes_num[2]], ax=ax[0,2])\n",
    "sns.distplot(data[CatFes_num[3]], ax=ax[1,0])\n",
    "sns.distplot(data[CatFes_num[4]], ax=ax[1,1])\n",
    "sns.distplot(data[CatFes_num[5]], ax=ax[1,2])\n",
    "sns.distplot(data[CatFes_num[6]], ax=ax[2,0])\n",
    "sns.distplot(data[CatFes_num[7]], ax=ax[2,1])\n",
    "sns.distplot(data[CatFes_num[8]], ax=ax[2,2])\n",
    "sns.distplot(data[CatFes_num[9]], ax=ax[3,0])\n",
    "sns.distplot(data[CatFes_num[10]], ax=ax[3,1])\n",
    "sns.distplot(data[CatFes_num[11]], ax=ax[3,2])\n",
    "sns.distplot(data[CatFes_num[12]], ax=ax[4,0])\n",
    "sns.distplot(data[CatFes_num[13]], ax=ax[4,1])\n",
    "sns.distplot(data[CatFes_num[14]], ax=ax[4,2])\n",
    "sns.distplot(data[CatFes_num[15]], ax=ax[5,0])\n",
    "sns.distplot(data[CatFes_num[16]], ax=ax[5,1])\n",
    "sns.distplot(data[CatFes_num[17]], ax=ax[5,2])\n",
    "\n",
    "fig.show()\n",
    "# 0 - 'Ad_Res_1_year'\n",
    "# 1 - 'Ad_Res_1_year',\n",
    "# 2 - 'Ad_Res_Ind_1_Year',\n",
    "# 3 - 'InAct_Last',\n",
    "# 4 - 'Ad_Res_Ind_3_Year',\n",
    "# 5 - 'Pur_5_years_Indirect',\n",
    "# 6 - 'Ad_Res_Ind_5_Year',\n",
    "# 7 - 'Pur_5_years',\n",
    "# 8 - 'Pur_3_years_Indirect',\n",
    "# 9 - 'Pur_5_years_Avg',\n",
    "# 10 - 'Age',\n",
    "\n",
    "# 11 - 'Ad_Res_5_Year',\n",
    "# 12 - 'Pur_3_years',\n",
    "# 13 - 'Pur_3_years_Avg',\n",
    "# 14 - 'Cust_Ann_Income',\n",
    "# 15 - 'InAct_First',\n",
    "# 16 - 'Pur_latest',\n",
    "# 17 - 'Ad_Res_3_Year',\n",
    "# 18 - 'Pur_3_years_Avg_Indirect'\n"
   ]
  },
  {
   "cell_type": "code",
   "execution_count": 33,
   "metadata": {
    "scrolled": false
   },
   "outputs": [
    {
     "data": {
      "image/png": "[encoded data removed]",
      "text/plain": [
       "<Figure size 432x288 with 18 Axes>"
      ]
     },
     "metadata": {
      "needs_background": "light"
     },
     "output_type": "display_data"
    }
   ],
   "source": [
    "fig, ax = plt.subplots(6,3, sharex= False, sharey= False)\n",
    "sns.boxplot(data[CatFes_num[0]], ax=ax[0,0])\n",
    "sns.boxplot(data[CatFes_num[1]], ax=ax[0,1])\n",
    "sns.boxplot(data[CatFes_num[2]], ax=ax[0,2])\n",
    "sns.boxplot(data[CatFes_num[3]], ax=ax[1,0])\n",
    "sns.boxplot(data[CatFes_num[4]], ax=ax[1,1])\n",
    "sns.boxplot(data[CatFes_num[5]], ax=ax[1,2])\n",
    "sns.boxplot(data[CatFes_num[6]], ax=ax[2,0])\n",
    "sns.boxplot(data[CatFes_num[7]], ax=ax[2,1])\n",
    "sns.boxplot(data[CatFes_num[8]], ax=ax[2,2])\n",
    "sns.boxplot(data[CatFes_num[9]], ax=ax[3,0])\n",
    "sns.boxplot(data[CatFes_num[10]], ax=ax[3,1])\n",
    "sns.boxplot(data[CatFes_num[11]], ax=ax[3,2])\n",
    "sns.boxplot(data[CatFes_num[12]], ax=ax[4,0])\n",
    "sns.boxplot(data[CatFes_num[13]], ax=ax[4,1])\n",
    "sns.boxplot(data[CatFes_num[14]], ax=ax[4,2])\n",
    "sns.boxplot(data[CatFes_num[15]], ax=ax[5,0])\n",
    "sns.boxplot(data[CatFes_num[16]], ax=ax[5,1])\n",
    "sns.boxplot(data[CatFes_num[17]], ax=ax[5,2])\n",
    "\n",
    "fig.show()\n"
   ]
  },
  {
   "cell_type": "markdown",
   "metadata": {},
   "source": [
    "### 3.3.1 Insight"
   ]
  },
  {
   "cell_type": "code",
   "execution_count": null,
   "metadata": {},
   "outputs": [],
   "source": []
  },
  {
   "cell_type": "markdown",
   "metadata": {},
   "source": [
    "## 3.4 Explore the Relationship between Numerical Variables & Target Variable. Interpret your observation"
   ]
  },
  {
   "cell_type": "code",
   "execution_count": 34,
   "metadata": {},
   "outputs": [],
   "source": [
    "x = data[CatFes_num]\n",
    "y = data[CatCols[0]]"
   ]
  },
  {
   "cell_type": "code",
   "execution_count": 35,
   "metadata": {},
   "outputs": [
    {
     "data": {
      "text/plain": [
       "<AxesSubplot:xlabel='Potential_Customer', ylabel='Pur_5_years_Indirect'>"
      ]
     },
     "execution_count": 35,
     "metadata": {},
     "output_type": "execute_result"
    },
    {
     "data": {
      "image/png": "[encoded data removed]",
      "text/plain": [
       "<Figure size 432x288 with 1 Axes>"
      ]
     },
     "metadata": {
      "needs_background": "light"
     },
     "output_type": "display_data"
    }
   ],
   "source": [
    "sns.barplot(y, x.Pur_5_years_Indirect)"
   ]
  },
  {
   "cell_type": "code",
   "execution_count": 36,
   "metadata": {},
   "outputs": [
    {
     "data": {
      "text/plain": [
       "<AxesSubplot:xlabel='Potential_Customer', ylabel='Ad_Res_Ind_5_Year'>"
      ]
     },
     "execution_count": 36,
     "metadata": {},
     "output_type": "execute_result"
    },
    {
     "data": {
      "image/png": "[encoded data removed]",
      "text/plain": [
       "<Figure size 432x288 with 1 Axes>"
      ]
     },
     "metadata": {
      "needs_background": "light"
     },
     "output_type": "display_data"
    }
   ],
   "source": [
    "sns.barplot(y, x.Ad_Res_Ind_5_Year)"
   ]
  },
  {
   "cell_type": "markdown",
   "metadata": {},
   "source": [
    "## 3.5 Explore the Relationship between the columns and try to answer the following questions:\n",
    "\n",
    "1. Is there any significant difference between men/women's salary?\n",
    "\n",
    "2. Is there any significant difference between men/women's number of the purchase in the last three years?\n",
    "\n",
    "3. Is there any significant difference between men/women's average purchase in the last three years?\n",
    "\n",
    "4. Is there any significant difference between men/women's total purchase in the last three years?\n",
    "\n",
    "5. (optional) You can explore more about the relationships between the columns, if you believe the insight will improve some dicisions in this company. For instance, sending advertisements to customers regarding gender, customer status, etc."
   ]
  },
  {
   "cell_type": "code",
   "execution_count": 37,
   "metadata": {},
   "outputs": [
    {
     "data": {
      "text/plain": [
       "<AxesSubplot:xlabel='Gender', ylabel='Cust_Ann_Income'>"
      ]
     },
     "execution_count": 37,
     "metadata": {},
     "output_type": "execute_result"
    },
    {
     "data": {
      "image/png": "[encoded data removed]",
      "text/plain": [
       "<Figure size 432x288 with 1 Axes>"
      ]
     },
     "metadata": {
      "needs_background": "light"
     },
     "output_type": "display_data"
    }
   ],
   "source": [
    "sns.barplot(x = data.Gender, y = data.Cust_Ann_Income)\n",
    "# No significant difference in salary for men and women"
   ]
  },
  {
   "cell_type": "code",
   "execution_count": 38,
   "metadata": {},
   "outputs": [
    {
     "data": {
      "text/plain": [
       "<AxesSubplot:xlabel='Gender', ylabel='Pur_3_years'>"
      ]
     },
     "execution_count": 38,
     "metadata": {},
     "output_type": "execute_result"
    },
    {
     "data": {
      "image/png": "[encoded data removed]",
      "text/plain": [
       "<Figure size 432x288 with 1 Axes>"
      ]
     },
     "metadata": {
      "needs_background": "light"
     },
     "output_type": "display_data"
    }
   ],
   "source": [
    "sns.barplot(x = data.Gender, y = data.Pur_3_years)"
   ]
  },
  {
   "cell_type": "code",
   "execution_count": 39,
   "metadata": {},
   "outputs": [
    {
     "data": {
      "text/plain": [
       "<AxesSubplot:xlabel='Gender', ylabel='Pur_3_years_Avg'>"
      ]
     },
     "execution_count": 39,
     "metadata": {},
     "output_type": "execute_result"
    },
    {
     "data": {
      "image/png": "[encoded data removed]",
      "text/plain": [
       "<Figure size 432x288 with 1 Axes>"
      ]
     },
     "metadata": {
      "needs_background": "light"
     },
     "output_type": "display_data"
    }
   ],
   "source": [
    "sns.barplot(x = data.Gender, y = data.Pur_3_years_Avg)"
   ]
  },
  {
   "cell_type": "code",
   "execution_count": 40,
   "metadata": {},
   "outputs": [
    {
     "data": {
      "text/plain": [
       "<AxesSubplot:xlabel='Gender'>"
      ]
     },
     "execution_count": 40,
     "metadata": {},
     "output_type": "execute_result"
    },
    {
     "data": {
      "image/png": "[encoded data removed]",
      "text/plain": [
       "<Figure size 432x288 with 1 Axes>"
      ]
     },
     "metadata": {
      "needs_background": "light"
     },
     "output_type": "display_data"
    }
   ],
   "source": [
    "\n",
    "sns.barplot(x = data.Gender, y = data.Pur_3_years_Avg*data.Pur_3_years)"
   ]
  },
  {
   "cell_type": "markdown",
   "metadata": {},
   "source": [
    "# 4. Feature Enginearing"
   ]
  },
  {
   "cell_type": "markdown",
   "metadata": {},
   "source": [
    "## 4.1 Add Some High Level Features and explore their relationship with the target variable\n",
    "\n",
    "Sometimes we can use high level features that reflect the interactions between the columns as new features to get better insight and feed more information to our predictive models. Also transformation of some columns can be better options to be fed to the models. For instance, instead of a numerical column, you can use log of the column, square of the column, or any other transformation of the column. The type of interaction, or transformation you should choose, can be defined after Exploratory data analysis or just business insight.\n",
    "\n",
    "**Example:** Instead of two variables for the number of purchase, and the average amount of purchase, we could calculate the total amount of purchase for the customers. "
   ]
  },
  {
   "cell_type": "code",
   "execution_count": 283,
   "metadata": {},
   "outputs": [],
   "source": [
    "data.insert(0, \"Total_pur_3_years\",data.Pur_3_years_Avg*data.Pur_3_years, True)\n",
    "data.insert(0, \"Total_pur_5_years\",data.Pur_5_years_Avg*data.Pur_5_years, True)\n",
    "data = data.loc[:, data.columns != 'C_ID']\n",
    "data = data.loc[:, data.columns != 'Cust_Last_Purchase']\n"
   ]
  },
  {
   "cell_type": "code",
   "execution_count": 284,
   "metadata": {},
   "outputs": [
    {
     "data": {
      "text/html": [
       "<div>\n",
       "<style scoped>\n",
       "    .dataframe tbody tr th:only-of-type {\n",
       "        vertical-align: middle;\n",
       "    }\n",
       "\n",
       "    .dataframe tbody tr th {\n",
       "        vertical-align: top;\n",
       "    }\n",
       "\n",
       "    .dataframe thead th {\n",
       "        text-align: right;\n",
       "    }\n",
       "</style>\n",
       "<table border=\"1\" class=\"dataframe\">\n",
       "  <thead>\n",
       "    <tr style=\"text-align: right;\">\n",
       "      <th></th>\n",
       "      <th>Total_pur_5_years</th>\n",
       "      <th>Total_pur_3_years</th>\n",
       "      <th>Potential_Customer</th>\n",
       "      <th>Pur_3_years</th>\n",
       "      <th>Pur_5_years</th>\n",
       "      <th>Pur_3_years_Indirect</th>\n",
       "      <th>Pur_5_years_Indirect</th>\n",
       "      <th>Pur_latest</th>\n",
       "      <th>Pur_3_years_Avg</th>\n",
       "      <th>Pur_5_years_Avg</th>\n",
       "      <th>...</th>\n",
       "      <th>Ad_Res_5_Year</th>\n",
       "      <th>Ad_Res_Ind_1_Year</th>\n",
       "      <th>Ad_Res_Ind_3_Year</th>\n",
       "      <th>Ad_Res_Ind_5_Year</th>\n",
       "      <th>Status_Cust</th>\n",
       "      <th>Status_Latest_Ad</th>\n",
       "      <th>Age</th>\n",
       "      <th>Gender</th>\n",
       "      <th>Cust_Prop</th>\n",
       "      <th>Cust_Ann_Income</th>\n",
       "    </tr>\n",
       "  </thead>\n",
       "  <tbody>\n",
       "    <tr>\n",
       "      <th>0</th>\n",
       "      <td>131.92</td>\n",
       "      <td>15.00</td>\n",
       "      <td>1</td>\n",
       "      <td>2.0</td>\n",
       "      <td>17.0</td>\n",
       "      <td>2.0</td>\n",
       "      <td>4.0</td>\n",
       "      <td>0.0</td>\n",
       "      <td>7.50</td>\n",
       "      <td>7.76</td>\n",
       "      <td>...</td>\n",
       "      <td>73.0</td>\n",
       "      <td>3.0</td>\n",
       "      <td>12.0</td>\n",
       "      <td>16.0</td>\n",
       "      <td>A</td>\n",
       "      <td>0</td>\n",
       "      <td>71.0</td>\n",
       "      <td>F</td>\n",
       "      <td>H</td>\n",
       "      <td>65957.0</td>\n",
       "    </tr>\n",
       "    <tr>\n",
       "      <th>1</th>\n",
       "      <td>91.00</td>\n",
       "      <td>25.00</td>\n",
       "      <td>1</td>\n",
       "      <td>1.0</td>\n",
       "      <td>7.0</td>\n",
       "      <td>0.0</td>\n",
       "      <td>3.0</td>\n",
       "      <td>25.0</td>\n",
       "      <td>25.00</td>\n",
       "      <td>13.00</td>\n",
       "      <td>...</td>\n",
       "      <td>55.0</td>\n",
       "      <td>6.0</td>\n",
       "      <td>6.0</td>\n",
       "      <td>22.0</td>\n",
       "      <td>A</td>\n",
       "      <td>1</td>\n",
       "      <td>7.0</td>\n",
       "      <td>M</td>\n",
       "      <td>U</td>\n",
       "      <td>0.0</td>\n",
       "    </tr>\n",
       "    <tr>\n",
       "      <th>2</th>\n",
       "      <td>135.00</td>\n",
       "      <td>75.00</td>\n",
       "      <td>0</td>\n",
       "      <td>5.0</td>\n",
       "      <td>12.0</td>\n",
       "      <td>3.0</td>\n",
       "      <td>5.0</td>\n",
       "      <td>15.0</td>\n",
       "      <td>15.00</td>\n",
       "      <td>11.25</td>\n",
       "      <td>...</td>\n",
       "      <td>53.0</td>\n",
       "      <td>6.0</td>\n",
       "      <td>17.0</td>\n",
       "      <td>22.0</td>\n",
       "      <td>S</td>\n",
       "      <td>1</td>\n",
       "      <td>79.0</td>\n",
       "      <td>F</td>\n",
       "      <td>U</td>\n",
       "      <td>0.0</td>\n",
       "    </tr>\n",
       "    <tr>\n",
       "      <th>3</th>\n",
       "      <td>136.95</td>\n",
       "      <td>20.00</td>\n",
       "      <td>1</td>\n",
       "      <td>1.0</td>\n",
       "      <td>11.0</td>\n",
       "      <td>0.0</td>\n",
       "      <td>3.0</td>\n",
       "      <td>20.0</td>\n",
       "      <td>20.00</td>\n",
       "      <td>12.45</td>\n",
       "      <td>...</td>\n",
       "      <td>71.0</td>\n",
       "      <td>8.0</td>\n",
       "      <td>8.0</td>\n",
       "      <td>33.0</td>\n",
       "      <td>A</td>\n",
       "      <td>0</td>\n",
       "      <td>73.0</td>\n",
       "      <td>F</td>\n",
       "      <td>U</td>\n",
       "      <td>76293.0</td>\n",
       "    </tr>\n",
       "    <tr>\n",
       "      <th>4</th>\n",
       "      <td>57.00</td>\n",
       "      <td>12.99</td>\n",
       "      <td>1</td>\n",
       "      <td>3.0</td>\n",
       "      <td>15.0</td>\n",
       "      <td>2.0</td>\n",
       "      <td>7.0</td>\n",
       "      <td>3.0</td>\n",
       "      <td>4.33</td>\n",
       "      <td>3.80</td>\n",
       "      <td>...</td>\n",
       "      <td>63.0</td>\n",
       "      <td>6.0</td>\n",
       "      <td>12.0</td>\n",
       "      <td>24.0</td>\n",
       "      <td>S</td>\n",
       "      <td>1</td>\n",
       "      <td>68.0</td>\n",
       "      <td>F</td>\n",
       "      <td>H</td>\n",
       "      <td>113663.0</td>\n",
       "    </tr>\n",
       "  </tbody>\n",
       "</table>\n",
       "<p>5 rows × 25 columns</p>\n",
       "</div>"
      ],
      "text/plain": [
       "   Total_pur_5_years  Total_pur_3_years Potential_Customer  Pur_3_years  \\\n",
       "0             131.92              15.00                  1          2.0   \n",
       "1              91.00              25.00                  1          1.0   \n",
       "2             135.00              75.00                  0          5.0   \n",
       "3             136.95              20.00                  1          1.0   \n",
       "4              57.00              12.99                  1          3.0   \n",
       "\n",
       "   Pur_5_years  Pur_3_years_Indirect  Pur_5_years_Indirect  Pur_latest  \\\n",
       "0         17.0                   2.0                   4.0         0.0   \n",
       "1          7.0                   0.0                   3.0        25.0   \n",
       "2         12.0                   3.0                   5.0        15.0   \n",
       "3         11.0                   0.0                   3.0        20.0   \n",
       "4         15.0                   2.0                   7.0         3.0   \n",
       "\n",
       "   Pur_3_years_Avg  Pur_5_years_Avg  ...  Ad_Res_5_Year  Ad_Res_Ind_1_Year  \\\n",
       "0             7.50             7.76  ...           73.0                3.0   \n",
       "1            25.00            13.00  ...           55.0                6.0   \n",
       "2            15.00            11.25  ...           53.0                6.0   \n",
       "3            20.00            12.45  ...           71.0                8.0   \n",
       "4             4.33             3.80  ...           63.0                6.0   \n",
       "\n",
       "   Ad_Res_Ind_3_Year  Ad_Res_Ind_5_Year  Status_Cust  Status_Latest_Ad   Age  \\\n",
       "0               12.0               16.0            A                 0  71.0   \n",
       "1                6.0               22.0            A                 1   7.0   \n",
       "2               17.0               22.0            S                 1  79.0   \n",
       "3                8.0               33.0            A                 0  73.0   \n",
       "4               12.0               24.0            S                 1  68.0   \n",
       "\n",
       "   Gender  Cust_Prop Cust_Ann_Income  \n",
       "0       F          H         65957.0  \n",
       "1       M          U             0.0  \n",
       "2       F          U             0.0  \n",
       "3       F          U         76293.0  \n",
       "4       F          H        113663.0  \n",
       "\n",
       "[5 rows x 25 columns]"
      ]
     },
     "execution_count": 284,
     "metadata": {},
     "output_type": "execute_result"
    }
   ],
   "source": [
    "data.head()"
   ]
  },
  {
   "cell_type": "code",
   "execution_count": 285,
   "metadata": {},
   "outputs": [
    {
     "data": {
      "text/html": [
       "<div>\n",
       "<style scoped>\n",
       "    .dataframe tbody tr th:only-of-type {\n",
       "        vertical-align: middle;\n",
       "    }\n",
       "\n",
       "    .dataframe tbody tr th {\n",
       "        vertical-align: top;\n",
       "    }\n",
       "\n",
       "    .dataframe thead th {\n",
       "        text-align: right;\n",
       "    }\n",
       "</style>\n",
       "<table border=\"1\" class=\"dataframe\">\n",
       "  <thead>\n",
       "    <tr style=\"text-align: right;\">\n",
       "      <th></th>\n",
       "      <th>Total_pur_3_years_Ind</th>\n",
       "      <th>Total_pur_5_years</th>\n",
       "      <th>Total_pur_3_years</th>\n",
       "      <th>Potential_Customer</th>\n",
       "      <th>Pur_3_years</th>\n",
       "      <th>Pur_5_years</th>\n",
       "      <th>Pur_3_years_Indirect</th>\n",
       "      <th>Pur_5_years_Indirect</th>\n",
       "      <th>Pur_latest</th>\n",
       "      <th>Pur_3_years_Avg</th>\n",
       "      <th>...</th>\n",
       "      <th>Ad_Res_5_Year</th>\n",
       "      <th>Ad_Res_Ind_1_Year</th>\n",
       "      <th>Ad_Res_Ind_3_Year</th>\n",
       "      <th>Ad_Res_Ind_5_Year</th>\n",
       "      <th>Status_Cust</th>\n",
       "      <th>Status_Latest_Ad</th>\n",
       "      <th>Age</th>\n",
       "      <th>Gender</th>\n",
       "      <th>Cust_Prop</th>\n",
       "      <th>Cust_Ann_Income</th>\n",
       "    </tr>\n",
       "  </thead>\n",
       "  <tbody>\n",
       "    <tr>\n",
       "      <th>0</th>\n",
       "      <td>15.00</td>\n",
       "      <td>131.92</td>\n",
       "      <td>15.00</td>\n",
       "      <td>1</td>\n",
       "      <td>2.0</td>\n",
       "      <td>17.0</td>\n",
       "      <td>2.0</td>\n",
       "      <td>4.0</td>\n",
       "      <td>0.0</td>\n",
       "      <td>7.50</td>\n",
       "      <td>...</td>\n",
       "      <td>73.0</td>\n",
       "      <td>3.0</td>\n",
       "      <td>12.0</td>\n",
       "      <td>16.0</td>\n",
       "      <td>A</td>\n",
       "      <td>0</td>\n",
       "      <td>71.0</td>\n",
       "      <td>F</td>\n",
       "      <td>H</td>\n",
       "      <td>65957.0</td>\n",
       "    </tr>\n",
       "    <tr>\n",
       "      <th>1</th>\n",
       "      <td>NaN</td>\n",
       "      <td>91.00</td>\n",
       "      <td>25.00</td>\n",
       "      <td>1</td>\n",
       "      <td>1.0</td>\n",
       "      <td>7.0</td>\n",
       "      <td>0.0</td>\n",
       "      <td>3.0</td>\n",
       "      <td>25.0</td>\n",
       "      <td>25.00</td>\n",
       "      <td>...</td>\n",
       "      <td>55.0</td>\n",
       "      <td>6.0</td>\n",
       "      <td>6.0</td>\n",
       "      <td>22.0</td>\n",
       "      <td>A</td>\n",
       "      <td>1</td>\n",
       "      <td>7.0</td>\n",
       "      <td>M</td>\n",
       "      <td>U</td>\n",
       "      <td>0.0</td>\n",
       "    </tr>\n",
       "    <tr>\n",
       "      <th>2</th>\n",
       "      <td>44.01</td>\n",
       "      <td>135.00</td>\n",
       "      <td>75.00</td>\n",
       "      <td>0</td>\n",
       "      <td>5.0</td>\n",
       "      <td>12.0</td>\n",
       "      <td>3.0</td>\n",
       "      <td>5.0</td>\n",
       "      <td>15.0</td>\n",
       "      <td>15.00</td>\n",
       "      <td>...</td>\n",
       "      <td>53.0</td>\n",
       "      <td>6.0</td>\n",
       "      <td>17.0</td>\n",
       "      <td>22.0</td>\n",
       "      <td>S</td>\n",
       "      <td>1</td>\n",
       "      <td>79.0</td>\n",
       "      <td>F</td>\n",
       "      <td>U</td>\n",
       "      <td>0.0</td>\n",
       "    </tr>\n",
       "    <tr>\n",
       "      <th>3</th>\n",
       "      <td>NaN</td>\n",
       "      <td>136.95</td>\n",
       "      <td>20.00</td>\n",
       "      <td>1</td>\n",
       "      <td>1.0</td>\n",
       "      <td>11.0</td>\n",
       "      <td>0.0</td>\n",
       "      <td>3.0</td>\n",
       "      <td>20.0</td>\n",
       "      <td>20.00</td>\n",
       "      <td>...</td>\n",
       "      <td>71.0</td>\n",
       "      <td>8.0</td>\n",
       "      <td>8.0</td>\n",
       "      <td>33.0</td>\n",
       "      <td>A</td>\n",
       "      <td>0</td>\n",
       "      <td>73.0</td>\n",
       "      <td>F</td>\n",
       "      <td>U</td>\n",
       "      <td>76293.0</td>\n",
       "    </tr>\n",
       "    <tr>\n",
       "      <th>4</th>\n",
       "      <td>8.00</td>\n",
       "      <td>57.00</td>\n",
       "      <td>12.99</td>\n",
       "      <td>1</td>\n",
       "      <td>3.0</td>\n",
       "      <td>15.0</td>\n",
       "      <td>2.0</td>\n",
       "      <td>7.0</td>\n",
       "      <td>3.0</td>\n",
       "      <td>4.33</td>\n",
       "      <td>...</td>\n",
       "      <td>63.0</td>\n",
       "      <td>6.0</td>\n",
       "      <td>12.0</td>\n",
       "      <td>24.0</td>\n",
       "      <td>S</td>\n",
       "      <td>1</td>\n",
       "      <td>68.0</td>\n",
       "      <td>F</td>\n",
       "      <td>H</td>\n",
       "      <td>113663.0</td>\n",
       "    </tr>\n",
       "  </tbody>\n",
       "</table>\n",
       "<p>5 rows × 26 columns</p>\n",
       "</div>"
      ],
      "text/plain": [
       "   Total_pur_3_years_Ind  Total_pur_5_years  Total_pur_3_years  \\\n",
       "0                  15.00             131.92              15.00   \n",
       "1                    NaN              91.00              25.00   \n",
       "2                  44.01             135.00              75.00   \n",
       "3                    NaN             136.95              20.00   \n",
       "4                   8.00              57.00              12.99   \n",
       "\n",
       "  Potential_Customer  Pur_3_years  Pur_5_years  Pur_3_years_Indirect  \\\n",
       "0                  1          2.0         17.0                   2.0   \n",
       "1                  1          1.0          7.0                   0.0   \n",
       "2                  0          5.0         12.0                   3.0   \n",
       "3                  1          1.0         11.0                   0.0   \n",
       "4                  1          3.0         15.0                   2.0   \n",
       "\n",
       "   Pur_5_years_Indirect  Pur_latest  Pur_3_years_Avg  ...  Ad_Res_5_Year  \\\n",
       "0                   4.0         0.0             7.50  ...           73.0   \n",
       "1                   3.0        25.0            25.00  ...           55.0   \n",
       "2                   5.0        15.0            15.00  ...           53.0   \n",
       "3                   3.0        20.0            20.00  ...           71.0   \n",
       "4                   7.0         3.0             4.33  ...           63.0   \n",
       "\n",
       "   Ad_Res_Ind_1_Year  Ad_Res_Ind_3_Year  Ad_Res_Ind_5_Year  Status_Cust  \\\n",
       "0                3.0               12.0               16.0            A   \n",
       "1                6.0                6.0               22.0            A   \n",
       "2                6.0               17.0               22.0            S   \n",
       "3                8.0                8.0               33.0            A   \n",
       "4                6.0               12.0               24.0            S   \n",
       "\n",
       "   Status_Latest_Ad   Age  Gender  Cust_Prop  Cust_Ann_Income  \n",
       "0                 0  71.0       F          H          65957.0  \n",
       "1                 1   7.0       M          U              0.0  \n",
       "2                 1  79.0       F          U              0.0  \n",
       "3                 0  73.0       F          U          76293.0  \n",
       "4                 1  68.0       F          H         113663.0  \n",
       "\n",
       "[5 rows x 26 columns]"
      ]
     },
     "execution_count": 285,
     "metadata": {},
     "output_type": "execute_result"
    }
   ],
   "source": [
    "data.insert(0, \"Total_pur_3_years_Ind\",data.Pur_3_years_Indirect*data.Pur_3_years_Avg_Indirect, True)\n",
    "\n",
    "data.head()\n"
   ]
  },
  {
   "cell_type": "code",
   "execution_count": 44,
   "metadata": {},
   "outputs": [
    {
     "data": {
      "text/html": [
       "<div>\n",
       "<style scoped>\n",
       "    .dataframe tbody tr th:only-of-type {\n",
       "        vertical-align: middle;\n",
       "    }\n",
       "\n",
       "    .dataframe tbody tr th {\n",
       "        vertical-align: top;\n",
       "    }\n",
       "\n",
       "    .dataframe thead th {\n",
       "        text-align: right;\n",
       "    }\n",
       "</style>\n",
       "<table border=\"1\" class=\"dataframe\">\n",
       "  <thead>\n",
       "    <tr style=\"text-align: right;\">\n",
       "      <th></th>\n",
       "      <th>Total_pur_3_years_Ind</th>\n",
       "      <th>Total_pur_5_years</th>\n",
       "      <th>Total_pur_3_years</th>\n",
       "      <th>Potential_Customer</th>\n",
       "      <th>Pur_5_years_Indirect</th>\n",
       "      <th>Pur_latest</th>\n",
       "      <th>InAct_Last</th>\n",
       "      <th>InAct_First</th>\n",
       "      <th>Ad_Res_1_year</th>\n",
       "      <th>Ad_Res_3_Year</th>\n",
       "      <th>Ad_Res_5_Year</th>\n",
       "      <th>Ad_Res_Ind_1_Year</th>\n",
       "      <th>Ad_Res_Ind_3_Year</th>\n",
       "      <th>Ad_Res_Ind_5_Year</th>\n",
       "      <th>Status_Cust</th>\n",
       "      <th>Status_Latest_Ad</th>\n",
       "      <th>Age</th>\n",
       "      <th>Gender</th>\n",
       "      <th>Cust_Prop</th>\n",
       "      <th>Cust_Ann_Income</th>\n",
       "    </tr>\n",
       "  </thead>\n",
       "  <tbody>\n",
       "    <tr>\n",
       "      <th>0</th>\n",
       "      <td>15.00</td>\n",
       "      <td>131.92</td>\n",
       "      <td>15.00</td>\n",
       "      <td>1</td>\n",
       "      <td>4.0</td>\n",
       "      <td>0.0</td>\n",
       "      <td>14.0</td>\n",
       "      <td>110.0</td>\n",
       "      <td>32.0</td>\n",
       "      <td>48.0</td>\n",
       "      <td>73.0</td>\n",
       "      <td>3.0</td>\n",
       "      <td>12.0</td>\n",
       "      <td>16.0</td>\n",
       "      <td>A</td>\n",
       "      <td>0</td>\n",
       "      <td>71.0</td>\n",
       "      <td>F</td>\n",
       "      <td>H</td>\n",
       "      <td>65957.0</td>\n",
       "    </tr>\n",
       "    <tr>\n",
       "      <th>1</th>\n",
       "      <td>0.00</td>\n",
       "      <td>91.00</td>\n",
       "      <td>25.00</td>\n",
       "      <td>1</td>\n",
       "      <td>3.0</td>\n",
       "      <td>25.0</td>\n",
       "      <td>18.0</td>\n",
       "      <td>75.0</td>\n",
       "      <td>13.0</td>\n",
       "      <td>35.0</td>\n",
       "      <td>55.0</td>\n",
       "      <td>6.0</td>\n",
       "      <td>6.0</td>\n",
       "      <td>22.0</td>\n",
       "      <td>A</td>\n",
       "      <td>1</td>\n",
       "      <td>7.0</td>\n",
       "      <td>M</td>\n",
       "      <td>U</td>\n",
       "      <td>0.0</td>\n",
       "    </tr>\n",
       "    <tr>\n",
       "      <th>2</th>\n",
       "      <td>44.01</td>\n",
       "      <td>135.00</td>\n",
       "      <td>75.00</td>\n",
       "      <td>0</td>\n",
       "      <td>5.0</td>\n",
       "      <td>15.0</td>\n",
       "      <td>19.0</td>\n",
       "      <td>57.0</td>\n",
       "      <td>14.0</td>\n",
       "      <td>35.0</td>\n",
       "      <td>53.0</td>\n",
       "      <td>6.0</td>\n",
       "      <td>17.0</td>\n",
       "      <td>22.0</td>\n",
       "      <td>S</td>\n",
       "      <td>1</td>\n",
       "      <td>79.0</td>\n",
       "      <td>F</td>\n",
       "      <td>U</td>\n",
       "      <td>0.0</td>\n",
       "    </tr>\n",
       "    <tr>\n",
       "      <th>3</th>\n",
       "      <td>0.00</td>\n",
       "      <td>136.95</td>\n",
       "      <td>20.00</td>\n",
       "      <td>1</td>\n",
       "      <td>3.0</td>\n",
       "      <td>20.0</td>\n",
       "      <td>5.0</td>\n",
       "      <td>113.0</td>\n",
       "      <td>17.0</td>\n",
       "      <td>38.0</td>\n",
       "      <td>71.0</td>\n",
       "      <td>8.0</td>\n",
       "      <td>8.0</td>\n",
       "      <td>33.0</td>\n",
       "      <td>A</td>\n",
       "      <td>0</td>\n",
       "      <td>73.0</td>\n",
       "      <td>F</td>\n",
       "      <td>U</td>\n",
       "      <td>76293.0</td>\n",
       "    </tr>\n",
       "    <tr>\n",
       "      <th>4</th>\n",
       "      <td>8.00</td>\n",
       "      <td>57.00</td>\n",
       "      <td>12.99</td>\n",
       "      <td>1</td>\n",
       "      <td>7.0</td>\n",
       "      <td>3.0</td>\n",
       "      <td>17.0</td>\n",
       "      <td>118.0</td>\n",
       "      <td>13.0</td>\n",
       "      <td>28.0</td>\n",
       "      <td>63.0</td>\n",
       "      <td>6.0</td>\n",
       "      <td>12.0</td>\n",
       "      <td>24.0</td>\n",
       "      <td>S</td>\n",
       "      <td>1</td>\n",
       "      <td>68.0</td>\n",
       "      <td>F</td>\n",
       "      <td>H</td>\n",
       "      <td>113663.0</td>\n",
       "    </tr>\n",
       "  </tbody>\n",
       "</table>\n",
       "</div>"
      ],
      "text/plain": [
       "   Total_pur_3_years_Ind  Total_pur_5_years  Total_pur_3_years  \\\n",
       "0                  15.00             131.92              15.00   \n",
       "1                   0.00              91.00              25.00   \n",
       "2                  44.01             135.00              75.00   \n",
       "3                   0.00             136.95              20.00   \n",
       "4                   8.00              57.00              12.99   \n",
       "\n",
       "  Potential_Customer  Pur_5_years_Indirect  Pur_latest  InAct_Last  \\\n",
       "0                  1                   4.0         0.0        14.0   \n",
       "1                  1                   3.0        25.0        18.0   \n",
       "2                  0                   5.0        15.0        19.0   \n",
       "3                  1                   3.0        20.0         5.0   \n",
       "4                  1                   7.0         3.0        17.0   \n",
       "\n",
       "   InAct_First  Ad_Res_1_year  Ad_Res_3_Year  Ad_Res_5_Year  \\\n",
       "0        110.0           32.0           48.0           73.0   \n",
       "1         75.0           13.0           35.0           55.0   \n",
       "2         57.0           14.0           35.0           53.0   \n",
       "3        113.0           17.0           38.0           71.0   \n",
       "4        118.0           13.0           28.0           63.0   \n",
       "\n",
       "   Ad_Res_Ind_1_Year  Ad_Res_Ind_3_Year  Ad_Res_Ind_5_Year Status_Cust  \\\n",
       "0                3.0               12.0               16.0           A   \n",
       "1                6.0                6.0               22.0           A   \n",
       "2                6.0               17.0               22.0           S   \n",
       "3                8.0                8.0               33.0           A   \n",
       "4                6.0               12.0               24.0           S   \n",
       "\n",
       "  Status_Latest_Ad   Age Gender Cust_Prop  Cust_Ann_Income  \n",
       "0                0  71.0      F         H          65957.0  \n",
       "1                1   7.0      M         U              0.0  \n",
       "2                1  79.0      F         U              0.0  \n",
       "3                0  73.0      F         U          76293.0  \n",
       "4                1  68.0      F         H         113663.0  "
      ]
     },
     "execution_count": 44,
     "metadata": {},
     "output_type": "execute_result"
    }
   ],
   "source": [
    "data.Total_pur_3_years_Ind = data.Total_pur_3_years_Ind.fillna(0)\n",
    "data.head()"
   ]
  },
  {
   "cell_type": "code",
   "execution_count": 291,
   "metadata": {},
   "outputs": [
    {
     "data": {
      "text/plain": [
       "<AxesSubplot:xlabel='Age', ylabel='Density'>"
      ]
     },
     "execution_count": 291,
     "metadata": {},
     "output_type": "execute_result"
    },
    {
     "data": {
      "image/png": "[encoded data removed]",
      "text/plain": [
       "<Figure size 432x288 with 1 Axes>"
      ]
     },
     "metadata": {
      "needs_background": "light"
     },
     "output_type": "display_data"
    }
   ],
   "source": [
    "sns.distplot(data.Age)"
   ]
  },
  {
   "cell_type": "code",
   "execution_count": 334,
   "metadata": {
    "scrolled": false
   },
   "outputs": [],
   "source": [
    "Avg_age = data.Age.median()"
   ]
  },
  {
   "cell_type": "code",
   "execution_count": 335,
   "metadata": {},
   "outputs": [],
   "source": [
    "data.Age = data.Age.fillna(Avg_age)"
   ]
  },
  {
   "cell_type": "code",
   "execution_count": 339,
   "metadata": {},
   "outputs": [
    {
     "data": {
      "text/plain": [
       "True"
      ]
     },
     "execution_count": 339,
     "metadata": {},
     "output_type": "execute_result"
    }
   ],
   "source": [
    "data.isnull().values.any()"
   ]
  },
  {
   "cell_type": "code",
   "execution_count": 338,
   "metadata": {},
   "outputs": [],
   "source": [
    "data.Total_pur_3_years_Ind = data.Total_pur_3_years_Ind.fillna(0)\n",
    "data.Pur_3_years_Avg = data.Pur_3_years_Avg.fillna(0)\n",
    "data.Pur_3_years = data.Pur_3_years.fillna(0)\n",
    "data.Pur_5_years_Avg = data.Pur_5_years_Avg.fillna(0)\n",
    "data.Pur_5_years = data.Pur_5_years.fillna(0)"
   ]
  },
  {
   "cell_type": "code",
   "execution_count": null,
   "metadata": {},
   "outputs": [],
   "source": []
  },
  {
   "cell_type": "code",
   "execution_count": null,
   "metadata": {},
   "outputs": [],
   "source": []
  },
  {
   "cell_type": "markdown",
   "metadata": {},
   "source": [
    "## 4.2 Check Correlation between Numerical Variables"
   ]
  },
  {
   "cell_type": "code",
   "execution_count": null,
   "metadata": {},
   "outputs": [],
   "source": []
  },
  {
   "cell_type": "markdown",
   "metadata": {},
   "source": [
    "# 5. Feature Selection\n",
    "\n",
    "It is better we do not have numerical columns with high correlations as they confuse the machine learning algorithms. We can manually remove the highly-correlated features, or we can let the PCA handles that during the pre-processing."
   ]
  },
  {
   "cell_type": "markdown",
   "metadata": {},
   "source": [
    "# 6. Data PreProcessing"
   ]
  },
  {
   "cell_type": "markdown",
   "metadata": {},
   "source": [
    "## 6.1 Check the Data for Missing Values\n",
    "**Hint:**\n",
    "1. Check which columns have missing values\n",
    "\n",
    "2. Create a list of the name of the columns that have missing values\n",
    "    `null_columns=data.columns[data.isnull().any()]`\n",
    "   \n",
    "3. Decide how you should handle the missing values for each column:\n",
    "\n",
    "    a. For some numerical columns missing value simply means 0.\n",
    "    b. We can fill missing values in a numerical column by replacing mean of the column, if the column is not skewed. If the column is skewed, median might be a better option."
   ]
  },
  {
   "cell_type": "code",
   "execution_count": null,
   "metadata": {},
   "outputs": [],
   "source": []
  },
  {
   "cell_type": "markdown",
   "metadata": {},
   "source": [
    "## 6.2 Separate X (features) and y (target)\n",
    "\n",
    "**Attention:** Don't forget to exclude the column `Cust_Last_Purchase` from your analysis"
   ]
  },
  {
   "cell_type": "code",
   "execution_count": 64,
   "metadata": {
    "scrolled": true
   },
   "outputs": [
    {
     "data": {
      "text/html": [
       "<div>\n",
       "<style scoped>\n",
       "    .dataframe tbody tr th:only-of-type {\n",
       "        vertical-align: middle;\n",
       "    }\n",
       "\n",
       "    .dataframe tbody tr th {\n",
       "        vertical-align: top;\n",
       "    }\n",
       "\n",
       "    .dataframe thead th {\n",
       "        text-align: right;\n",
       "    }\n",
       "</style>\n",
       "<table border=\"1\" class=\"dataframe\">\n",
       "  <thead>\n",
       "    <tr style=\"text-align: right;\">\n",
       "      <th></th>\n",
       "      <th>Total_pur_3_years_Ind</th>\n",
       "      <th>Total_pur_5_years</th>\n",
       "      <th>Total_pur_3_years</th>\n",
       "      <th>Potential_Customer</th>\n",
       "      <th>Pur_5_years_Indirect</th>\n",
       "      <th>Pur_latest</th>\n",
       "      <th>InAct_Last</th>\n",
       "      <th>InAct_First</th>\n",
       "      <th>Ad_Res_1_year</th>\n",
       "      <th>Ad_Res_3_Year</th>\n",
       "      <th>Ad_Res_5_Year</th>\n",
       "      <th>Ad_Res_Ind_1_Year</th>\n",
       "      <th>Ad_Res_Ind_3_Year</th>\n",
       "      <th>Ad_Res_Ind_5_Year</th>\n",
       "      <th>Status_Cust</th>\n",
       "      <th>Status_Latest_Ad</th>\n",
       "      <th>Age</th>\n",
       "      <th>Gender</th>\n",
       "      <th>Cust_Prop</th>\n",
       "      <th>Cust_Ann_Income</th>\n",
       "    </tr>\n",
       "  </thead>\n",
       "  <tbody>\n",
       "    <tr>\n",
       "      <th>0</th>\n",
       "      <td>15.00</td>\n",
       "      <td>131.92</td>\n",
       "      <td>15.00</td>\n",
       "      <td>1</td>\n",
       "      <td>4.0</td>\n",
       "      <td>0.0</td>\n",
       "      <td>14.0</td>\n",
       "      <td>110.0</td>\n",
       "      <td>32.0</td>\n",
       "      <td>48.0</td>\n",
       "      <td>73.0</td>\n",
       "      <td>3.0</td>\n",
       "      <td>12.0</td>\n",
       "      <td>16.0</td>\n",
       "      <td>A</td>\n",
       "      <td>0</td>\n",
       "      <td>71.0</td>\n",
       "      <td>F</td>\n",
       "      <td>H</td>\n",
       "      <td>65957.0</td>\n",
       "    </tr>\n",
       "    <tr>\n",
       "      <th>1</th>\n",
       "      <td>0.00</td>\n",
       "      <td>91.00</td>\n",
       "      <td>25.00</td>\n",
       "      <td>1</td>\n",
       "      <td>3.0</td>\n",
       "      <td>25.0</td>\n",
       "      <td>18.0</td>\n",
       "      <td>75.0</td>\n",
       "      <td>13.0</td>\n",
       "      <td>35.0</td>\n",
       "      <td>55.0</td>\n",
       "      <td>6.0</td>\n",
       "      <td>6.0</td>\n",
       "      <td>22.0</td>\n",
       "      <td>A</td>\n",
       "      <td>1</td>\n",
       "      <td>7.0</td>\n",
       "      <td>M</td>\n",
       "      <td>U</td>\n",
       "      <td>0.0</td>\n",
       "    </tr>\n",
       "    <tr>\n",
       "      <th>2</th>\n",
       "      <td>44.01</td>\n",
       "      <td>135.00</td>\n",
       "      <td>75.00</td>\n",
       "      <td>0</td>\n",
       "      <td>5.0</td>\n",
       "      <td>15.0</td>\n",
       "      <td>19.0</td>\n",
       "      <td>57.0</td>\n",
       "      <td>14.0</td>\n",
       "      <td>35.0</td>\n",
       "      <td>53.0</td>\n",
       "      <td>6.0</td>\n",
       "      <td>17.0</td>\n",
       "      <td>22.0</td>\n",
       "      <td>S</td>\n",
       "      <td>1</td>\n",
       "      <td>79.0</td>\n",
       "      <td>F</td>\n",
       "      <td>U</td>\n",
       "      <td>0.0</td>\n",
       "    </tr>\n",
       "    <tr>\n",
       "      <th>3</th>\n",
       "      <td>0.00</td>\n",
       "      <td>136.95</td>\n",
       "      <td>20.00</td>\n",
       "      <td>1</td>\n",
       "      <td>3.0</td>\n",
       "      <td>20.0</td>\n",
       "      <td>5.0</td>\n",
       "      <td>113.0</td>\n",
       "      <td>17.0</td>\n",
       "      <td>38.0</td>\n",
       "      <td>71.0</td>\n",
       "      <td>8.0</td>\n",
       "      <td>8.0</td>\n",
       "      <td>33.0</td>\n",
       "      <td>A</td>\n",
       "      <td>0</td>\n",
       "      <td>73.0</td>\n",
       "      <td>F</td>\n",
       "      <td>U</td>\n",
       "      <td>76293.0</td>\n",
       "    </tr>\n",
       "    <tr>\n",
       "      <th>4</th>\n",
       "      <td>8.00</td>\n",
       "      <td>57.00</td>\n",
       "      <td>12.99</td>\n",
       "      <td>1</td>\n",
       "      <td>7.0</td>\n",
       "      <td>3.0</td>\n",
       "      <td>17.0</td>\n",
       "      <td>118.0</td>\n",
       "      <td>13.0</td>\n",
       "      <td>28.0</td>\n",
       "      <td>63.0</td>\n",
       "      <td>6.0</td>\n",
       "      <td>12.0</td>\n",
       "      <td>24.0</td>\n",
       "      <td>S</td>\n",
       "      <td>1</td>\n",
       "      <td>68.0</td>\n",
       "      <td>F</td>\n",
       "      <td>H</td>\n",
       "      <td>113663.0</td>\n",
       "    </tr>\n",
       "  </tbody>\n",
       "</table>\n",
       "</div>"
      ],
      "text/plain": [
       "   Total_pur_3_years_Ind  Total_pur_5_years  Total_pur_3_years  \\\n",
       "0                  15.00             131.92              15.00   \n",
       "1                   0.00              91.00              25.00   \n",
       "2                  44.01             135.00              75.00   \n",
       "3                   0.00             136.95              20.00   \n",
       "4                   8.00              57.00              12.99   \n",
       "\n",
       "  Potential_Customer  Pur_5_years_Indirect  Pur_latest  InAct_Last  \\\n",
       "0                  1                   4.0         0.0        14.0   \n",
       "1                  1                   3.0        25.0        18.0   \n",
       "2                  0                   5.0        15.0        19.0   \n",
       "3                  1                   3.0        20.0         5.0   \n",
       "4                  1                   7.0         3.0        17.0   \n",
       "\n",
       "   InAct_First  Ad_Res_1_year  Ad_Res_3_Year  Ad_Res_5_Year  \\\n",
       "0        110.0           32.0           48.0           73.0   \n",
       "1         75.0           13.0           35.0           55.0   \n",
       "2         57.0           14.0           35.0           53.0   \n",
       "3        113.0           17.0           38.0           71.0   \n",
       "4        118.0           13.0           28.0           63.0   \n",
       "\n",
       "   Ad_Res_Ind_1_Year  Ad_Res_Ind_3_Year  Ad_Res_Ind_5_Year Status_Cust  \\\n",
       "0                3.0               12.0               16.0           A   \n",
       "1                6.0                6.0               22.0           A   \n",
       "2                6.0               17.0               22.0           S   \n",
       "3                8.0                8.0               33.0           A   \n",
       "4                6.0               12.0               24.0           S   \n",
       "\n",
       "  Status_Latest_Ad   Age Gender Cust_Prop  Cust_Ann_Income  \n",
       "0                0  71.0      F         H          65957.0  \n",
       "1                1   7.0      M         U              0.0  \n",
       "2                1  79.0      F         U              0.0  \n",
       "3                0  73.0      F         U          76293.0  \n",
       "4                1  68.0      F         H         113663.0  "
      ]
     },
     "execution_count": 64,
     "metadata": {},
     "output_type": "execute_result"
    }
   ],
   "source": [
    "data.head()"
   ]
  },
  {
   "cell_type": "code",
   "execution_count": 65,
   "metadata": {},
   "outputs": [
    {
     "data": {
      "text/plain": [
       "(3618, 20)"
      ]
     },
     "execution_count": 65,
     "metadata": {},
     "output_type": "execute_result"
    }
   ],
   "source": [
    "data.shape"
   ]
  },
  {
   "cell_type": "code",
   "execution_count": 174,
   "metadata": {},
   "outputs": [
    {
     "data": {
      "text/plain": [
       "(   Total_pur_3_years_Ind  Total_pur_5_years  Total_pur_3_years  \\\n",
       " 0                  15.00             131.92              15.00   \n",
       " 1                   0.00              91.00              25.00   \n",
       " 2                  44.01             135.00              75.00   \n",
       " 3                   0.00             136.95              20.00   \n",
       " 4                   8.00              57.00              12.99   \n",
       " \n",
       "    Pur_5_years_Indirect  Pur_latest  InAct_Last  InAct_First  Ad_Res_1_year  \\\n",
       " 0                   4.0         0.0        14.0        110.0           32.0   \n",
       " 1                   3.0        25.0        18.0         75.0           13.0   \n",
       " 2                   5.0        15.0        19.0         57.0           14.0   \n",
       " 3                   3.0        20.0         5.0        113.0           17.0   \n",
       " 4                   7.0         3.0        17.0        118.0           13.0   \n",
       " \n",
       "    Ad_Res_3_Year  Ad_Res_5_Year  Ad_Res_Ind_1_Year  Ad_Res_Ind_3_Year  \\\n",
       " 0           48.0           73.0                3.0               12.0   \n",
       " 1           35.0           55.0                6.0                6.0   \n",
       " 2           35.0           53.0                6.0               17.0   \n",
       " 3           38.0           71.0                8.0                8.0   \n",
       " 4           28.0           63.0                6.0               12.0   \n",
       " \n",
       "    Ad_Res_Ind_5_Year Status_Cust Status_Latest_Ad   Age Gender Cust_Prop  \\\n",
       " 0               16.0           A                0  71.0      F         H   \n",
       " 1               22.0           A                1   7.0      M         U   \n",
       " 2               22.0           S                1  79.0      F         U   \n",
       " 3               33.0           A                0  73.0      F         U   \n",
       " 4               24.0           S                1  68.0      F         H   \n",
       " \n",
       "    Cust_Ann_Income  \n",
       " 0          65957.0  \n",
       " 1              0.0  \n",
       " 2              0.0  \n",
       " 3          76293.0  \n",
       " 4         113663.0  ,\n",
       " 0    1\n",
       " 1    1\n",
       " 2    0\n",
       " 3    1\n",
       " 4    1\n",
       " Name: Potential_Customer, dtype: category\n",
       " Categories (2, int64): [0, 1])"
      ]
     },
     "execution_count": 174,
     "metadata": {},
     "output_type": "execute_result"
    }
   ],
   "source": [
    "X = data.drop('Potential_Customer', axis=1)\n",
    "y = data.Potential_Customer\n",
    "X.head(), y.head()"
   ]
  },
  {
   "cell_type": "code",
   "execution_count": null,
   "metadata": {},
   "outputs": [],
   "source": []
  },
  {
   "cell_type": "markdown",
   "metadata": {},
   "source": [
    "## 6.3 Split data to train/test \n",
    "\n",
    "Define X and y and split the data into 75/25 train/test set. Use random_state=42 and stratify=y"
   ]
  },
  {
   "cell_type": "markdown",
   "metadata": {},
   "source": [
    "## 6.4 Dummy Variables\n",
    "Change categorical variables with numerical variabels"
   ]
  },
  {
   "cell_type": "code",
   "execution_count": 175,
   "metadata": {},
   "outputs": [
    {
     "data": {
      "text/html": [
       "<div>\n",
       "<style scoped>\n",
       "    .dataframe tbody tr th:only-of-type {\n",
       "        vertical-align: middle;\n",
       "    }\n",
       "\n",
       "    .dataframe tbody tr th {\n",
       "        vertical-align: top;\n",
       "    }\n",
       "\n",
       "    .dataframe thead th {\n",
       "        text-align: right;\n",
       "    }\n",
       "</style>\n",
       "<table border=\"1\" class=\"dataframe\">\n",
       "  <thead>\n",
       "    <tr style=\"text-align: right;\">\n",
       "      <th></th>\n",
       "      <th>Total_pur_3_years_Ind</th>\n",
       "      <th>Total_pur_5_years</th>\n",
       "      <th>Total_pur_3_years</th>\n",
       "      <th>Pur_5_years_Indirect</th>\n",
       "      <th>Pur_latest</th>\n",
       "      <th>InAct_Last</th>\n",
       "      <th>InAct_First</th>\n",
       "      <th>Ad_Res_1_year</th>\n",
       "      <th>Ad_Res_3_Year</th>\n",
       "      <th>Ad_Res_5_Year</th>\n",
       "      <th>...</th>\n",
       "      <th>Cust_Ann_Income</th>\n",
       "      <th>Status_Cust_E</th>\n",
       "      <th>Status_Cust_F</th>\n",
       "      <th>Status_Cust_L</th>\n",
       "      <th>Status_Cust_N</th>\n",
       "      <th>Status_Cust_S</th>\n",
       "      <th>Status_Latest_Ad_1</th>\n",
       "      <th>Gender_M</th>\n",
       "      <th>Gender_U</th>\n",
       "      <th>Cust_Prop_U</th>\n",
       "    </tr>\n",
       "  </thead>\n",
       "  <tbody>\n",
       "    <tr>\n",
       "      <th>0</th>\n",
       "      <td>15.00</td>\n",
       "      <td>131.92</td>\n",
       "      <td>15.00</td>\n",
       "      <td>4.0</td>\n",
       "      <td>0.0</td>\n",
       "      <td>14.0</td>\n",
       "      <td>110.0</td>\n",
       "      <td>32.0</td>\n",
       "      <td>48.0</td>\n",
       "      <td>73.0</td>\n",
       "      <td>...</td>\n",
       "      <td>65957.0</td>\n",
       "      <td>0</td>\n",
       "      <td>0</td>\n",
       "      <td>0</td>\n",
       "      <td>0</td>\n",
       "      <td>0</td>\n",
       "      <td>0</td>\n",
       "      <td>0</td>\n",
       "      <td>0</td>\n",
       "      <td>0</td>\n",
       "    </tr>\n",
       "    <tr>\n",
       "      <th>1</th>\n",
       "      <td>0.00</td>\n",
       "      <td>91.00</td>\n",
       "      <td>25.00</td>\n",
       "      <td>3.0</td>\n",
       "      <td>25.0</td>\n",
       "      <td>18.0</td>\n",
       "      <td>75.0</td>\n",
       "      <td>13.0</td>\n",
       "      <td>35.0</td>\n",
       "      <td>55.0</td>\n",
       "      <td>...</td>\n",
       "      <td>0.0</td>\n",
       "      <td>0</td>\n",
       "      <td>0</td>\n",
       "      <td>0</td>\n",
       "      <td>0</td>\n",
       "      <td>0</td>\n",
       "      <td>1</td>\n",
       "      <td>1</td>\n",
       "      <td>0</td>\n",
       "      <td>1</td>\n",
       "    </tr>\n",
       "    <tr>\n",
       "      <th>2</th>\n",
       "      <td>44.01</td>\n",
       "      <td>135.00</td>\n",
       "      <td>75.00</td>\n",
       "      <td>5.0</td>\n",
       "      <td>15.0</td>\n",
       "      <td>19.0</td>\n",
       "      <td>57.0</td>\n",
       "      <td>14.0</td>\n",
       "      <td>35.0</td>\n",
       "      <td>53.0</td>\n",
       "      <td>...</td>\n",
       "      <td>0.0</td>\n",
       "      <td>0</td>\n",
       "      <td>0</td>\n",
       "      <td>0</td>\n",
       "      <td>0</td>\n",
       "      <td>1</td>\n",
       "      <td>1</td>\n",
       "      <td>0</td>\n",
       "      <td>0</td>\n",
       "      <td>1</td>\n",
       "    </tr>\n",
       "    <tr>\n",
       "      <th>3</th>\n",
       "      <td>0.00</td>\n",
       "      <td>136.95</td>\n",
       "      <td>20.00</td>\n",
       "      <td>3.0</td>\n",
       "      <td>20.0</td>\n",
       "      <td>5.0</td>\n",
       "      <td>113.0</td>\n",
       "      <td>17.0</td>\n",
       "      <td>38.0</td>\n",
       "      <td>71.0</td>\n",
       "      <td>...</td>\n",
       "      <td>76293.0</td>\n",
       "      <td>0</td>\n",
       "      <td>0</td>\n",
       "      <td>0</td>\n",
       "      <td>0</td>\n",
       "      <td>0</td>\n",
       "      <td>0</td>\n",
       "      <td>0</td>\n",
       "      <td>0</td>\n",
       "      <td>1</td>\n",
       "    </tr>\n",
       "    <tr>\n",
       "      <th>4</th>\n",
       "      <td>8.00</td>\n",
       "      <td>57.00</td>\n",
       "      <td>12.99</td>\n",
       "      <td>7.0</td>\n",
       "      <td>3.0</td>\n",
       "      <td>17.0</td>\n",
       "      <td>118.0</td>\n",
       "      <td>13.0</td>\n",
       "      <td>28.0</td>\n",
       "      <td>63.0</td>\n",
       "      <td>...</td>\n",
       "      <td>113663.0</td>\n",
       "      <td>0</td>\n",
       "      <td>0</td>\n",
       "      <td>0</td>\n",
       "      <td>0</td>\n",
       "      <td>1</td>\n",
       "      <td>1</td>\n",
       "      <td>0</td>\n",
       "      <td>0</td>\n",
       "      <td>0</td>\n",
       "    </tr>\n",
       "    <tr>\n",
       "      <th>...</th>\n",
       "      <td>...</td>\n",
       "      <td>...</td>\n",
       "      <td>...</td>\n",
       "      <td>...</td>\n",
       "      <td>...</td>\n",
       "      <td>...</td>\n",
       "      <td>...</td>\n",
       "      <td>...</td>\n",
       "      <td>...</td>\n",
       "      <td>...</td>\n",
       "      <td>...</td>\n",
       "      <td>...</td>\n",
       "      <td>...</td>\n",
       "      <td>...</td>\n",
       "      <td>...</td>\n",
       "      <td>...</td>\n",
       "      <td>...</td>\n",
       "      <td>...</td>\n",
       "      <td>...</td>\n",
       "      <td>...</td>\n",
       "      <td>...</td>\n",
       "    </tr>\n",
       "    <tr>\n",
       "      <th>3613</th>\n",
       "      <td>0.00</td>\n",
       "      <td>79.98</td>\n",
       "      <td>33.00</td>\n",
       "      <td>1.0</td>\n",
       "      <td>20.0</td>\n",
       "      <td>19.0</td>\n",
       "      <td>57.0</td>\n",
       "      <td>13.0</td>\n",
       "      <td>34.0</td>\n",
       "      <td>47.0</td>\n",
       "      <td>...</td>\n",
       "      <td>83754.0</td>\n",
       "      <td>0</td>\n",
       "      <td>0</td>\n",
       "      <td>0</td>\n",
       "      <td>0</td>\n",
       "      <td>0</td>\n",
       "      <td>0</td>\n",
       "      <td>0</td>\n",
       "      <td>0</td>\n",
       "      <td>0</td>\n",
       "    </tr>\n",
       "    <tr>\n",
       "      <th>3614</th>\n",
       "      <td>53.00</td>\n",
       "      <td>339.14</td>\n",
       "      <td>88.97</td>\n",
       "      <td>21.0</td>\n",
       "      <td>13.0</td>\n",
       "      <td>17.0</td>\n",
       "      <td>128.0</td>\n",
       "      <td>13.0</td>\n",
       "      <td>32.0</td>\n",
       "      <td>88.0</td>\n",
       "      <td>...</td>\n",
       "      <td>83754.0</td>\n",
       "      <td>0</td>\n",
       "      <td>0</td>\n",
       "      <td>0</td>\n",
       "      <td>0</td>\n",
       "      <td>1</td>\n",
       "      <td>1</td>\n",
       "      <td>0</td>\n",
       "      <td>0</td>\n",
       "      <td>0</td>\n",
       "    </tr>\n",
       "    <tr>\n",
       "      <th>3615</th>\n",
       "      <td>75.00</td>\n",
       "      <td>138.06</td>\n",
       "      <td>87.01</td>\n",
       "      <td>8.0</td>\n",
       "      <td>3.0</td>\n",
       "      <td>4.0</td>\n",
       "      <td>80.0</td>\n",
       "      <td>16.0</td>\n",
       "      <td>36.0</td>\n",
       "      <td>57.0</td>\n",
       "      <td>...</td>\n",
       "      <td>0.0</td>\n",
       "      <td>0</td>\n",
       "      <td>0</td>\n",
       "      <td>0</td>\n",
       "      <td>0</td>\n",
       "      <td>0</td>\n",
       "      <td>1</td>\n",
       "      <td>1</td>\n",
       "      <td>0</td>\n",
       "      <td>1</td>\n",
       "    </tr>\n",
       "    <tr>\n",
       "      <th>3616</th>\n",
       "      <td>20.00</td>\n",
       "      <td>182.05</td>\n",
       "      <td>20.00</td>\n",
       "      <td>7.0</td>\n",
       "      <td>20.0</td>\n",
       "      <td>24.0</td>\n",
       "      <td>93.0</td>\n",
       "      <td>11.0</td>\n",
       "      <td>31.0</td>\n",
       "      <td>61.0</td>\n",
       "      <td>...</td>\n",
       "      <td>71618.0</td>\n",
       "      <td>0</td>\n",
       "      <td>0</td>\n",
       "      <td>0</td>\n",
       "      <td>0</td>\n",
       "      <td>0</td>\n",
       "      <td>1</td>\n",
       "      <td>1</td>\n",
       "      <td>0</td>\n",
       "      <td>0</td>\n",
       "    </tr>\n",
       "    <tr>\n",
       "      <th>3617</th>\n",
       "      <td>11.00</td>\n",
       "      <td>112.06</td>\n",
       "      <td>39.00</td>\n",
       "      <td>6.0</td>\n",
       "      <td>15.0</td>\n",
       "      <td>18.0</td>\n",
       "      <td>113.0</td>\n",
       "      <td>13.0</td>\n",
       "      <td>34.0</td>\n",
       "      <td>70.0</td>\n",
       "      <td>...</td>\n",
       "      <td>0.0</td>\n",
       "      <td>0</td>\n",
       "      <td>0</td>\n",
       "      <td>0</td>\n",
       "      <td>0</td>\n",
       "      <td>0</td>\n",
       "      <td>0</td>\n",
       "      <td>1</td>\n",
       "      <td>0</td>\n",
       "      <td>1</td>\n",
       "    </tr>\n",
       "  </tbody>\n",
       "</table>\n",
       "<p>3618 rows × 24 columns</p>\n",
       "</div>"
      ],
      "text/plain": [
       "      Total_pur_3_years_Ind  Total_pur_5_years  Total_pur_3_years  \\\n",
       "0                     15.00             131.92              15.00   \n",
       "1                      0.00              91.00              25.00   \n",
       "2                     44.01             135.00              75.00   \n",
       "3                      0.00             136.95              20.00   \n",
       "4                      8.00              57.00              12.99   \n",
       "...                     ...                ...                ...   \n",
       "3613                   0.00              79.98              33.00   \n",
       "3614                  53.00             339.14              88.97   \n",
       "3615                  75.00             138.06              87.01   \n",
       "3616                  20.00             182.05              20.00   \n",
       "3617                  11.00             112.06              39.00   \n",
       "\n",
       "      Pur_5_years_Indirect  Pur_latest  InAct_Last  InAct_First  \\\n",
       "0                      4.0         0.0        14.0        110.0   \n",
       "1                      3.0        25.0        18.0         75.0   \n",
       "2                      5.0        15.0        19.0         57.0   \n",
       "3                      3.0        20.0         5.0        113.0   \n",
       "4                      7.0         3.0        17.0        118.0   \n",
       "...                    ...         ...         ...          ...   \n",
       "3613                   1.0        20.0        19.0         57.0   \n",
       "3614                  21.0        13.0        17.0        128.0   \n",
       "3615                   8.0         3.0         4.0         80.0   \n",
       "3616                   7.0        20.0        24.0         93.0   \n",
       "3617                   6.0        15.0        18.0        113.0   \n",
       "\n",
       "      Ad_Res_1_year  Ad_Res_3_Year  Ad_Res_5_Year  ...  Cust_Ann_Income  \\\n",
       "0              32.0           48.0           73.0  ...          65957.0   \n",
       "1              13.0           35.0           55.0  ...              0.0   \n",
       "2              14.0           35.0           53.0  ...              0.0   \n",
       "3              17.0           38.0           71.0  ...          76293.0   \n",
       "4              13.0           28.0           63.0  ...         113663.0   \n",
       "...             ...            ...            ...  ...              ...   \n",
       "3613           13.0           34.0           47.0  ...          83754.0   \n",
       "3614           13.0           32.0           88.0  ...          83754.0   \n",
       "3615           16.0           36.0           57.0  ...              0.0   \n",
       "3616           11.0           31.0           61.0  ...          71618.0   \n",
       "3617           13.0           34.0           70.0  ...              0.0   \n",
       "\n",
       "      Status_Cust_E  Status_Cust_F  Status_Cust_L  Status_Cust_N  \\\n",
       "0                 0              0              0              0   \n",
       "1                 0              0              0              0   \n",
       "2                 0              0              0              0   \n",
       "3                 0              0              0              0   \n",
       "4                 0              0              0              0   \n",
       "...             ...            ...            ...            ...   \n",
       "3613              0              0              0              0   \n",
       "3614              0              0              0              0   \n",
       "3615              0              0              0              0   \n",
       "3616              0              0              0              0   \n",
       "3617              0              0              0              0   \n",
       "\n",
       "      Status_Cust_S  Status_Latest_Ad_1  Gender_M  Gender_U  Cust_Prop_U  \n",
       "0                 0                   0         0         0            0  \n",
       "1                 0                   1         1         0            1  \n",
       "2                 1                   1         0         0            1  \n",
       "3                 0                   0         0         0            1  \n",
       "4                 1                   1         0         0            0  \n",
       "...             ...                 ...       ...       ...          ...  \n",
       "3613              0                   0         0         0            0  \n",
       "3614              1                   1         0         0            0  \n",
       "3615              0                   1         1         0            1  \n",
       "3616              0                   1         1         0            0  \n",
       "3617              0                   0         1         0            1  \n",
       "\n",
       "[3618 rows x 24 columns]"
      ]
     },
     "execution_count": 175,
     "metadata": {},
     "output_type": "execute_result"
    }
   ],
   "source": [
    "X = pd.get_dummies(X, drop_first = True)\n",
    "X"
   ]
  },
  {
   "cell_type": "code",
   "execution_count": 220,
   "metadata": {},
   "outputs": [
    {
     "data": {
      "text/plain": [
       "Index(['Total_pur_3_years_Ind', 'Total_pur_5_years', 'Total_pur_3_years',\n",
       "       'Pur_5_years_Indirect', 'Pur_latest', 'InAct_Last', 'InAct_First',\n",
       "       'Ad_Res_1_year', 'Ad_Res_3_Year', 'Ad_Res_5_Year', 'Ad_Res_Ind_1_Year',\n",
       "       'Ad_Res_Ind_3_Year', 'Ad_Res_Ind_5_Year', 'Age', 'Cust_Ann_Income',\n",
       "       'Status_Cust_E', 'Status_Cust_F', 'Status_Cust_L', 'Status_Cust_N',\n",
       "       'Status_Cust_S', 'Status_Latest_Ad_1', 'Gender_M', 'Gender_U',\n",
       "       'Cust_Prop_U'],\n",
       "      dtype='object')"
      ]
     },
     "execution_count": 220,
     "metadata": {},
     "output_type": "execute_result"
    }
   ],
   "source": [
    "X.columns"
   ]
  },
  {
   "cell_type": "code",
   "execution_count": null,
   "metadata": {},
   "outputs": [],
   "source": []
  },
  {
   "cell_type": "code",
   "execution_count": 176,
   "metadata": {},
   "outputs": [],
   "source": [
    "X_train, X_test, y_train, y_test = train_test_split(X, y, \n",
    "                                                    test_size=0.25, random_state=42, stratify=y)"
   ]
  },
  {
   "cell_type": "code",
   "execution_count": 177,
   "metadata": {},
   "outputs": [
    {
     "name": "stdout",
     "output_type": "stream",
     "text": [
      "X_train.shape (2713, 24)\n",
      "y_train.shape (2713,)\n",
      "X_test.shape (905, 24)\n",
      "y_test.shape (905,)\n"
     ]
    }
   ],
   "source": [
    "print(\"X_train.shape\", X_train.shape)\n",
    "print(\"y_train.shape\", y_train.shape)\n",
    "print(\"X_test.shape\", X_test.shape)\n",
    "print(\"y_test.shape\", y_test.shape)"
   ]
  },
  {
   "cell_type": "markdown",
   "metadata": {},
   "source": [
    "## 6.5 Feature Scaling"
   ]
  },
  {
   "cell_type": "code",
   "execution_count": 204,
   "metadata": {},
   "outputs": [],
   "source": [
    "from sklearn.linear_model import LogisticRegression\n",
    "from sklearn.ensemble import RandomForestClassifier, GradientBoostingClassifier\n",
    "from sklearn.neighbors import KNeighborsClassifier\n",
    "from sklearn.tree import DecisionTreeClassifier\n",
    "from sklearn.svm import SVC\n",
    "from sklearn.model_selection import train_test_split\n",
    "from sklearn.metrics import confusion_matrix\n",
    "from sklearn.preprocessing import StandardScaler\n",
    "from sklearn.preprocessing import MinMaxScaler\n",
    "from sklearn.model_selection import GridSearchCV\n",
    "from sklearn.metrics import recall_score, precision_score, f1_score\n",
    "from sklearn.model_selection import cross_val_score\n",
    "from sklearn.model_selection import cross_val_predict\n",
    "from sklearn.metrics import classification_report\n",
    "from sklearn.neural_network import MLPClassifier\n",
    "from sklearn.model_selection import cross_val_score, GridSearchCV\n",
    "from sklearn.metrics import SCORERS, roc_auc_score, f1_score\n",
    "from sklearn.metrics import accuracy_score"
   ]
  },
  {
   "cell_type": "code",
   "execution_count": 208,
   "metadata": {},
   "outputs": [
    {
     "data": {
      "text/plain": [
       "MinMaxScaler()"
      ]
     },
     "execution_count": 208,
     "metadata": {},
     "output_type": "execute_result"
    }
   ],
   "source": [
    "scaler = MinMaxScaler()\n",
    "\n",
    "scaler.fit(X_train)\n",
    "\n",
    "\n"
   ]
  },
  {
   "cell_type": "markdown",
   "metadata": {},
   "source": [
    "## 6.6 PCA on Numerical Columns only\n",
    "\n",
    "1. Save the above scaled train and test data, as dataframe with proper column names\n",
    "`X_train_sc=pd.DataFrame(scaler.transform(X_train), columns=X_train.columns)`\n",
    "2. Separate train and test data for numerical columns only\n",
    "`train_PCA=X_train_sc[NewNumCols]`, `test_PCA=X_test_sc[NewNumCols]`\n",
    "3. Define the number of components on `train_PCA`\n",
    "4. Fit PCA on `train_PCA` \n",
    "5. Transform `train_PCA` and `test_PCA` save it as `PCA_train` and `PCA_test`, and save them as DataFrame. Use `PCA_train.index=X_train.index` to make sure `PCA_train` have the same index with `X_train` because we need to concat this data to the dummy variables. Do the same on `PCA_test`\n",
    "6. Concat `PCA_train` to the dummy variables in `X_train` save it as `X_train_pca`\n",
    "7. Concat `PCA_test` to the dummy variables in `X_test` save it as `X_train_pca`"
   ]
  },
  {
   "cell_type": "code",
   "execution_count": 209,
   "metadata": {},
   "outputs": [],
   "source": [
    "from sklearn.decomposition import PCA"
   ]
  },
  {
   "cell_type": "code",
   "execution_count": 210,
   "metadata": {},
   "outputs": [],
   "source": [
    "X_train_sc = pd.DataFrame(scaler.transform(X_train), columns = X_train.columns)\n",
    "X_test_sc = pd.DataFrame(scaler.transform(X_test), columns = X_test.columns)"
   ]
  },
  {
   "cell_type": "code",
   "execution_count": 211,
   "metadata": {},
   "outputs": [],
   "source": [
    "NewNumCols = ['Total_pur_3_years_Ind', 'Total_pur_5_years', 'Total_pur_3_years',\n",
    "       'Pur_5_years_Indirect', 'Pur_latest', 'InAct_Last', 'InAct_First',\n",
    "       'Ad_Res_1_year', 'Ad_Res_3_Year', 'Ad_Res_5_Year', 'Ad_Res_Ind_1_Year',\n",
    "       'Ad_Res_Ind_3_Year', 'Ad_Res_Ind_5_Year', 'Age', 'Cust_Ann_Income',]\n",
    "train_PCA = X_train_sc[NewNumCols]\n",
    "test_PCA = X_test_sc[NewNumCols]"
   ]
  },
  {
   "cell_type": "code",
   "execution_count": 242,
   "metadata": {},
   "outputs": [],
   "source": [
    "pca = PCA(n_components=5)\n",
    "pca.fit(train_PCA)\n",
    "PCA_train = pca.transform(train_PCA)\n",
    "PCA_test = pca.transform(test_PCA)\n"
   ]
  },
  {
   "cell_type": "code",
   "execution_count": 243,
   "metadata": {},
   "outputs": [],
   "source": [
    "PCA_train = pd.DataFrame(PCA_train)\n",
    "PCA_test = pd.DataFrame(PCA_test)\n",
    "PCA_train.index = X_train.index\n",
    "PCA_test.index = X_test.index"
   ]
  },
  {
   "cell_type": "code",
   "execution_count": 244,
   "metadata": {},
   "outputs": [
    {
     "data": {
      "text/plain": [
       "False"
      ]
     },
     "execution_count": 244,
     "metadata": {},
     "output_type": "execute_result"
    }
   ],
   "source": [
    "PCA_test.isnull().values.any()"
   ]
  },
  {
   "cell_type": "code",
   "execution_count": 245,
   "metadata": {},
   "outputs": [
    {
     "data": {
      "text/plain": [
       "False"
      ]
     },
     "execution_count": 245,
     "metadata": {},
     "output_type": "execute_result"
    }
   ],
   "source": [
    "X_test.isnull().values.any()"
   ]
  },
  {
   "cell_type": "code",
   "execution_count": 246,
   "metadata": {},
   "outputs": [],
   "source": [
    "dum_cols = ['Status_Cust_E', 'Status_Cust_F', 'Status_Cust_L', 'Status_Cust_N',\n",
    "       'Status_Cust_S', 'Status_Latest_Ad_1', 'Gender_M', 'Gender_U',\n",
    "       'Cust_Prop_U']\n",
    "X_train_pca = pd.concat([PCA_train, X_train[dum_cols]], axis=1)\n",
    "X_test_pca = pd.concat([PCA_test, X_test[dum_cols]], axis=1)\n"
   ]
  },
  {
   "cell_type": "code",
   "execution_count": 247,
   "metadata": {},
   "outputs": [
    {
     "data": {
      "text/plain": [
       "False"
      ]
     },
     "execution_count": 247,
     "metadata": {},
     "output_type": "execute_result"
    }
   ],
   "source": [
    "X_test_pca.isnull().values.any()"
   ]
  },
  {
   "cell_type": "code",
   "execution_count": 248,
   "metadata": {},
   "outputs": [
    {
     "data": {
      "text/html": [
       "<div>\n",
       "<style scoped>\n",
       "    .dataframe tbody tr th:only-of-type {\n",
       "        vertical-align: middle;\n",
       "    }\n",
       "\n",
       "    .dataframe tbody tr th {\n",
       "        vertical-align: top;\n",
       "    }\n",
       "\n",
       "    .dataframe thead th {\n",
       "        text-align: right;\n",
       "    }\n",
       "</style>\n",
       "<table border=\"1\" class=\"dataframe\">\n",
       "  <thead>\n",
       "    <tr style=\"text-align: right;\">\n",
       "      <th></th>\n",
       "      <th>0</th>\n",
       "      <th>1</th>\n",
       "      <th>2</th>\n",
       "      <th>3</th>\n",
       "      <th>4</th>\n",
       "      <th>Status_Cust_E</th>\n",
       "      <th>Status_Cust_F</th>\n",
       "      <th>Status_Cust_L</th>\n",
       "      <th>Status_Cust_N</th>\n",
       "      <th>Status_Cust_S</th>\n",
       "      <th>Status_Latest_Ad_1</th>\n",
       "      <th>Gender_M</th>\n",
       "      <th>Gender_U</th>\n",
       "      <th>Cust_Prop_U</th>\n",
       "    </tr>\n",
       "  </thead>\n",
       "  <tbody>\n",
       "    <tr>\n",
       "      <th>3151</th>\n",
       "      <td>0.498424</td>\n",
       "      <td>0.560834</td>\n",
       "      <td>-0.356568</td>\n",
       "      <td>0.025425</td>\n",
       "      <td>0.170171</td>\n",
       "      <td>0</td>\n",
       "      <td>0</td>\n",
       "      <td>0</td>\n",
       "      <td>0</td>\n",
       "      <td>1</td>\n",
       "      <td>1</td>\n",
       "      <td>0</td>\n",
       "      <td>0</td>\n",
       "      <td>1</td>\n",
       "    </tr>\n",
       "    <tr>\n",
       "      <th>1698</th>\n",
       "      <td>0.532669</td>\n",
       "      <td>0.427246</td>\n",
       "      <td>-0.027174</td>\n",
       "      <td>0.013738</td>\n",
       "      <td>-0.022153</td>\n",
       "      <td>0</td>\n",
       "      <td>0</td>\n",
       "      <td>0</td>\n",
       "      <td>0</td>\n",
       "      <td>1</td>\n",
       "      <td>1</td>\n",
       "      <td>0</td>\n",
       "      <td>0</td>\n",
       "      <td>0</td>\n",
       "    </tr>\n",
       "    <tr>\n",
       "      <th>2327</th>\n",
       "      <td>-0.110876</td>\n",
       "      <td>0.181669</td>\n",
       "      <td>0.226805</td>\n",
       "      <td>-0.082678</td>\n",
       "      <td>0.054474</td>\n",
       "      <td>0</td>\n",
       "      <td>0</td>\n",
       "      <td>0</td>\n",
       "      <td>0</td>\n",
       "      <td>0</td>\n",
       "      <td>0</td>\n",
       "      <td>1</td>\n",
       "      <td>0</td>\n",
       "      <td>0</td>\n",
       "    </tr>\n",
       "    <tr>\n",
       "      <th>721</th>\n",
       "      <td>-0.317138</td>\n",
       "      <td>0.172405</td>\n",
       "      <td>0.175564</td>\n",
       "      <td>0.039569</td>\n",
       "      <td>0.004751</td>\n",
       "      <td>0</td>\n",
       "      <td>0</td>\n",
       "      <td>0</td>\n",
       "      <td>0</td>\n",
       "      <td>0</td>\n",
       "      <td>1</td>\n",
       "      <td>0</td>\n",
       "      <td>0</td>\n",
       "      <td>0</td>\n",
       "    </tr>\n",
       "    <tr>\n",
       "      <th>811</th>\n",
       "      <td>0.343579</td>\n",
       "      <td>-0.140567</td>\n",
       "      <td>-0.086577</td>\n",
       "      <td>-0.039276</td>\n",
       "      <td>0.049319</td>\n",
       "      <td>0</td>\n",
       "      <td>0</td>\n",
       "      <td>0</td>\n",
       "      <td>0</td>\n",
       "      <td>1</td>\n",
       "      <td>1</td>\n",
       "      <td>1</td>\n",
       "      <td>0</td>\n",
       "      <td>0</td>\n",
       "    </tr>\n",
       "    <tr>\n",
       "      <th>...</th>\n",
       "      <td>...</td>\n",
       "      <td>...</td>\n",
       "      <td>...</td>\n",
       "      <td>...</td>\n",
       "      <td>...</td>\n",
       "      <td>...</td>\n",
       "      <td>...</td>\n",
       "      <td>...</td>\n",
       "      <td>...</td>\n",
       "      <td>...</td>\n",
       "      <td>...</td>\n",
       "      <td>...</td>\n",
       "      <td>...</td>\n",
       "      <td>...</td>\n",
       "    </tr>\n",
       "    <tr>\n",
       "      <th>1403</th>\n",
       "      <td>0.676903</td>\n",
       "      <td>-0.201574</td>\n",
       "      <td>0.238274</td>\n",
       "      <td>0.090082</td>\n",
       "      <td>0.239506</td>\n",
       "      <td>0</td>\n",
       "      <td>0</td>\n",
       "      <td>0</td>\n",
       "      <td>0</td>\n",
       "      <td>1</td>\n",
       "      <td>1</td>\n",
       "      <td>0</td>\n",
       "      <td>0</td>\n",
       "      <td>1</td>\n",
       "    </tr>\n",
       "    <tr>\n",
       "      <th>2424</th>\n",
       "      <td>-0.129955</td>\n",
       "      <td>0.127961</td>\n",
       "      <td>-0.049951</td>\n",
       "      <td>-0.009276</td>\n",
       "      <td>-0.266221</td>\n",
       "      <td>0</td>\n",
       "      <td>0</td>\n",
       "      <td>0</td>\n",
       "      <td>0</td>\n",
       "      <td>0</td>\n",
       "      <td>0</td>\n",
       "      <td>0</td>\n",
       "      <td>1</td>\n",
       "      <td>1</td>\n",
       "    </tr>\n",
       "    <tr>\n",
       "      <th>2788</th>\n",
       "      <td>0.293739</td>\n",
       "      <td>-0.189720</td>\n",
       "      <td>-0.297960</td>\n",
       "      <td>0.139327</td>\n",
       "      <td>0.262743</td>\n",
       "      <td>0</td>\n",
       "      <td>0</td>\n",
       "      <td>0</td>\n",
       "      <td>0</td>\n",
       "      <td>1</td>\n",
       "      <td>1</td>\n",
       "      <td>1</td>\n",
       "      <td>0</td>\n",
       "      <td>0</td>\n",
       "    </tr>\n",
       "    <tr>\n",
       "      <th>1813</th>\n",
       "      <td>-0.046266</td>\n",
       "      <td>0.004244</td>\n",
       "      <td>-0.046465</td>\n",
       "      <td>-0.378710</td>\n",
       "      <td>-0.037250</td>\n",
       "      <td>0</td>\n",
       "      <td>0</td>\n",
       "      <td>0</td>\n",
       "      <td>0</td>\n",
       "      <td>0</td>\n",
       "      <td>0</td>\n",
       "      <td>0</td>\n",
       "      <td>0</td>\n",
       "      <td>0</td>\n",
       "    </tr>\n",
       "    <tr>\n",
       "      <th>656</th>\n",
       "      <td>0.318935</td>\n",
       "      <td>-0.256525</td>\n",
       "      <td>-0.248516</td>\n",
       "      <td>0.248312</td>\n",
       "      <td>-0.122907</td>\n",
       "      <td>0</td>\n",
       "      <td>0</td>\n",
       "      <td>0</td>\n",
       "      <td>0</td>\n",
       "      <td>0</td>\n",
       "      <td>1</td>\n",
       "      <td>0</td>\n",
       "      <td>0</td>\n",
       "      <td>1</td>\n",
       "    </tr>\n",
       "  </tbody>\n",
       "</table>\n",
       "<p>2713 rows × 14 columns</p>\n",
       "</div>"
      ],
      "text/plain": [
       "             0         1         2         3         4  Status_Cust_E  \\\n",
       "3151  0.498424  0.560834 -0.356568  0.025425  0.170171              0   \n",
       "1698  0.532669  0.427246 -0.027174  0.013738 -0.022153              0   \n",
       "2327 -0.110876  0.181669  0.226805 -0.082678  0.054474              0   \n",
       "721  -0.317138  0.172405  0.175564  0.039569  0.004751              0   \n",
       "811   0.343579 -0.140567 -0.086577 -0.039276  0.049319              0   \n",
       "...        ...       ...       ...       ...       ...            ...   \n",
       "1403  0.676903 -0.201574  0.238274  0.090082  0.239506              0   \n",
       "2424 -0.129955  0.127961 -0.049951 -0.009276 -0.266221              0   \n",
       "2788  0.293739 -0.189720 -0.297960  0.139327  0.262743              0   \n",
       "1813 -0.046266  0.004244 -0.046465 -0.378710 -0.037250              0   \n",
       "656   0.318935 -0.256525 -0.248516  0.248312 -0.122907              0   \n",
       "\n",
       "      Status_Cust_F  Status_Cust_L  Status_Cust_N  Status_Cust_S  \\\n",
       "3151              0              0              0              1   \n",
       "1698              0              0              0              1   \n",
       "2327              0              0              0              0   \n",
       "721               0              0              0              0   \n",
       "811               0              0              0              1   \n",
       "...             ...            ...            ...            ...   \n",
       "1403              0              0              0              1   \n",
       "2424              0              0              0              0   \n",
       "2788              0              0              0              1   \n",
       "1813              0              0              0              0   \n",
       "656               0              0              0              0   \n",
       "\n",
       "      Status_Latest_Ad_1  Gender_M  Gender_U  Cust_Prop_U  \n",
       "3151                   1         0         0            1  \n",
       "1698                   1         0         0            0  \n",
       "2327                   0         1         0            0  \n",
       "721                    1         0         0            0  \n",
       "811                    1         1         0            0  \n",
       "...                  ...       ...       ...          ...  \n",
       "1403                   1         0         0            1  \n",
       "2424                   0         0         1            1  \n",
       "2788                   1         1         0            0  \n",
       "1813                   0         0         0            0  \n",
       "656                    1         0         0            1  \n",
       "\n",
       "[2713 rows x 14 columns]"
      ]
     },
     "execution_count": 248,
     "metadata": {},
     "output_type": "execute_result"
    }
   ],
   "source": [
    "X_train_pca"
   ]
  },
  {
   "cell_type": "code",
   "execution_count": 249,
   "metadata": {},
   "outputs": [
    {
     "data": {
      "text/plain": [
       "(pandas.core.frame.DataFrame,\n",
       " pandas.core.frame.DataFrame,\n",
       " pandas.core.frame.DataFrame,\n",
       " pandas.core.frame.DataFrame)"
      ]
     },
     "execution_count": 249,
     "metadata": {},
     "output_type": "execute_result"
    }
   ],
   "source": [
    "type(X_train_pca), type(X_test_pca), type(PCA_train), type(X_train)"
   ]
  },
  {
   "cell_type": "code",
   "execution_count": 250,
   "metadata": {},
   "outputs": [
    {
     "data": {
      "text/plain": [
       "(2713, 14)"
      ]
     },
     "execution_count": 250,
     "metadata": {},
     "output_type": "execute_result"
    }
   ],
   "source": [
    "X_train_pca.shape"
   ]
  },
  {
   "cell_type": "markdown",
   "metadata": {},
   "source": [
    "# 7. Objective 1: Machine Learning\n",
    "    \n",
    "**1. Design a predictive model to determine the potential customers who will purchase if you send the advertisement .** The target variable is `Potential_Customer`. \n",
    "\n",
    "    **Attention:** Because the column `Cust_Last_Purchase` relates to the target variable `Potential_Customer`, you need to exclude it from your model.\n",
    "\n",
    "\n",
    "Apply various ML algorithms on the data, evaluate them after Grid Search and Cross Validation, and choose the best model."
   ]
  },
  {
   "cell_type": "code",
   "execution_count": 251,
   "metadata": {},
   "outputs": [
    {
     "data": {
      "text/plain": [
       "{'n_neighbors': 17, 'p': 1, 'weights': 'uniform'}"
      ]
     },
     "execution_count": 251,
     "metadata": {},
     "output_type": "execute_result"
    }
   ],
   "source": [
    "from sklearn.model_selection import GridSearchCV\n",
    "\n",
    "param_grid = {'n_neighbors': np.arange(1, 20),\n",
    "              'p': [1,2],\n",
    "              'weights': ['uniform','distance']}\n",
    "\n",
    "\n",
    "grid = GridSearchCV(KNeighborsClassifier(), \n",
    "                    param_grid, scoring='precision_macro',\n",
    "                    cv=10)\n",
    "\n",
    "grid.fit(X_train_pca, y_train)\n",
    "grid.best_params_"
   ]
  },
  {
   "cell_type": "code",
   "execution_count": 219,
   "metadata": {},
   "outputs": [
    {
     "data": {
      "text/plain": [
       "KNeighborsClassifier(n_neighbors=9, weights='distance')"
      ]
     },
     "execution_count": 219,
     "metadata": {},
     "output_type": "execute_result"
    }
   ],
   "source": [
    "model = grid.best_estimator_\n",
    "model"
   ]
  },
  {
   "cell_type": "code",
   "execution_count": 228,
   "metadata": {
    "scrolled": false
   },
   "outputs": [],
   "source": [
    "model.fit(X_train_pca,y_train)\n",
    "y_pred = model.predict(X_test_pca)"
   ]
  },
  {
   "cell_type": "code",
   "execution_count": 229,
   "metadata": {},
   "outputs": [
    {
     "name": "stdout",
     "output_type": "stream",
     "text": [
      "classification_report:\n",
      "               precision    recall  f1-score   support\n",
      "\n",
      "           0       0.53      0.56      0.55       471\n",
      "           1       0.50      0.47      0.48       434\n",
      "\n",
      "    accuracy                           0.52       905\n",
      "   macro avg       0.52      0.52      0.51       905\n",
      "weighted avg       0.52      0.52      0.52       905\n",
      "\n"
     ]
    },
    {
     "data": {
      "text/plain": [
       "array([[266, 205],\n",
       "       [232, 202]])"
      ]
     },
     "execution_count": 229,
     "metadata": {},
     "output_type": "execute_result"
    }
   ],
   "source": [
    "from sklearn.metrics import precision_score, recall_score, f1_score, confusion_matrix, classification_report\n",
    "\n",
    "print('classification_report:\\n',classification_report(y_test, y_pred))\n",
    "confusion_matrix(y_test, y_pred)"
   ]
  },
  {
   "cell_type": "code",
   "execution_count": 134,
   "metadata": {},
   "outputs": [
    {
     "name": "stdout",
     "output_type": "stream",
     "text": [
      "classification_report:\n",
      "               precision    recall  f1-score   support\n",
      "\n",
      "           0       0.57      0.63      0.60       471\n",
      "           1       0.54      0.48      0.51       434\n",
      "\n",
      "    accuracy                           0.56       905\n",
      "   macro avg       0.56      0.55      0.55       905\n",
      "weighted avg       0.56      0.56      0.55       905\n",
      "\n"
     ]
    },
    {
     "data": {
      "text/plain": [
       "array([[297, 174],\n",
       "       [227, 207]])"
      ]
     },
     "execution_count": 134,
     "metadata": {},
     "output_type": "execute_result"
    }
   ],
   "source": [
    "model = LogisticRegression()\n",
    "\n",
    "model.fit(X_train,y_train)\n",
    "y_pred = model.predict(X_test)\n",
    "\n",
    "print('classification_report:\\n',classification_report(y_test, y_pred))\n",
    "confusion_matrix(y_test, y_pred)"
   ]
  },
  {
   "cell_type": "code",
   "execution_count": 192,
   "metadata": {},
   "outputs": [],
   "source": [
    "from sklearn.svm import SVC\n",
    "from sklearn.linear_model import LogisticRegression\n",
    "from sklearn.tree import DecisionTreeClassifier\n",
    "from sklearn.naive_bayes import GaussianNB\n",
    "from sklearn.neighbors import KNeighborsClassifier\n",
    "from sklearn import metrics\n",
    "from sklearn.metrics import confusion_matrix"
   ]
  },
  {
   "cell_type": "code",
   "execution_count": 252,
   "metadata": {},
   "outputs": [],
   "source": [
    "svc = SVC(kernel='linear')\n",
    "lr = LogisticRegression(solver='saga',multi_class='auto',max_iter=550, fit_intercept=True )\n",
    "knn = KNeighborsClassifier(n_neighbors=7)\n",
    "nb = GaussianNB()\n",
    "dt = DecisionTreeClassifier(max_depth=80)\n",
    "\n",
    "models=['lr', 'svc', 'knn', 'nb', 'dt']"
   ]
  },
  {
   "cell_type": "code",
   "execution_count": null,
   "metadata": {},
   "outputs": [],
   "source": []
  },
  {
   "cell_type": "code",
   "execution_count": 253,
   "metadata": {},
   "outputs": [
    {
     "name": "stdout",
     "output_type": "stream",
     "text": [
      "*****lr with PCA *****\n",
      "**************\n",
      "lr with PCA: Accuracy  0.5337016574585636\n",
      "**************\n",
      "lr with PCA Confusion Matrix:\n",
      "[[281 190]\n",
      " [232 202]]\n",
      "**************\n",
      "lr with PCA Classification Report:\n",
      "              precision    recall  f1-score   support\n",
      "\n",
      "           0       0.55      0.60      0.57       471\n",
      "           1       0.52      0.47      0.49       434\n",
      "\n",
      "    accuracy                           0.53       905\n",
      "   macro avg       0.53      0.53      0.53       905\n",
      "weighted avg       0.53      0.53      0.53       905\n",
      "\n",
      "**************\n",
      "*****svc with PCA *****\n",
      "**************\n",
      "svc with PCA: Accuracy  0.5392265193370166\n",
      "**************\n",
      "svc with PCA Confusion Matrix:\n",
      "[[215 256]\n",
      " [161 273]]\n",
      "**************\n",
      "svc with PCA Classification Report:\n",
      "              precision    recall  f1-score   support\n",
      "\n",
      "           0       0.57      0.46      0.51       471\n",
      "           1       0.52      0.63      0.57       434\n",
      "\n",
      "    accuracy                           0.54       905\n",
      "   macro avg       0.54      0.54      0.54       905\n",
      "weighted avg       0.55      0.54      0.54       905\n",
      "\n",
      "**************\n",
      "*****knn with PCA *****\n",
      "**************\n",
      "knn with PCA: Accuracy  0.518232044198895\n",
      "**************\n",
      "knn with PCA Confusion Matrix:\n",
      "[[278 193]\n",
      " [243 191]]\n",
      "**************\n",
      "knn with PCA Classification Report:\n",
      "              precision    recall  f1-score   support\n",
      "\n",
      "           0       0.53      0.59      0.56       471\n",
      "           1       0.50      0.44      0.47       434\n",
      "\n",
      "    accuracy                           0.52       905\n",
      "   macro avg       0.52      0.52      0.51       905\n",
      "weighted avg       0.52      0.52      0.52       905\n",
      "\n",
      "**************\n",
      "*****nb with PCA *****\n",
      "**************\n",
      "nb with PCA: Accuracy  0.5425414364640884\n",
      "**************\n",
      "nb with PCA Confusion Matrix:\n",
      "[[185 286]\n",
      " [128 306]]\n",
      "**************\n",
      "nb with PCA Classification Report:\n",
      "              precision    recall  f1-score   support\n",
      "\n",
      "           0       0.59      0.39      0.47       471\n",
      "           1       0.52      0.71      0.60       434\n",
      "\n",
      "    accuracy                           0.54       905\n",
      "   macro avg       0.55      0.55      0.53       905\n",
      "weighted avg       0.56      0.54      0.53       905\n",
      "\n",
      "**************\n",
      "*****dt with PCA *****\n",
      "**************\n",
      "dt with PCA: Accuracy  0.4972375690607735\n",
      "**************\n",
      "dt with PCA Confusion Matrix:\n",
      "[[243 228]\n",
      " [227 207]]\n",
      "**************\n",
      "dt with PCA Classification Report:\n",
      "              precision    recall  f1-score   support\n",
      "\n",
      "           0       0.52      0.52      0.52       471\n",
      "           1       0.48      0.48      0.48       434\n",
      "\n",
      "    accuracy                           0.50       905\n",
      "   macro avg       0.50      0.50      0.50       905\n",
      "weighted avg       0.50      0.50      0.50       905\n",
      "\n",
      "**************\n"
     ]
    }
   ],
   "source": [
    "for i in range(len(models)):\n",
    "    eval(models[i]).fit(X_train_pca, y_train)\n",
    "    y_pred_pca=eval(models[i]).predict(X_test_pca)\n",
    "    print('*****'+ models[i]+' with PCA *****')\n",
    "    print('**************')\n",
    "    print( models[i]+' with PCA: Accuracy ',eval(models[i]).score(X_test_pca, y_test))\n",
    "    print('**************')\n",
    "    print(models[i]+' with PCA Confusion Matrix:')\n",
    "    print(confusion_matrix(y_test, y_pred_pca))\n",
    "    print('**************')\n",
    "    print(models[i]+' with PCA Classification Report:')\n",
    "    print(metrics.classification_report(y_test, y_pred_pca)) \n",
    "    print('**************')\n",
    "    #print(models[i]+' with PCA Confusion Matrix:')\n",
    "    mat = confusion_matrix(y_test, y_pred_pca)\n",
    "    #sns.heatmap(mat.T, square=True, annot=True, fmt='d', cbar=False,\n",
    "             #xticklabels = data.Potential_Customer, yticklabels=data.Potential_Customer)\n",
    "    #plt.xlabel('true label')\n",
    "    #plt.ylabel('predicted label')\n",
    "    #plt.show()\n",
    "    del(mat)"
   ]
  },
  {
   "cell_type": "markdown",
   "metadata": {},
   "source": [
    "# 8. Objective 2\n",
    "\n",
    "**2. Calculate the value and the revenue of your model.** Fit your model on train set. Assume amonge the customers on your test set we only send advertisement to those your model predicted as Class1 and we ignore the rest. From the data you can calculate the average `Cust_Last_Purchase` for those who are in the train set and had the last purchase (`Cust_Last_Purchase`>0) . Assume sending advertisement to each customer costs 5$ and the average purchase you calculated on the train set remains the same for the test set. Calculate the value of your models to choose the best model.\n",
    "\n",
    "    - cost = advertisement_cost * number of the predicted positive\n",
    "    - lost = average_purchase * number of the predicted negative but they have been positive\n",
    "    - gain = average_purchase * number of the predicted positive and they have been positive\n",
    "    - value = gain - lost - cost\n",
    "    - revenue = gain - cost"
   ]
  },
  {
   "cell_type": "code",
   "execution_count": 237,
   "metadata": {},
   "outputs": [
    {
     "data": {
      "text/plain": [
       "Index(['Total_pur_3_years_Ind', 'Total_pur_5_years', 'Total_pur_3_years',\n",
       "       'Pur_5_years_Indirect', 'Pur_latest', 'InAct_Last', 'InAct_First',\n",
       "       'Ad_Res_1_year', 'Ad_Res_3_Year', 'Ad_Res_5_Year', 'Ad_Res_Ind_1_Year',\n",
       "       'Ad_Res_Ind_3_Year', 'Ad_Res_Ind_5_Year', 'Age', 'Cust_Ann_Income',\n",
       "       'Status_Cust_E', 'Status_Cust_F', 'Status_Cust_L', 'Status_Cust_N',\n",
       "       'Status_Cust_S', 'Status_Latest_Ad_1', 'Gender_M', 'Gender_U',\n",
       "       'Cust_Prop_U'],\n",
       "      dtype='object')"
      ]
     },
     "execution_count": 237,
     "metadata": {},
     "output_type": "execute_result"
    }
   ],
   "source": [
    "X.columns"
   ]
  },
  {
   "cell_type": "code",
   "execution_count": null,
   "metadata": {},
   "outputs": [],
   "source": [
    "[[193 278]\n",
    " [128 306]]"
   ]
  },
  {
   "cell_type": "code",
   "execution_count": 401,
   "metadata": {},
   "outputs": [
    {
     "data": {
      "text/plain": [
       "1576.5195852534562"
      ]
     },
     "execution_count": 401,
     "metadata": {},
     "output_type": "execute_result"
    }
   ],
   "source": [
    "# 193 is the TP for naive bayes classifier\n",
    "cost = 5*(306+278) #TP + FP\n",
    "lost = avg_pur * 128\n",
    "gain = avg_pur * 306\n",
    "value = gain - lost - cost\n",
    "revenue = gain - cost\n",
    "revenue"
   ]
  },
  {
   "cell_type": "markdown",
   "metadata": {},
   "source": [
    "# 9. Objective 3\n",
    "    \n",
    "**3. Compare your best models' revenue with the revenue of the default solution which is sending advertisement to all the customers in X_test.** Which solution would you choose?\n",
    "\n",
    "    - cost = advertisement_cost * size of the test set\n",
    "    - gain = sum(Cust_Last_Purchase) on test set\n",
    "    - revenue = gain - cost\n",
    "\n"
   ]
  },
  {
   "cell_type": "code",
   "execution_count": 342,
   "metadata": {},
   "outputs": [
    {
     "data": {
      "text/plain": [
       "(905, 24)"
      ]
     },
     "execution_count": 342,
     "metadata": {},
     "output_type": "execute_result"
    }
   ],
   "source": [
    "X_test.shape"
   ]
  },
  {
   "cell_type": "code",
   "execution_count": 343,
   "metadata": {},
   "outputs": [
    {
     "data": {
      "text/plain": [
       "(905, 14)"
      ]
     },
     "execution_count": 343,
     "metadata": {},
     "output_type": "execute_result"
    }
   ],
   "source": [
    "X_test_pca.shape"
   ]
  },
  {
   "cell_type": "code",
   "execution_count": 350,
   "metadata": {},
   "outputs": [
    {
     "data": {
      "text/html": [
       "<div>\n",
       "<style scoped>\n",
       "    .dataframe tbody tr th:only-of-type {\n",
       "        vertical-align: middle;\n",
       "    }\n",
       "\n",
       "    .dataframe tbody tr th {\n",
       "        vertical-align: top;\n",
       "    }\n",
       "\n",
       "    .dataframe thead th {\n",
       "        text-align: right;\n",
       "    }\n",
       "</style>\n",
       "<table border=\"1\" class=\"dataframe\">\n",
       "  <thead>\n",
       "    <tr style=\"text-align: right;\">\n",
       "      <th></th>\n",
       "      <th>Total_pur_3_years_Ind</th>\n",
       "      <th>Total_pur_5_years</th>\n",
       "      <th>Total_pur_3_years</th>\n",
       "      <th>Pur_5_years_Indirect</th>\n",
       "      <th>Pur_latest</th>\n",
       "      <th>InAct_Last</th>\n",
       "      <th>InAct_First</th>\n",
       "      <th>Ad_Res_1_year</th>\n",
       "      <th>Ad_Res_3_Year</th>\n",
       "      <th>Ad_Res_5_Year</th>\n",
       "      <th>...</th>\n",
       "      <th>Cust_Ann_Income</th>\n",
       "      <th>Status_Cust_E</th>\n",
       "      <th>Status_Cust_F</th>\n",
       "      <th>Status_Cust_L</th>\n",
       "      <th>Status_Cust_N</th>\n",
       "      <th>Status_Cust_S</th>\n",
       "      <th>Status_Latest_Ad_1</th>\n",
       "      <th>Gender_M</th>\n",
       "      <th>Gender_U</th>\n",
       "      <th>Cust_Prop_U</th>\n",
       "    </tr>\n",
       "  </thead>\n",
       "  <tbody>\n",
       "    <tr>\n",
       "      <th>1024</th>\n",
       "      <td>33.00</td>\n",
       "      <td>86.04</td>\n",
       "      <td>58.02</td>\n",
       "      <td>6.0</td>\n",
       "      <td>11.0</td>\n",
       "      <td>16.0</td>\n",
       "      <td>115.0</td>\n",
       "      <td>11.0</td>\n",
       "      <td>25.0</td>\n",
       "      <td>43.0</td>\n",
       "      <td>...</td>\n",
       "      <td>44789.0</td>\n",
       "      <td>0</td>\n",
       "      <td>0</td>\n",
       "      <td>0</td>\n",
       "      <td>0</td>\n",
       "      <td>0</td>\n",
       "      <td>1</td>\n",
       "      <td>0</td>\n",
       "      <td>1</td>\n",
       "      <td>1</td>\n",
       "    </tr>\n",
       "    <tr>\n",
       "      <th>3531</th>\n",
       "      <td>20.00</td>\n",
       "      <td>69.04</td>\n",
       "      <td>45.00</td>\n",
       "      <td>4.0</td>\n",
       "      <td>15.0</td>\n",
       "      <td>18.0</td>\n",
       "      <td>56.0</td>\n",
       "      <td>13.0</td>\n",
       "      <td>33.0</td>\n",
       "      <td>44.0</td>\n",
       "      <td>...</td>\n",
       "      <td>46901.0</td>\n",
       "      <td>0</td>\n",
       "      <td>0</td>\n",
       "      <td>0</td>\n",
       "      <td>0</td>\n",
       "      <td>1</td>\n",
       "      <td>1</td>\n",
       "      <td>0</td>\n",
       "      <td>0</td>\n",
       "      <td>1</td>\n",
       "    </tr>\n",
       "    <tr>\n",
       "      <th>1992</th>\n",
       "      <td>35.00</td>\n",
       "      <td>71.01</td>\n",
       "      <td>59.01</td>\n",
       "      <td>5.0</td>\n",
       "      <td>10.0</td>\n",
       "      <td>17.0</td>\n",
       "      <td>41.0</td>\n",
       "      <td>12.0</td>\n",
       "      <td>31.0</td>\n",
       "      <td>33.0</td>\n",
       "      <td>...</td>\n",
       "      <td>49219.0</td>\n",
       "      <td>0</td>\n",
       "      <td>0</td>\n",
       "      <td>0</td>\n",
       "      <td>0</td>\n",
       "      <td>1</td>\n",
       "      <td>1</td>\n",
       "      <td>0</td>\n",
       "      <td>0</td>\n",
       "      <td>0</td>\n",
       "    </tr>\n",
       "    <tr>\n",
       "      <th>1875</th>\n",
       "      <td>36.00</td>\n",
       "      <td>72.00</td>\n",
       "      <td>36.00</td>\n",
       "      <td>4.0</td>\n",
       "      <td>21.0</td>\n",
       "      <td>16.0</td>\n",
       "      <td>68.0</td>\n",
       "      <td>14.0</td>\n",
       "      <td>32.0</td>\n",
       "      <td>52.0</td>\n",
       "      <td>...</td>\n",
       "      <td>60483.0</td>\n",
       "      <td>0</td>\n",
       "      <td>0</td>\n",
       "      <td>0</td>\n",
       "      <td>0</td>\n",
       "      <td>0</td>\n",
       "      <td>0</td>\n",
       "      <td>1</td>\n",
       "      <td>0</td>\n",
       "      <td>0</td>\n",
       "    </tr>\n",
       "    <tr>\n",
       "      <th>243</th>\n",
       "      <td>80.00</td>\n",
       "      <td>115.01</td>\n",
       "      <td>105.00</td>\n",
       "      <td>5.0</td>\n",
       "      <td>20.0</td>\n",
       "      <td>16.0</td>\n",
       "      <td>41.0</td>\n",
       "      <td>15.0</td>\n",
       "      <td>35.0</td>\n",
       "      <td>40.0</td>\n",
       "      <td>...</td>\n",
       "      <td>0.0</td>\n",
       "      <td>0</td>\n",
       "      <td>0</td>\n",
       "      <td>0</td>\n",
       "      <td>0</td>\n",
       "      <td>1</td>\n",
       "      <td>1</td>\n",
       "      <td>1</td>\n",
       "      <td>0</td>\n",
       "      <td>1</td>\n",
       "    </tr>\n",
       "    <tr>\n",
       "      <th>...</th>\n",
       "      <td>...</td>\n",
       "      <td>...</td>\n",
       "      <td>...</td>\n",
       "      <td>...</td>\n",
       "      <td>...</td>\n",
       "      <td>...</td>\n",
       "      <td>...</td>\n",
       "      <td>...</td>\n",
       "      <td>...</td>\n",
       "      <td>...</td>\n",
       "      <td>...</td>\n",
       "      <td>...</td>\n",
       "      <td>...</td>\n",
       "      <td>...</td>\n",
       "      <td>...</td>\n",
       "      <td>...</td>\n",
       "      <td>...</td>\n",
       "      <td>...</td>\n",
       "      <td>...</td>\n",
       "      <td>...</td>\n",
       "      <td>...</td>\n",
       "    </tr>\n",
       "    <tr>\n",
       "      <th>1709</th>\n",
       "      <td>19.00</td>\n",
       "      <td>41.00</td>\n",
       "      <td>41.00</td>\n",
       "      <td>2.0</td>\n",
       "      <td>10.0</td>\n",
       "      <td>18.0</td>\n",
       "      <td>31.0</td>\n",
       "      <td>12.0</td>\n",
       "      <td>25.0</td>\n",
       "      <td>25.0</td>\n",
       "      <td>...</td>\n",
       "      <td>38328.0</td>\n",
       "      <td>0</td>\n",
       "      <td>0</td>\n",
       "      <td>0</td>\n",
       "      <td>0</td>\n",
       "      <td>0</td>\n",
       "      <td>0</td>\n",
       "      <td>0</td>\n",
       "      <td>0</td>\n",
       "      <td>0</td>\n",
       "    </tr>\n",
       "    <tr>\n",
       "      <th>3413</th>\n",
       "      <td>25.00</td>\n",
       "      <td>25.00</td>\n",
       "      <td>25.00</td>\n",
       "      <td>1.0</td>\n",
       "      <td>25.0</td>\n",
       "      <td>24.0</td>\n",
       "      <td>24.0</td>\n",
       "      <td>9.0</td>\n",
       "      <td>19.0</td>\n",
       "      <td>17.0</td>\n",
       "      <td>...</td>\n",
       "      <td>28646.0</td>\n",
       "      <td>0</td>\n",
       "      <td>0</td>\n",
       "      <td>0</td>\n",
       "      <td>1</td>\n",
       "      <td>0</td>\n",
       "      <td>0</td>\n",
       "      <td>0</td>\n",
       "      <td>0</td>\n",
       "      <td>0</td>\n",
       "    </tr>\n",
       "    <tr>\n",
       "      <th>1407</th>\n",
       "      <td>20.00</td>\n",
       "      <td>118.95</td>\n",
       "      <td>35.00</td>\n",
       "      <td>8.0</td>\n",
       "      <td>10.0</td>\n",
       "      <td>16.0</td>\n",
       "      <td>98.0</td>\n",
       "      <td>15.0</td>\n",
       "      <td>33.0</td>\n",
       "      <td>64.0</td>\n",
       "      <td>...</td>\n",
       "      <td>0.0</td>\n",
       "      <td>0</td>\n",
       "      <td>0</td>\n",
       "      <td>0</td>\n",
       "      <td>0</td>\n",
       "      <td>0</td>\n",
       "      <td>1</td>\n",
       "      <td>0</td>\n",
       "      <td>0</td>\n",
       "      <td>1</td>\n",
       "    </tr>\n",
       "    <tr>\n",
       "      <th>3336</th>\n",
       "      <td>32.01</td>\n",
       "      <td>81.00</td>\n",
       "      <td>57.00</td>\n",
       "      <td>5.0</td>\n",
       "      <td>12.0</td>\n",
       "      <td>17.0</td>\n",
       "      <td>53.0</td>\n",
       "      <td>15.0</td>\n",
       "      <td>33.0</td>\n",
       "      <td>55.0</td>\n",
       "      <td>...</td>\n",
       "      <td>80946.0</td>\n",
       "      <td>0</td>\n",
       "      <td>0</td>\n",
       "      <td>0</td>\n",
       "      <td>0</td>\n",
       "      <td>0</td>\n",
       "      <td>0</td>\n",
       "      <td>1</td>\n",
       "      <td>0</td>\n",
       "      <td>0</td>\n",
       "    </tr>\n",
       "    <tr>\n",
       "      <th>3417</th>\n",
       "      <td>27.00</td>\n",
       "      <td>57.00</td>\n",
       "      <td>36.99</td>\n",
       "      <td>4.0</td>\n",
       "      <td>15.0</td>\n",
       "      <td>22.0</td>\n",
       "      <td>45.0</td>\n",
       "      <td>12.0</td>\n",
       "      <td>31.0</td>\n",
       "      <td>36.0</td>\n",
       "      <td>...</td>\n",
       "      <td>81514.0</td>\n",
       "      <td>0</td>\n",
       "      <td>0</td>\n",
       "      <td>0</td>\n",
       "      <td>0</td>\n",
       "      <td>0</td>\n",
       "      <td>1</td>\n",
       "      <td>0</td>\n",
       "      <td>0</td>\n",
       "      <td>1</td>\n",
       "    </tr>\n",
       "  </tbody>\n",
       "</table>\n",
       "<p>905 rows × 24 columns</p>\n",
       "</div>"
      ],
      "text/plain": [
       "      Total_pur_3_years_Ind  Total_pur_5_years  Total_pur_3_years  \\\n",
       "1024                  33.00              86.04              58.02   \n",
       "3531                  20.00              69.04              45.00   \n",
       "1992                  35.00              71.01              59.01   \n",
       "1875                  36.00              72.00              36.00   \n",
       "243                   80.00             115.01             105.00   \n",
       "...                     ...                ...                ...   \n",
       "1709                  19.00              41.00              41.00   \n",
       "3413                  25.00              25.00              25.00   \n",
       "1407                  20.00             118.95              35.00   \n",
       "3336                  32.01              81.00              57.00   \n",
       "3417                  27.00              57.00              36.99   \n",
       "\n",
       "      Pur_5_years_Indirect  Pur_latest  InAct_Last  InAct_First  \\\n",
       "1024                   6.0        11.0        16.0        115.0   \n",
       "3531                   4.0        15.0        18.0         56.0   \n",
       "1992                   5.0        10.0        17.0         41.0   \n",
       "1875                   4.0        21.0        16.0         68.0   \n",
       "243                    5.0        20.0        16.0         41.0   \n",
       "...                    ...         ...         ...          ...   \n",
       "1709                   2.0        10.0        18.0         31.0   \n",
       "3413                   1.0        25.0        24.0         24.0   \n",
       "1407                   8.0        10.0        16.0         98.0   \n",
       "3336                   5.0        12.0        17.0         53.0   \n",
       "3417                   4.0        15.0        22.0         45.0   \n",
       "\n",
       "      Ad_Res_1_year  Ad_Res_3_Year  Ad_Res_5_Year  ...  Cust_Ann_Income  \\\n",
       "1024           11.0           25.0           43.0  ...          44789.0   \n",
       "3531           13.0           33.0           44.0  ...          46901.0   \n",
       "1992           12.0           31.0           33.0  ...          49219.0   \n",
       "1875           14.0           32.0           52.0  ...          60483.0   \n",
       "243            15.0           35.0           40.0  ...              0.0   \n",
       "...             ...            ...            ...  ...              ...   \n",
       "1709           12.0           25.0           25.0  ...          38328.0   \n",
       "3413            9.0           19.0           17.0  ...          28646.0   \n",
       "1407           15.0           33.0           64.0  ...              0.0   \n",
       "3336           15.0           33.0           55.0  ...          80946.0   \n",
       "3417           12.0           31.0           36.0  ...          81514.0   \n",
       "\n",
       "      Status_Cust_E  Status_Cust_F  Status_Cust_L  Status_Cust_N  \\\n",
       "1024              0              0              0              0   \n",
       "3531              0              0              0              0   \n",
       "1992              0              0              0              0   \n",
       "1875              0              0              0              0   \n",
       "243               0              0              0              0   \n",
       "...             ...            ...            ...            ...   \n",
       "1709              0              0              0              0   \n",
       "3413              0              0              0              1   \n",
       "1407              0              0              0              0   \n",
       "3336              0              0              0              0   \n",
       "3417              0              0              0              0   \n",
       "\n",
       "      Status_Cust_S  Status_Latest_Ad_1  Gender_M  Gender_U  Cust_Prop_U  \n",
       "1024              0                   1         0         1            1  \n",
       "3531              1                   1         0         0            1  \n",
       "1992              1                   1         0         0            0  \n",
       "1875              0                   0         1         0            0  \n",
       "243               1                   1         1         0            1  \n",
       "...             ...                 ...       ...       ...          ...  \n",
       "1709              0                   0         0         0            0  \n",
       "3413              0                   0         0         0            0  \n",
       "1407              0                   1         0         0            1  \n",
       "3336              0                   0         1         0            0  \n",
       "3417              0                   1         0         0            1  \n",
       "\n",
       "[905 rows x 24 columns]"
      ]
     },
     "execution_count": 350,
     "metadata": {},
     "output_type": "execute_result"
    }
   ],
   "source": [
    "X_test"
   ]
  },
  {
   "cell_type": "code",
   "execution_count": 404,
   "metadata": {},
   "outputs": [
    {
     "data": {
      "text/plain": [
       "14607.25"
      ]
     },
     "execution_count": 404,
     "metadata": {},
     "output_type": "execute_result"
    }
   ],
   "source": [
    "cost = 905*5\n",
    "gain = sum(data[(data.index.isin(X_train.index))&(data.Cust_Last_Purchase>0)]['Cust_Last_Purchase'])\n",
    "revenue = gain - cost\n",
    "revenue"
   ]
  },
  {
   "cell_type": "code",
   "execution_count": null,
   "metadata": {},
   "outputs": [],
   "source": []
  },
  {
   "cell_type": "code",
   "execution_count": null,
   "metadata": {},
   "outputs": [],
   "source": []
  },
  {
   "cell_type": "markdown",
   "metadata": {},
   "source": [
    "# 10. Objective 4\n",
    "    \n",
    "**4. Assume the next time you want to target a group of 30,000 customers simillar to this group. And assume the purchase rate is $10%$ which means 10 out of 100 people who receive the advertisement will purchase the product. Also assume your model will have the same Precision and Recall for Class1 .** Will you send the advertisement to everyone, or you use one of the models you have already created?\n",
    "\n",
    "    - calculate your model's revenue on this set of 30,000 customers based on the above assumptions\n",
    "    - calculate the revenue of the default model: send advertisement to everyone\n",
    "         - cost = advertisement_cost * size of the test set\n",
    "         - gain = average_purchase * purchase_rate\n",
    "         - revenue = gain - cost\n",
    "    \n",
    "**Hint:**\n",
    "    To calculate the revenue of a model for this new set of customers with different purchase rate we need to calculate the new confusion matrix given Precision and Recall for Class1 are fixed."
   ]
  },
  {
   "cell_type": "code",
   "execution_count": 419,
   "metadata": {},
   "outputs": [
    {
     "data": {
      "text/plain": [
       "-105916.47465437787"
      ]
     },
     "execution_count": 419,
     "metadata": {},
     "output_type": "execute_result"
    }
   ],
   "source": [
    "# default model: ads to all\n",
    "cost = 5*30000\n",
    "gain = 3000*avg_pur\n",
    "revenue = gain - cost\n",
    "revenue\n"
   ]
  },
  {
   "cell_type": "code",
   "execution_count": 406,
   "metadata": {},
   "outputs": [
    {
     "name": "stdout",
     "output_type": "stream",
     "text": [
      "*****nb with PCA *****\n",
      "**************\n",
      "nb with PCA: Accuracy  0.5337016574585636\n",
      "**************\n",
      "nb with PCA Confusion Matrix:\n",
      "[[185 286]\n",
      " [128 306]]\n",
      "**************\n",
      "nb with PCA Classification Report:\n",
      "              precision    recall  f1-score   support\n",
      "\n",
      "           0       0.59      0.39      0.47       471\n",
      "           1       0.52      0.71      0.60       434\n",
      "\n",
      "    accuracy                           0.54       905\n",
      "   macro avg       0.55      0.55      0.53       905\n",
      "weighted avg       0.56      0.54      0.53       905\n",
      "\n",
      "**************\n"
     ]
    }
   ],
   "source": [
    "model = ['nb']\n",
    "for i in range(len(model)):\n",
    "    eval(model[i]).fit(X_train_pca, y_train)\n",
    "    y_pred_pca=eval(model[i]).predict(X_test_pca)\n",
    "    print('*****'+ model[i]+' with PCA *****')\n",
    "    print('**************')\n",
    "    print( model[i]+' with PCA: Accuracy ',eval(models[i]).score(X_test_pca, y_test))\n",
    "    print('**************')\n",
    "    print(model[i]+' with PCA Confusion Matrix:')\n",
    "    print(confusion_matrix(y_test, y_pred_pca))\n",
    "    print('**************')\n",
    "    print(model[i]+' with PCA Classification Report:')\n",
    "    print(metrics.classification_report(y_test, y_pred_pca)) \n",
    "    print('**************')\n",
    "    #print(models[i]+' with PCA Confusion Matrix:')\n",
    "    mat = confusion_matrix(y_test, y_pred_pca)\n",
    "    #sns.heatmap(mat.T, square=True, annot=True, fmt='d', cbar=False,\n",
    "             #xticklabels = data.Potential_Customer, yticklabels=data.Potential_Customer)\n",
    "    #plt.xlabel('true label')\n",
    "    #plt.ylabel('predicted label')\n",
    "    #plt.show()\n",
    "    del(mat)"
   ]
  },
  {
   "cell_type": "code",
   "execution_count": 414,
   "metadata": {},
   "outputs": [
    {
     "data": {
      "text/plain": [
       "2130.0"
      ]
     },
     "execution_count": 414,
     "metadata": {},
     "output_type": "execute_result"
    }
   ],
   "source": [
    "# new confusion matrix\n",
    "TP = 3000 * 0.71\n",
    "TP"
   ]
  },
  {
   "cell_type": "code",
   "execution_count": 415,
   "metadata": {},
   "outputs": [
    {
     "data": {
      "text/plain": [
       "870.0"
      ]
     },
     "execution_count": 415,
     "metadata": {},
     "output_type": "execute_result"
    }
   ],
   "source": [
    "FN = 3000 - TP\n",
    "FN"
   ]
  },
  {
   "cell_type": "code",
   "execution_count": 416,
   "metadata": {},
   "outputs": [
    {
     "data": {
      "text/plain": [
       "1966.1538461538457"
      ]
     },
     "execution_count": 416,
     "metadata": {},
     "output_type": "execute_result"
    }
   ],
   "source": [
    "FP = (TP/0.52) - TP \n",
    "FP"
   ]
  },
  {
   "cell_type": "code",
   "execution_count": 417,
   "metadata": {},
   "outputs": [
    {
     "data": {
      "text/plain": [
       "25033.846153846156"
      ]
     },
     "execution_count": 417,
     "metadata": {},
     "output_type": "execute_result"
    }
   ],
   "source": [
    "TN = 30000 - TP - FP - FN\n",
    "TN"
   ]
  },
  {
   "cell_type": "code",
   "execution_count": 418,
   "metadata": {},
   "outputs": [
    {
     "data": {
      "text/plain": [
       "16299.302995391703"
      ]
     },
     "execution_count": 418,
     "metadata": {},
     "output_type": "execute_result"
    }
   ],
   "source": [
    "# revenue for model with 30000 targets\n",
    "cost = 3000*5\n",
    "gain = avg_pur*TP\n",
    "revenue = gain - cost\n",
    "revenue"
   ]
  },
  {
   "cell_type": "code",
   "execution_count": 399,
   "metadata": {},
   "outputs": [
    {
     "data": {
      "text/plain": [
       "14.694508448540706"
      ]
     },
     "execution_count": 399,
     "metadata": {},
     "output_type": "execute_result"
    }
   ],
   "source": [
    "avg_pur = data[(data.index.isin(X_train.index))&(data.Cust_Last_Purchase>0)]['Cust_Last_Purchase'].mean()\n",
    "\n",
    "avg_pur"
   ]
  },
  {
   "cell_type": "code",
   "execution_count": null,
   "metadata": {},
   "outputs": [],
   "source": [
    "# 1. No of act class 1 = 3000 = TP + FN\n",
    "# 2. Recall = TP/TP+FN, TP = 3000*Recall\n",
    "# 3. Precision = TP/TP+FP "
   ]
  },
  {
   "cell_type": "code",
   "execution_count": 394,
   "metadata": {},
   "outputs": [],
   "source": [
    "data.Cust_Last_Purchase = data.Cust_Last_Purchase.fillna(0)"
   ]
  },
  {
   "cell_type": "code",
   "execution_count": 396,
   "metadata": {},
   "outputs": [
    {
     "name": "stdout",
     "output_type": "stream",
     "text": [
      "<class 'pandas.core.frame.DataFrame'>\n",
      "RangeIndex: 4469 entries, 0 to 4468\n",
      "Data columns (total 25 columns):\n",
      " #   Column                    Non-Null Count  Dtype  \n",
      "---  ------                    --------------  -----  \n",
      " 0   Potential_Customer        4469 non-null   int64  \n",
      " 1   C_ID                      4469 non-null   int64  \n",
      " 2   Cust_Last_Purchase        4469 non-null   object \n",
      " 3   Pur_3_years               4469 non-null   int64  \n",
      " 4   Pur_5_years               4469 non-null   int64  \n",
      " 5   Pur_3_years_Indirect      4469 non-null   int64  \n",
      " 6   Pur_5_years_Indirect      4469 non-null   int64  \n",
      " 7   Pur_latest                4469 non-null   object \n",
      " 8   Pur_3_years_Avg           4469 non-null   object \n",
      " 9   Pur_5_years_Avg           4469 non-null   object \n",
      " 10  Pur_3_years_Avg_Indirect  3642 non-null   object \n",
      " 11  InAct_Last                4469 non-null   int64  \n",
      " 12  InAct_First               4469 non-null   int64  \n",
      " 13  Ad_Res_1_year             4469 non-null   int64  \n",
      " 14  Ad_Res_3_Year             4469 non-null   int64  \n",
      " 15  Ad_Res_5_Year             4469 non-null   int64  \n",
      " 16  Ad_Res_Ind_1_Year         4469 non-null   int64  \n",
      " 17  Ad_Res_Ind_3_Year         4469 non-null   int64  \n",
      " 18  Ad_Res_Ind_5_Year         4469 non-null   int64  \n",
      " 19  Status_Cust               4469 non-null   object \n",
      " 20  Status_Latest_Ad          4469 non-null   int64  \n",
      " 21  Age                       3510 non-null   float64\n",
      " 22  Gender                    4469 non-null   object \n",
      " 23  Cust_Prop                 4469 non-null   object \n",
      " 24  Cust_Ann_Income           4469 non-null   object \n",
      "dtypes: float64(1), int64(15), object(9)\n",
      "memory usage: 873.0+ KB\n"
     ]
    }
   ],
   "source": [
    "data.info()"
   ]
  },
  {
   "cell_type": "code",
   "execution_count": 397,
   "metadata": {},
   "outputs": [],
   "source": [
    "data.Cust_Last_Purchase = data.Cust_Last_Purchase.astype('float64')"
   ]
  },
  {
   "cell_type": "code",
   "execution_count": 398,
   "metadata": {},
   "outputs": [
    {
     "name": "stdout",
     "output_type": "stream",
     "text": [
      "<class 'pandas.core.frame.DataFrame'>\n",
      "RangeIndex: 4469 entries, 0 to 4468\n",
      "Data columns (total 25 columns):\n",
      " #   Column                    Non-Null Count  Dtype  \n",
      "---  ------                    --------------  -----  \n",
      " 0   Potential_Customer        4469 non-null   int64  \n",
      " 1   C_ID                      4469 non-null   int64  \n",
      " 2   Cust_Last_Purchase        4469 non-null   float64\n",
      " 3   Pur_3_years               4469 non-null   int64  \n",
      " 4   Pur_5_years               4469 non-null   int64  \n",
      " 5   Pur_3_years_Indirect      4469 non-null   int64  \n",
      " 6   Pur_5_years_Indirect      4469 non-null   int64  \n",
      " 7   Pur_latest                4469 non-null   object \n",
      " 8   Pur_3_years_Avg           4469 non-null   object \n",
      " 9   Pur_5_years_Avg           4469 non-null   object \n",
      " 10  Pur_3_years_Avg_Indirect  3642 non-null   object \n",
      " 11  InAct_Last                4469 non-null   int64  \n",
      " 12  InAct_First               4469 non-null   int64  \n",
      " 13  Ad_Res_1_year             4469 non-null   int64  \n",
      " 14  Ad_Res_3_Year             4469 non-null   int64  \n",
      " 15  Ad_Res_5_Year             4469 non-null   int64  \n",
      " 16  Ad_Res_Ind_1_Year         4469 non-null   int64  \n",
      " 17  Ad_Res_Ind_3_Year         4469 non-null   int64  \n",
      " 18  Ad_Res_Ind_5_Year         4469 non-null   int64  \n",
      " 19  Status_Cust               4469 non-null   object \n",
      " 20  Status_Latest_Ad          4469 non-null   int64  \n",
      " 21  Age                       3510 non-null   float64\n",
      " 22  Gender                    4469 non-null   object \n",
      " 23  Cust_Prop                 4469 non-null   object \n",
      " 24  Cust_Ann_Income           4469 non-null   object \n",
      "dtypes: float64(2), int64(15), object(8)\n",
      "memory usage: 873.0+ KB\n"
     ]
    }
   ],
   "source": [
    "data.info()"
   ]
  },
  {
   "cell_type": "code",
   "execution_count": null,
   "metadata": {},
   "outputs": [],
   "source": []
  }
 ],
 "metadata": {
  "kernelspec": {
   "display_name": "Python 3 (ipykernel)",
   "language": "python",
   "name": "python3"
  },
  "language_info": {
   "codemirror_mode": {
    "name": "ipython",
    "version": 3
   },
   "file_extension": ".py",
   "mimetype": "text/x-python",
   "name": "python",
   "nbconvert_exporter": "python",
   "pygments_lexer": "ipython3",
   "version": "3.9.6"
  }
 },
 "nbformat": 4,
 "nbformat_minor": 2
}
